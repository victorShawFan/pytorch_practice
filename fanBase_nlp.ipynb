{
 "cells": [
  {
   "cell_type": "markdown",
   "id": "29d765e0-798a-43d4-aecd-c5de0d91b55a",
   "metadata": {},
   "source": [
    "# fanBase_自然语言处理"
   ]
  },
  {
   "cell_type": "markdown",
   "id": "549306e4-066e-46c2-af2a-b1442dd0f862",
   "metadata": {},
   "source": [
    "在这个notebook里面写下所有nlp子任务的一些basel medthod，ML和DL的都要有，代码越短，越简洁越好，目的在于接到任务的时候，可以快速的打下baseline，和创造pipeline"
   ]
  },
  {
   "cell_type": "markdown",
   "id": "ef7ad910-7f75-4e1b-bfea-691dfc47a59b",
   "metadata": {},
   "source": [
    "## 特征提取"
   ]
  },
  {
   "cell_type": "markdown",
   "id": "2e8cd98c-9deb-4018-aec6-abd0284c0fb3",
   "metadata": {},
   "source": [
    "### 利用本地的bert拿到词向量"
   ]
  },
  {
   "cell_type": "code",
   "execution_count": 9,
   "id": "f28a11e0-95a3-4892-a7c3-80953e52c749",
   "metadata": {},
   "outputs": [
    {
     "name": "stderr",
     "output_type": "stream",
     "text": [
      "1it [00:00, 500.63it/s]"
     ]
    },
    {
     "name": "stdout",
     "output_type": "stream",
     "text": [
      "{'input_ids': [101, 3152, 101, 3315, 6134, 4850, 2768, 6369, 5050, 3322, 5543, 1916, 102, 6817, 5050, 4638, 3144, 2099, 2772, 1403, 7030, 4638, 3175, 3791, 671, 5663, 4917, 711, 6404, 102], 'token_type_ids': [0, 0, 0, 0, 0, 0, 0, 0, 0, 0, 0, 0, 0, 0, 0, 0, 0, 0, 0, 0, 0, 0, 0, 0, 0, 0, 0, 0, 0, 0], 'attention_mask': [1, 1, 1, 1, 1, 1, 1, 1, 1, 1, 1, 1, 1, 1, 1, 1, 1, 1, 1, 1, 1, 1, 1, 1, 1, 1, 1, 1, 1, 1]}\n"
     ]
    },
    {
     "name": "stderr",
     "output_type": "stream",
     "text": [
      "\n"
     ]
    }
   ],
   "source": [
    "from transformers import BertTokenizer\n",
    "from tqdm import tqdm\n",
    "bert_path = \"D:/kwCodes/pretrained_model/chinese_roberta_wwm_ext_pytorch/\"  # 该文件夹下存放三个文件（'vocab.txt', 'pytorch_model.bin', 'config.json'）\n",
    "tokenizer = BertTokenizer.from_pretrained(bert_path,\n",
    "                                          local_files_only=True)  # 初始化分词器\n",
    "data_X = [\"文[CLS]本表示成计算机能够[SEP]运算的数字或向量的方法一般称为词嵌入\"]\n",
    "input_ids, input_masks, input_types, = [], [], []\n",
    "labels = []  # 标签\n",
    "maxlen = 30  # 取30即可覆盖99%\n",
    "\n",
    "for i, line in tqdm(enumerate(data_X)):\n",
    "    title = line\n",
    "    encode_dict = tokenizer.encode_plus(text=title,\n",
    "                                        max_length=maxlen,\n",
    "                                        padding='max_length',\n",
    "                                        truncation=True)\n",
    "    print(encode_dict)\n",
    "    input_ids.append(encode_dict['input_ids'])\n",
    "    input_types.append(encode_dict['token_type_ids'])\n",
    "    input_masks.append(encode_dict['attention_mask'])"
   ]
  },
  {
   "cell_type": "markdown",
   "id": "b0fa70ab-5973-4830-a2e9-88596820477b",
   "metadata": {},
   "source": [
    "## 文本分类"
   ]
  },
  {
   "cell_type": "markdown",
   "id": "af37d5b3-2123-4202-bec7-e6980017bdf1",
   "metadata": {},
   "source": [
    "### 基于bag of words和tf-idf的浅层机器学习的文本分类"
   ]
  },
  {
   "cell_type": "markdown",
   "id": "9b7ddebe-3b2f-473f-8107-b3641f11a184",
   "metadata": {},
   "source": [
    "文本是不定长度的。文本表示成计算机能够运算的数字或向量的方法一般称为词嵌入（Word Embedding）方法。词嵌入将不定长的文本转换到定长的空间内，是文本分类的第一步"
   ]
  },
  {
   "cell_type": "markdown",
   "id": "8956932d-9158-45e2-9571-324835dc405b",
   "metadata": {},
   "source": [
    "One-hot\n",
    "\n",
    "这里的One-hot与数据挖掘任务中的操作是一致的，即将每一个单词使用一个离散的向量表示。具体将每个字/词编码一个索引，然后根据索引进行赋值。\n",
    "\n",
    "One-hot表示方法的例子如下：\n",
    "\n",
    "        句子1：我 爱 北 京 天 安 门\n",
    "句子2：我 喜 欢 上 海\n",
    "首先对所有句子的字进行索引，即将每个字确定一个编号：\n",
    "\n",
    "    {\n",
    "        '我': 1, '爱': 2, '北': 3, '京': 4, '天': 5,\n",
    "      '安': 6, '门': 7, '喜': 8, '欢': 9, '上': 10, '海': 11\n",
    "    }\n",
    "在这里共包括11个字，因此每个字可以转换为一个11维度稀疏向量：\n",
    "\n",
    "    我：[1, 0, 0, 0, 0, 0, 0, 0, 0, 0, 0]\n",
    "    爱：[0, 1, 0, 0, 0, 0, 0, 0, 0, 0, 0]\n",
    "    ...\n",
    "    海：[0, 0, 0, 0, 0, 0, 0, 0, 0, 0, 1]"
   ]
  },
  {
   "cell_type": "markdown",
   "id": "fd2cc008-645d-45ae-935a-b34713223daf",
   "metadata": {},
   "source": [
    "Bag of Words（词袋表示），也称为Count Vectors，每个文档的字/词可以使用其出现次数来进行表示。\n",
    "\n",
    "    句子1：我 爱 北 京 天 安 门\n",
    "    句子2：我 喜 欢 上 海\n",
    "直接统计每个字出现的次数，并进行赋值：\n",
    "\n",
    "    句子1：我 爱 北 京 天 安 门\n",
    "    转换为 [1, 1, 1, 1, 1, 1, 1, 0, 0, 0, 0]\n",
    "\n",
    "    句子2：我 喜 欢 上 海\n",
    "    转换为 [1, 0, 0, 0, 0, 0, 0, 1, 1, 1, 1]"
   ]
  },
  {
   "cell_type": "code",
   "execution_count": 3,
   "id": "f805d796-580b-48e4-9d49-1056f74fb27f",
   "metadata": {},
   "outputs": [
    {
     "data": {
      "text/plain": [
       "array([[0, 1, 1, 1, 0, 0, 1, 0, 1],\n",
       "       [0, 2, 0, 1, 0, 1, 1, 0, 1],\n",
       "       [1, 0, 0, 1, 1, 0, 1, 1, 1],\n",
       "       [0, 1, 1, 1, 0, 0, 1, 0, 1]], dtype=int64)"
      ]
     },
     "execution_count": 3,
     "metadata": {},
     "output_type": "execute_result"
    }
   ],
   "source": [
    "# 在sklearn中可以直接CountVectorizer来实现这一步骤：\n",
    "from sklearn.feature_extraction.text import CountVectorizer\n",
    "corpus = [\n",
    "    'This is the first document.',\n",
    "    'This document is the second document.',\n",
    "    'And this is the third one.',\n",
    "    'Is this the first document?',\n",
    "]\n",
    "vectorizer = CountVectorizer()\n",
    "vectorizer.fit_transform(corpus).toarray()"
   ]
  },
  {
   "cell_type": "code",
   "execution_count": 4,
   "id": "c331f554-e9e6-4eeb-8048-b9abac10c3f3",
   "metadata": {},
   "outputs": [
    {
     "data": {
      "text/plain": [
       "array([[0.        , 0.46979139, 0.58028582, 0.38408524, 0.        ,\n",
       "        0.        , 0.38408524, 0.        , 0.38408524],\n",
       "       [0.        , 0.6876236 , 0.        , 0.28108867, 0.        ,\n",
       "        0.53864762, 0.28108867, 0.        , 0.28108867],\n",
       "       [0.51184851, 0.        , 0.        , 0.26710379, 0.51184851,\n",
       "        0.        , 0.26710379, 0.51184851, 0.26710379],\n",
       "       [0.        , 0.46979139, 0.58028582, 0.38408524, 0.        ,\n",
       "        0.        , 0.38408524, 0.        , 0.38408524]])"
      ]
     },
     "execution_count": 4,
     "metadata": {},
     "output_type": "execute_result"
    }
   ],
   "source": [
    "from sklearn.feature_extraction.text import TfidfVectorizer\n",
    "vectorizer = TfidfVectorizer()\n",
    "vectorizer.fit_transform(corpus).toarray()"
   ]
  },
  {
   "cell_type": "markdown",
   "id": "18896650-2ae2-4f13-b2c8-9344762991ee",
   "metadata": {},
   "source": [
    "N-gram 与Count Vectors类似，不过加入了相邻单词组合成为新的单词，并进行计数。\n",
    "\n",
    "如果N取值为2，则句子1和句子2就变为：\n",
    "\n",
    "    句子1：我爱 爱北 北京 京天 天安 安门\n",
    "    句子2：我喜 喜欢 欢上 上海\n",
    "    \n",
    "TF-IDF 分数由两部分组成：第一部分是词语频率（Term Frequency），第二部分是逆文档频率（Inverse Document Frequency）。其中计算语料库中文档总数除以含有该词语的文档数量，然后再取对数就是逆文档频率。\n",
    "\n",
    "    TF(t)= 该词语在当前文档出现的次数 / 当前文档中词语的总数\n",
    "    IDF(t)= log_e（文档总数 / 出现该词语的文档总数）\n",
    "TF表示 - Fruit flies like time flies a fruit 这句话具有以下 TF 表示:[1,2,2,1,1,1,0,0]。\n",
    "注意，每个条目是句子（语料库）中出现相应单词的次数的计数。我们用TF(w）表示一个单词的 TF"
   ]
  },
  {
   "cell_type": "code",
   "execution_count": null,
   "id": "d04ff383-4617-46c4-833a-11aeac0d90e4",
   "metadata": {},
   "outputs": [],
   "source": [
    "# Count Vectors + RidgeClassifier\n",
    "\n",
    "import pandas as pd\n",
    "\n",
    "from sklearn.feature_extraction.text import CountVectorizer\n",
    "from sklearn.linear_model import RidgeClassifier\n",
    "from sklearn.metrics import f1_score\n",
    "\n",
    "train_df = pd.read_csv('../data/train_set.csv', sep='\\t', nrows=15000)\n",
    "\n",
    "vectorizer = CountVectorizer(max_features=3000)\n",
    "train_test = vectorizer.fit_transform(train_df['text'])\n",
    "\n",
    "clf = RidgeClassifier()\n",
    "clf.fit(train_test[:10000], train_df['label'].values[:10000])\n",
    "\n",
    "val_pred = clf.predict(train_test[10000:])\n",
    "print(f1_score(train_df['label'].values[10000:], val_pred, average='macro'))\n",
    "# 0.74"
   ]
  },
  {
   "cell_type": "code",
   "execution_count": null,
   "id": "97a74d6e-7334-4835-b8d1-9c2dc345bbc0",
   "metadata": {},
   "outputs": [],
   "source": [
    "# TF-IDF +  RidgeClassifier\n",
    "\n",
    "import pandas as pd\n",
    "\n",
    "from sklearn.feature_extraction.text import TfidfVectorizer\n",
    "from sklearn.linear_model import RidgeClassifier\n",
    "from sklearn.metrics import f1_score\n",
    "\n",
    "train_df = pd.read_csv('../data/train_set.csv', sep='\\t', nrows=15000)\n",
    "\n",
    "tfidf = TfidfVectorizer(ngram_range=(1,3), max_features=3000)\n",
    "train_test = tfidf.fit_transform(train_df['text'])\n",
    "\n",
    "clf = RidgeClassifier()\n",
    "clf.fit(train_test[:10000], train_df['label'].values[:10000])\n",
    "\n",
    "val_pred = clf.predict(train_test[10000:])\n",
    "print(f1_score(train_df['label'].values[10000:], val_pred, average='macro'))\n",
    "# 0.87"
   ]
  },
  {
   "cell_type": "markdown",
   "id": "f30205d0-3924-4cf3-847f-c9e43042db89",
   "metadata": {},
   "source": [
    "### 基于keras与MLP的深度学习情感分析"
   ]
  },
  {
   "cell_type": "markdown",
   "id": "993477b7-e1f3-49f6-9eb7-f45f501c6102",
   "metadata": {},
   "source": [
    "数据预处理 = pandas+numpy"
   ]
  },
  {
   "cell_type": "code",
   "execution_count": 2,
   "id": "75fbf66b-92ed-4d44-886a-b776021df6a4",
   "metadata": {},
   "outputs": [],
   "source": [
    "import pandas as pd"
   ]
  },
  {
   "cell_type": "code",
   "execution_count": 3,
   "id": "38840f9a-1da9-42ea-83fc-0455a20fda8a",
   "metadata": {},
   "outputs": [
    {
     "data": {
      "text/html": [
       "<div>\n",
       "<style scoped>\n",
       "    .dataframe tbody tr th:only-of-type {\n",
       "        vertical-align: middle;\n",
       "    }\n",
       "\n",
       "    .dataframe tbody tr th {\n",
       "        vertical-align: top;\n",
       "    }\n",
       "\n",
       "    .dataframe thead th {\n",
       "        text-align: right;\n",
       "    }\n",
       "</style>\n",
       "<table border=\"1\" class=\"dataframe\">\n",
       "  <thead>\n",
       "    <tr style=\"text-align: right;\">\n",
       "      <th></th>\n",
       "      <th>comment</th>\n",
       "    </tr>\n",
       "  </thead>\n",
       "  <tbody>\n",
       "    <tr>\n",
       "      <th>0</th>\n",
       "      <td>质量好,做工也不错,尺码标准,</td>\n",
       "    </tr>\n",
       "    <tr>\n",
       "      <th>1</th>\n",
       "      <td>裤子质量很好，裤型不错，而且穿起来显瘦，性比价高，是我喜欢的布料，不起球，值得购买，</td>\n",
       "    </tr>\n",
       "    <tr>\n",
       "      <th>2</th>\n",
       "      <td>做工很好，货真价实，质量不错满意！</td>\n",
       "    </tr>\n",
       "    <tr>\n",
       "      <th>3</th>\n",
       "      <td>真是不错呢！裤子质量很好，穿着也很有型，帅帅的，更喜欢他了呢！快递很快，态度也特别好，跟客服...</td>\n",
       "    </tr>\n",
       "    <tr>\n",
       "      <th>4</th>\n",
       "      <td>品质还可以，就是有点掉色，可以接受</td>\n",
       "    </tr>\n",
       "  </tbody>\n",
       "</table>\n",
       "</div>"
      ],
      "text/plain": [
       "                                             comment\n",
       "0                                    质量好,做工也不错,尺码标准,\n",
       "1         裤子质量很好，裤型不错，而且穿起来显瘦，性比价高，是我喜欢的布料，不起球，值得购买，\n",
       "2                                  做工很好，货真价实，质量不错满意！\n",
       "3  真是不错呢！裤子质量很好，穿着也很有型，帅帅的，更喜欢他了呢！快递很快，态度也特别好，跟客服...\n",
       "4                                  品质还可以，就是有点掉色，可以接受"
      ]
     },
     "execution_count": 3,
     "metadata": {},
     "output_type": "execute_result"
    }
   ],
   "source": [
    "df = pd.read_csv(\"D:/kwCodes/REcodes/re_datasets/clothing_comment_情感分析/posdata.txt\",sep=\"\\n\",header=None,names=['comment'])\n",
    "df.head()"
   ]
  },
  {
   "cell_type": "code",
   "execution_count": 4,
   "id": "25d4c671-430b-443f-abb3-8701aecfd85d",
   "metadata": {},
   "outputs": [
    {
     "data": {
      "text/html": [
       "<div>\n",
       "<style scoped>\n",
       "    .dataframe tbody tr th:only-of-type {\n",
       "        vertical-align: middle;\n",
       "    }\n",
       "\n",
       "    .dataframe tbody tr th {\n",
       "        vertical-align: top;\n",
       "    }\n",
       "\n",
       "    .dataframe thead th {\n",
       "        text-align: right;\n",
       "    }\n",
       "</style>\n",
       "<table border=\"1\" class=\"dataframe\">\n",
       "  <thead>\n",
       "    <tr style=\"text-align: right;\">\n",
       "      <th></th>\n",
       "      <th>comment</th>\n",
       "    </tr>\n",
       "  </thead>\n",
       "  <tbody>\n",
       "    <tr>\n",
       "      <th>0</th>\n",
       "      <td>穿上不舒服，颜色和质感跟图片差异很大，建议慎重购买！后悔了！</td>\n",
       "    </tr>\n",
       "    <tr>\n",
       "      <th>1</th>\n",
       "      <td>真心垃圾，以后再也不会买班尼路了</td>\n",
       "    </tr>\n",
       "    <tr>\n",
       "      <th>2</th>\n",
       "      <td>物流超慢，整整6天多，准备退订了才到，无语。衣服质量嘛，中下水准，穿着不太舒服。衣服穿起来的...</td>\n",
       "    </tr>\n",
       "    <tr>\n",
       "      <th>3</th>\n",
       "      <td>这个T恤不安逸得，和农贸市场一二十的差不多样</td>\n",
       "    </tr>\n",
       "    <tr>\n",
       "      <th>4</th>\n",
       "      <td>你以为是Lee那就错了，你以为会有Lee一半的品质，那就又错了，你以为会送货很快，那就又错了！</td>\n",
       "    </tr>\n",
       "  </tbody>\n",
       "</table>\n",
       "</div>"
      ],
      "text/plain": [
       "                                             comment\n",
       "0                     穿上不舒服，颜色和质感跟图片差异很大，建议慎重购买！后悔了！\n",
       "1                                   真心垃圾，以后再也不会买班尼路了\n",
       "2  物流超慢，整整6天多，准备退订了才到，无语。衣服质量嘛，中下水准，穿着不太舒服。衣服穿起来的...\n",
       "3                             这个T恤不安逸得，和农贸市场一二十的差不多样\n",
       "4    你以为是Lee那就错了，你以为会有Lee一半的品质，那就又错了，你以为会送货很快，那就又错了！"
      ]
     },
     "execution_count": 4,
     "metadata": {},
     "output_type": "execute_result"
    }
   ],
   "source": [
    "df_n = pd.read_csv(\"D:/kwCodes/REcodes/re_datasets/clothing_comment_情感分析/negdata.txt\",sep=\"\\n\",header=None,names=['comment'])\n",
    "df_n.head()"
   ]
  },
  {
   "cell_type": "code",
   "execution_count": 6,
   "id": "685c6048-1439-4444-abe6-b99e5e0beaf4",
   "metadata": {},
   "outputs": [
    {
     "data": {
      "text/plain": [
       "'这是一个例子哦哦哦'"
      ]
     },
     "execution_count": 6,
     "metadata": {},
     "output_type": "execute_result"
    }
   ],
   "source": [
    "# 只保留汉字\n",
    "import re\n",
    "def rmSymbol(str):\n",
    "    return re.sub(\"[^\\u4e00-\\u9fa5]\",'',str)\n",
    "rmSymbol(\"a78d679&&这是uid一个&%例子哦哦哦sahuidy^*&%^\")"
   ]
  },
  {
   "cell_type": "code",
   "execution_count": 7,
   "id": "036e5b95-b809-4f0b-a9ff-472fdaa41392",
   "metadata": {},
   "outputs": [
    {
     "name": "stderr",
     "output_type": "stream",
     "text": [
      "100%|██████████| 1500/1500 [00:00<00:00, 38457.98it/s]"
     ]
    },
    {
     "name": "stdout",
     "output_type": "stream",
     "text": [
      "1500\n",
      "1500\n"
     ]
    },
    {
     "name": "stderr",
     "output_type": "stream",
     "text": [
      "\n"
     ]
    },
    {
     "data": {
      "text/plain": [
       "(['质量好做工也不错尺码标准'], ['穿上不舒服颜色和质感跟图片差异很大建议慎重购买后悔了'])"
      ]
     },
     "execution_count": 7,
     "metadata": {},
     "output_type": "execute_result"
    }
   ],
   "source": [
    "# 接下来遍历评论列的每一行，过滤其中的非中文字符和长度小于1的无效评论。\n",
    "from tqdm import trange\n",
    "X_data_pos = []\n",
    "X_data_neg = []\n",
    "comments_pos = df.comment # 获取所有评论\n",
    "comments_neg = df_n.comment\n",
    "for i in trange(len(comments_pos)):\n",
    "    comment = comments_pos.iloc[i]\n",
    "    comment_n = comments_neg.iloc[i]\n",
    "    try:\n",
    "        comment = rmSymbol(comment)\n",
    "        comment_n = rmSymbol(comment_n)\n",
    "        if len(comment) > 1:\n",
    "            X_data_pos.append(comment)\n",
    "            X_data_neg.append(comment_n)\n",
    "    except:\n",
    "        pass\n",
    "print(len(X_data_pos))\n",
    "print(len(X_data_neg))\n",
    "X_data_pos[:1],X_data_neg[:1]"
   ]
  },
  {
   "cell_type": "code",
   "execution_count": 8,
   "id": "b9d7ca0e-905b-4c3e-b6cb-0879d52fdbbb",
   "metadata": {},
   "outputs": [
    {
     "data": {
      "text/plain": [
       "'质量好做工也不错尺码标准'"
      ]
     },
     "execution_count": 8,
     "metadata": {},
     "output_type": "execute_result"
    }
   ],
   "source": [
    "X_data = [i for i in X_data_pos] + [j for j in X_data_neg]\n",
    "X_data[0]"
   ]
  },
  {
   "cell_type": "code",
   "execution_count": 9,
   "id": "8ef7a5d2-c25f-44c4-93c7-0dd1fd13f681",
   "metadata": {},
   "outputs": [],
   "source": [
    "# 得到训练数据后，我们手工创建一个labels数组存放标签，将其转换为numpy对象，便于后期输入到神经网络中\n",
    "import numpy as np\n",
    "y_data = [1 for i in range(1500)] + [0 for i in range(1500)]\n",
    "y_data = np.asarray(y_data, dtype=np.float32)"
   ]
  },
  {
   "cell_type": "code",
   "execution_count": 10,
   "id": "ed8dc919-e20f-48cc-b829-0ed5d97de5a9",
   "metadata": {},
   "outputs": [
    {
     "name": "stdout",
     "output_type": "stream",
     "text": [
      "[0 1 2 3 4]\n",
      "[1645 1292 2992 2888 1072]\n"
     ]
    },
    {
     "data": {
      "text/plain": [
       "(['不满意都起毛了有点白',\n",
       "  '在京东买东西就是好商品实惠还保真售后服务也挺好物流快快递员服务态度很好在京东买绝对不上当我感觉相当好在京东买东西就是好商品实惠还保真售后服务也挺好物流快快递员服务态度很好在京东买绝对不上当我感觉相当好在京东买东西就是好商品实惠还保真售后服务也挺好物流快快递员服务态度很好在京东买绝对不上当我感觉相当好',\n",
       "  '产品一般和我在实体店买没啥区别',\n",
       "  '穿着也不舒服感觉被忽悠了',\n",
       "  '衣服收到了本来看着没多少销量会很担心质量但没想到衣服质量会这么好喜欢的不要犹豫我已经替你们试过了很百搭重要的是价格还很便宜'],\n",
       " [0.0, 1.0, 0.0, 0.0, 1.0])"
      ]
     },
     "execution_count": 10,
     "metadata": {},
     "output_type": "execute_result"
    }
   ],
   "source": [
    "# 这份数据太有规律啦，正负情感刚好前后各占一半,为了避免数据分布不规律的现象，我们需要为数据“洗牌”\n",
    "X_train, y_train = [], []\n",
    "nums = np.arange(3000)\n",
    "print(nums[:5])\n",
    "# 随机打乱12000个训练数据\n",
    "np.random.shuffle(nums)\n",
    "print(nums[:5])\n",
    "for i in nums:\n",
    "    X_train.append(X_data[i])\n",
    "    y_train.append(y_data[i])\n",
    "X_train[:5],y_train[:5]"
   ]
  },
  {
   "cell_type": "code",
   "execution_count": 11,
   "id": "2f6c1032-5b57-46ba-bb9b-cde9cae52855",
   "metadata": {},
   "outputs": [
    {
     "data": {
      "image/png": "[encoded data removed]",
      "text/plain": [
       "<Figure size 640x480 with 1 Axes>"
      ]
     },
     "metadata": {},
     "output_type": "display_data"
    }
   ],
   "source": [
    "import matplotlib.pyplot as plt\n",
    "x = range(100)\n",
    "plt.rcParams['font.sans-serif'] = ['KaiTi']  # 指定默认字体\n",
    "plt.rcParams['axes.unicode_minus'] = False  # 解决保存图像是负号'-'显示为方块的问题\n",
    "plt.scatter(x,y_train[:100], label='label',color='r')\n",
    "plt.xlabel('数据')\n",
    "plt.ylabel('标签')\n",
    "plt.title('类别分布')\n",
    "plt.legend()\n",
    "plt.show()"
   ]
  },
  {
   "cell_type": "code",
   "execution_count": 15,
   "id": "4f887d9f-96e0-4803-b6cd-2e852680b3ac",
   "metadata": {},
   "outputs": [
    {
     "data": {
      "text/plain": [
       "230"
      ]
     },
     "execution_count": 15,
     "metadata": {},
     "output_type": "execute_result"
    }
   ],
   "source": [
    "maxlen = 0\n",
    "for i in X_train:\n",
    "    if len(i) > maxlen and len(i) != 295 and len(i) != 267:\n",
    "        maxlen = len(i)\n",
    "maxlen"
   ]
  },
  {
   "cell_type": "markdown",
   "id": "c1d56ec0-c531-4fdb-a7a4-45db2ed7bc5b",
   "metadata": {},
   "source": [
    "获得中文词向量"
   ]
  },
  {
   "cell_type": "code",
   "execution_count": 26,
   "id": "a6d27700-b124-400b-9e24-8fbb57bc2fc3",
   "metadata": {},
   "outputs": [
    {
     "name": "stderr",
     "output_type": "stream",
     "text": [
      "3000it [00:01, 2084.62it/s]\n"
     ]
    }
   ],
   "source": [
    "from transformers import BertTokenizer\n",
    "from tqdm import tqdm\n",
    "bert_path = \"D:/kwCodes/pretrained_model/chinese_roberta_wwm_ext_pytorch/\"  # 该文件夹下存放三个文件（'vocab.txt', 'pytorch_model.bin', 'config.json'）\n",
    "tokenizer = BertTokenizer.from_pretrained(bert_path,\n",
    "                                          local_files_only=True)  # 初始化分词器\n",
    "input_train = []\n",
    "maxlen = 768  # 取30即可覆盖99%\n",
    "\n",
    "for i, line in tqdm(enumerate(X_train)):\n",
    "    title = line\n",
    "    encode_dict = tokenizer.encode_plus(text=title,\n",
    "                                        max_length=maxlen,\n",
    "                                        padding='max_length',\n",
    "                                        truncation=True)\n",
    "#     print(encode_dict)\n",
    "    input_train.append(encode_dict['input_ids'])"
   ]
  },
  {
   "cell_type": "code",
   "execution_count": 32,
   "id": "07177ed7-81b8-47fe-abd6-120f26be8ac5",
   "metadata": {},
   "outputs": [],
   "source": [
    "from keras.models import Sequential\n",
    "from keras.layers import Dense, Dropout\n",
    "import tensorflow as tf\n",
    "model = Sequential()\n",
    "# 搭建模型\n",
    "model.add(Dense(32, activation='relu', input_shape=(768,)))\n",
    "model.add(Dropout(0.3))\n",
    "model.add(Dense(32, activation='relu'))\n",
    "model.add(Dense(1, activation='sigmoid'))\n",
    "\n",
    "model.compile(\n",
    "    loss='binary_crossentropy',\n",
    "    optimizer='adam',\n",
    "    metrics=['acc']\n",
    ")"
   ]
  },
  {
   "cell_type": "code",
   "execution_count": 33,
   "id": "30fac60e-45c3-4789-915d-66b8350aa21c",
   "metadata": {},
   "outputs": [
    {
     "data": {
      "text/plain": [
       "numpy.ndarray"
      ]
     },
     "execution_count": 33,
     "metadata": {},
     "output_type": "execute_result"
    }
   ],
   "source": [
    "input_train = np.array(input_train)\n",
    "y_train = np.array(y_train)\n",
    "type(input_train)"
   ]
  },
  {
   "cell_type": "code",
   "execution_count": null,
   "id": "18e94fc4-e98e-4661-a8df-b8819c823f36",
   "metadata": {},
   "outputs": [],
   "source": [
    "history = model.fit(\n",
    "    input_train, y_train,\n",
    "    epochs=60,\n",
    "    batch_size=64,\n",
    "    validation_split=0.2\n",
    ")"
   ]
  },
  {
   "cell_type": "code",
   "execution_count": null,
   "id": "6ac7be47-c1c0-4430-a67c-aa39f2901365",
   "metadata": {},
   "outputs": [],
   "source": [
    "history_dict = history.history\n",
    "history_dict"
   ]
  },
  {
   "cell_type": "code",
   "execution_count": 56,
   "id": "7f78f24a-9d98-4d6d-9be4-defb0bc4eb50",
   "metadata": {},
   "outputs": [
    {
     "data": {
      "image/png": "[encoded data removed]",
      "text/plain": [
       "<Figure size 640x480 with 1 Axes>"
      ]
     },
     "metadata": {},
     "output_type": "display_data"
    }
   ],
   "source": [
    "# 精确度编话过程\n",
    "epochs = range(1, len(history_dict['acc']) + 1)\n",
    "plt.figure()\n",
    "plt.plot(epochs, history_dict['acc'], 'b', label='acc')\n",
    "plt.plot(epochs, history_dict['val_acc'], 'bo', label='val_acc')\n",
    "plt.xlabel('Epochs')\n",
    "plt.ylabel('Accuracy')\n",
    "plt.legend()\n",
    "plt.show()"
   ]
  },
  {
   "cell_type": "code",
   "execution_count": 57,
   "id": "1fd70b80-df0d-4207-8a34-a801b322208b",
   "metadata": {},
   "outputs": [
    {
     "data": {
      "text/plain": [
       "<Figure size 640x480 with 0 Axes>"
      ]
     },
     "metadata": {},
     "output_type": "display_data"
    },
    {
     "data": {
      "image/png": "[encoded data removed]",
      "text/plain": [
       "<Figure size 640x480 with 1 Axes>"
      ]
     },
     "metadata": {},
     "output_type": "display_data"
    }
   ],
   "source": [
    "# 损失变化过程\n",
    "plt.clf()\n",
    "plt.figure()\n",
    "plt.plot(epochs, history_dict['loss'], 'b', label='loss')\n",
    "plt.plot(epochs, history_dict['val_loss'], 'bo', label='val_loss')\n",
    "plt.xlabel('Epochs')\n",
    "plt.ylabel('Loss')\n",
    "plt.legend()\n",
    "plt.show()"
   ]
  },
  {
   "cell_type": "code",
   "execution_count": null,
   "id": "1cbaeb66-8283-4460-a951-c1a8f098d54b",
   "metadata": {},
   "outputs": [],
   "source": [
    "# 调用evaluate方法测试：\n",
    "test_loss = model.evaluate(\n",
    "    X_test,\n",
    "    y_test,\n",
    "    batch_size=64,\n",
    "    verbose=1\n",
    ")\n",
    "print(test_loss)"
   ]
  },
  {
   "cell_type": "markdown",
   "id": "7a330afe-b11b-46be-bb6a-6d3e1731aeca",
   "metadata": {},
   "source": [
    "### 基于NLTK的机器学习文本分类与情感分析(英文)"
   ]
  },
  {
   "cell_type": "code",
   "execution_count": 6,
   "id": "f2a6bd87-5541-4d5b-bddd-20ef4ead20eb",
   "metadata": {},
   "outputs": [
    {
     "name": "stdout",
     "output_type": "stream",
     "text": [
      "That的TF-IDF值为：0.02181644599700369\n"
     ]
    }
   ],
   "source": [
    "# 文本分类\n",
    "from nltk.text import TextCollection\n",
    "\n",
    "text1 = 'I like the movie so much '\n",
    "text2 = 'That is a good movie '\n",
    "text3 = 'This is a great one '\n",
    "text4 = 'That is a really bad movie '\n",
    "text5 = 'This is a terrible movie'\n",
    "\n",
    "# 构建TextCollection对象\n",
    "tc = TextCollection([text1, text2, text3, \n",
    "                        text4, text5])\n",
    "new_text = 'That one is a good movie. This is so good!'\n",
    "word = 'That'\n",
    "tf_idf_val = tc.tf_idf(word, new_text)\n",
    "print('{}的TF-IDF值为：{}'.format(word, tf_idf_val))"
   ]
  },
  {
   "cell_type": "code",
   "execution_count": null,
   "id": "d0d039dd-7ad2-4e32-bdc5-4016a5ec5771",
   "metadata": {},
   "outputs": [],
   "source": [
    "# 情感分析\n",
    "# 简单的例子\n",
    "\n",
    "import nltk\n",
    "nltk.download('punkt')\n",
    "from nltk.stem import WordNetLemmatizer\n",
    "from nltk.corpus import stopwords\n",
    "from nltk.classify import NaiveBayesClassifier\n",
    "\n",
    "text1 = 'I like the movie so much!'\n",
    "text2 = 'That is a good movie.'\n",
    "text3 = 'This is a great one.'\n",
    "text4 = 'That is a really bad movie.'\n",
    "text5 = 'This is a terrible movie.'\n",
    "\n",
    "def proc_text(text):\n",
    "    \"\"\"\n",
    "        预处处理文本\n",
    "    \"\"\"\n",
    "    # 分词\n",
    "    raw_words = nltk.word_tokenize(text)\n",
    "    \n",
    "    # 词形归一化\n",
    "    wordnet_lematizer = WordNetLemmatizer()    \n",
    "    words = [wordnet_lematizer.lemmatize(raw_word) for raw_word in raw_words]\n",
    "    \n",
    "    # 去除停用词\n",
    "    filtered_words = [word for word in words if word not in stopwords.words('english')]\n",
    "    \n",
    "    # True 表示该词在文本中，为了使用nltk中的分类器\n",
    "    return {word: True for word in filtered_words}\n",
    "\n",
    "# 构造训练样本\n",
    "train_data = [[proc_text(text1), 1],\n",
    "              [proc_text(text2), 1],\n",
    "              [proc_text(text3), 1],\n",
    "              [proc_text(text4), 0],\n",
    "              [proc_text(text5), 0]]\n",
    "\n",
    "# 训练模型\n",
    "nb_model = NaiveBayesClassifier.train(train_data)\n",
    "\n",
    "# 测试模型\n",
    "text6 = 'That is a good one.'\n",
    "print(nb_model.classify(proc_text(text6)))"
   ]
  },
  {
   "cell_type": "markdown",
   "id": "f72ebd69-7612-4e80-b8df-a32036351b76",
   "metadata": {},
   "source": [
    "## 文本匹配"
   ]
  },
  {
   "cell_type": "markdown",
   "id": "ff13735c-464f-42ed-91b9-fd225b4cb71f",
   "metadata": {},
   "source": [
    "### 基于NLTK的文本相似度(英文)"
   ]
  },
  {
   "cell_type": "code",
   "execution_count": 10,
   "id": "698bfa49-2ae9-4ee5-a51e-6dd1903e3154",
   "metadata": {},
   "outputs": [
    {
     "name": "stdout",
     "output_type": "stream",
     "text": [
      "4\n",
      "1\n",
      "[('movie', 4), ('is', 4), ('a', 4), ('That', 2), ('This', 2)]\n",
      "{'movie': 0, 'is': 1, 'a': 2, 'That': 3, 'This': 4}\n",
      "[1, 2, 1, 1, 1]\n"
     ]
    }
   ],
   "source": [
    "import nltk\n",
    "from nltk import FreqDist\n",
    "\n",
    "text1 = 'I like the movie so much '\n",
    "text2 = 'That is a good movie '\n",
    "text3 = 'This is a great one '\n",
    "text4 = 'That is a really bad movie '\n",
    "text5 = 'This is a terrible movie'\n",
    "\n",
    "text = text1 + text2 + text3 + text4 + text5\n",
    "words = nltk.word_tokenize(text)\n",
    "freq_dist = FreqDist(words)\n",
    "print(freq_dist['is'])\n",
    "print(freq_dist['so'])\n",
    "\n",
    "# 取出常用的n=5个单词\n",
    "n = 5\n",
    "\n",
    "# 构造“常用单词列表”\n",
    "most_common_words = freq_dist.most_common(n)\n",
    "print(most_common_words)\n",
    "\n",
    "def lookup_pos(most_common_words):\n",
    "    \"\"\"\n",
    "        查找常用单词的位置\n",
    "    \"\"\"\n",
    "    result = {}\n",
    "    pos = 0\n",
    "    for word in most_common_words:\n",
    "        result[word[0]] = pos\n",
    "        pos += 1\n",
    "    return result\n",
    "\n",
    "# 记录位置\n",
    "std_pos_dict = lookup_pos(most_common_words)\n",
    "print(std_pos_dict)\n",
    "\n",
    "# 新文本\n",
    "new_text = 'That one is a good movie. This is so good!'\n",
    "\n",
    "# 初始化向量\n",
    "freq_vec = [0] * n\n",
    "\n",
    "# 分词\n",
    "new_words = nltk.word_tokenize(new_text)\n",
    "\n",
    "# 在“常用单词列表”上计算词频\n",
    "for new_word in new_words:\n",
    "    if new_word in list(std_pos_dict.keys()):\n",
    "        freq_vec[std_pos_dict[new_word]] += 1\n",
    "\n",
    "print(freq_vec)"
   ]
  }
 ],
 "metadata": {
  "kernelspec": {
   "display_name": "Python [conda env:Deep]",
   "language": "python",
   "name": "deep"
  },
  "language_info": {
   "codemirror_mode": {
    "name": "ipython",
    "version": 3
   },
   "file_extension": ".py",
   "mimetype": "text/x-python",
   "name": "python",
   "nbconvert_exporter": "python",
   "pygments_lexer": "ipython3",
   "version": "3.7.0"
  }
 },
 "nbformat": 4,
 "nbformat_minor": 5
}
