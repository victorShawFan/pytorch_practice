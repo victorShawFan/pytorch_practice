{
 "cells": [
  {
   "cell_type": "code",
   "execution_count": 1,
   "id": "361294d5",
   "metadata": {
    "ExecuteTime": {
     "end_time": "2021-07-16T07:10:25.656549Z",
     "start_time": "2021-07-16T07:10:24.999505Z"
    }
   },
   "outputs": [],
   "source": [
    "import torch"
   ]
  },
  {
   "cell_type": "markdown",
   "id": "36f60d6d",
   "metadata": {},
   "source": [
    "# torch基本操作"
   ]
  },
  {
   "cell_type": "markdown",
   "id": "f1b8d644",
   "metadata": {},
   "source": [
    "## tensor"
   ]
  },
  {
   "cell_type": "markdown",
   "id": "c8af5b15",
   "metadata": {
    "heading_collapsed": true
   },
   "source": [
    "### 创建tensor"
   ]
  },
  {
   "cell_type": "code",
   "execution_count": 26,
   "id": "4667a066",
   "metadata": {
    "ExecuteTime": {
     "end_time": "2021-07-16T04:22:17.631201Z",
     "start_time": "2021-07-16T04:22:17.613201Z"
    },
    "hidden": true
   },
   "outputs": [
    {
     "data": {
      "text/plain": [
       "array([[1, 2, 3],\n",
       "       [4, 5, 6],\n",
       "       [7, 8, 9]])"
      ]
     },
     "execution_count": 26,
     "metadata": {},
     "output_type": "execute_result"
    }
   ],
   "source": [
    "import numpy as np\n",
    "a = np.array([[1,2,3],[4,5,6],[7,8,9]])\n",
    "a"
   ]
  },
  {
   "cell_type": "code",
   "execution_count": 27,
   "id": "fda83a48",
   "metadata": {
    "ExecuteTime": {
     "end_time": "2021-07-16T04:22:17.902747Z",
     "start_time": "2021-07-16T04:22:17.892751Z"
    },
    "hidden": true
   },
   "outputs": [
    {
     "data": {
      "text/plain": [
       "tensor([[1., 2., 3.],\n",
       "        [4., 5., 6.],\n",
       "        [7., 8., 9.]], dtype=torch.float64)"
      ]
     },
     "execution_count": 27,
     "metadata": {},
     "output_type": "execute_result"
    }
   ],
   "source": [
    "b = torch.tensor(a, dtype=torch.double)\n",
    "b"
   ]
  },
  {
   "cell_type": "code",
   "execution_count": 28,
   "id": "03d2ea61",
   "metadata": {
    "ExecuteTime": {
     "end_time": "2021-07-16T04:22:18.627708Z",
     "start_time": "2021-07-16T04:22:18.614202Z"
    },
    "hidden": true
   },
   "outputs": [
    {
     "data": {
      "text/plain": [
       "tensor([[0, 0, 0],\n",
       "        [0, 0, 0],\n",
       "        [0, 0, 0],\n",
       "        [0, 0, 0],\n",
       "        [0, 0, 0]])"
      ]
     },
     "execution_count": 28,
     "metadata": {},
     "output_type": "execute_result"
    }
   ],
   "source": [
    "x = torch.zeros(5, 3, dtype=torch.long)\n",
    "x"
   ]
  },
  {
   "cell_type": "code",
   "execution_count": 29,
   "id": "d8a74be3",
   "metadata": {
    "ExecuteTime": {
     "end_time": "2021-07-16T04:22:19.456353Z",
     "start_time": "2021-07-16T04:22:19.443844Z"
    },
    "hidden": true
   },
   "outputs": [
    {
     "data": {
      "text/plain": [
       "tensor([[1., 1., 1.],\n",
       "        [1., 1., 1.],\n",
       "        [1., 1., 1.],\n",
       "        [1., 1., 1.],\n",
       "        [1., 1., 1.]], dtype=torch.float64)"
      ]
     },
     "execution_count": 29,
     "metadata": {},
     "output_type": "execute_result"
    }
   ],
   "source": [
    "x = x.new_ones(5, 3, dtype=torch.double) # new_* methods take in sizes\n",
    "x"
   ]
  },
  {
   "cell_type": "code",
   "execution_count": 30,
   "id": "3a7fef43",
   "metadata": {
    "ExecuteTime": {
     "end_time": "2021-07-16T04:22:20.407689Z",
     "start_time": "2021-07-16T04:22:20.387204Z"
    },
    "hidden": true
   },
   "outputs": [
    {
     "data": {
      "text/plain": [
       "tensor([[-0.2633,  2.1363,  1.5074],\n",
       "        [ 2.0120, -0.0035,  0.9759],\n",
       "        [-0.7954, -0.0967,  0.3718],\n",
       "        [-1.5191,  0.9891, -0.6753],\n",
       "        [-1.6067,  0.9154,  0.3409]])"
      ]
     },
     "execution_count": 30,
     "metadata": {},
     "output_type": "execute_result"
    }
   ],
   "source": [
    "x = torch.randn_like(x, dtype=torch.float) \n",
    "# override dtype!\n",
    "# result has the same size\n",
    "x"
   ]
  },
  {
   "cell_type": "code",
   "execution_count": 31,
   "id": "e65b5554",
   "metadata": {
    "ExecuteTime": {
     "end_time": "2021-07-16T04:22:21.129209Z",
     "start_time": "2021-07-16T04:22:21.116195Z"
    },
    "hidden": true
   },
   "outputs": [
    {
     "data": {
      "text/plain": [
       "torch.Size([5, 3])"
      ]
     },
     "execution_count": 31,
     "metadata": {},
     "output_type": "execute_result"
    }
   ],
   "source": [
    "x.size()# torch.Size 是一个元组，所以它支持左右的元组操作"
   ]
  },
  {
   "cell_type": "code",
   "execution_count": 35,
   "id": "134c110b",
   "metadata": {
    "ExecuteTime": {
     "end_time": "2021-07-16T04:23:03.216004Z",
     "start_time": "2021-07-16T04:23:03.204114Z"
    },
    "hidden": true
   },
   "outputs": [
    {
     "data": {
      "text/plain": [
       "-0.003452145028859377"
      ]
     },
     "execution_count": 35,
     "metadata": {},
     "output_type": "execute_result"
    }
   ],
   "source": [
    "x[1,1].item()# 取值"
   ]
  },
  {
   "cell_type": "markdown",
   "id": "840aee1c",
   "metadata": {
    "heading_collapsed": true
   },
   "source": [
    "### tensor运算"
   ]
  },
  {
   "cell_type": "code",
   "execution_count": 2,
   "id": "a9447080",
   "metadata": {
    "ExecuteTime": {
     "end_time": "2021-07-16T07:10:26.911010Z",
     "start_time": "2021-07-16T07:10:26.890011Z"
    },
    "hidden": true
   },
   "outputs": [
    {
     "data": {
      "text/plain": [
       "(tensor([[0.0894, 0.1722, 0.4666],\n",
       "         [0.3902, 0.4545, 0.5115],\n",
       "         [0.1035, 0.3975, 0.7045],\n",
       "         [0.5688, 0.1343, 0.6150],\n",
       "         [0.0549, 0.3597, 0.1051]]),\n",
       " tensor([[0.2518, 0.7160, 0.5582],\n",
       "         [0.9573, 0.2072, 0.6688],\n",
       "         [0.6499, 0.2391, 0.0614],\n",
       "         [0.7009, 0.7385, 0.6013],\n",
       "         [0.0787, 0.6207, 0.8794]]))"
      ]
     },
     "execution_count": 2,
     "metadata": {},
     "output_type": "execute_result"
    }
   ],
   "source": [
    "x = torch.rand(5, 3)\n",
    "y = torch.rand(5, 3)\n",
    "x,y"
   ]
  },
  {
   "cell_type": "code",
   "execution_count": 3,
   "id": "e6ba4162",
   "metadata": {
    "ExecuteTime": {
     "end_time": "2021-07-16T07:10:27.483008Z",
     "start_time": "2021-07-16T07:10:27.465009Z"
    },
    "hidden": true
   },
   "outputs": [
    {
     "data": {
      "text/plain": [
       "tensor([[0.3412, 0.8883, 1.0248],\n",
       "        [1.3474, 0.6617, 1.1803],\n",
       "        [0.7533, 0.6366, 0.7659],\n",
       "        [1.2697, 0.8728, 1.2163],\n",
       "        [0.1336, 0.9804, 0.9845]])"
      ]
     },
     "execution_count": 3,
     "metadata": {},
     "output_type": "execute_result"
    }
   ],
   "source": [
    "z = x+y # 加法\n",
    "z"
   ]
  },
  {
   "cell_type": "code",
   "execution_count": 4,
   "id": "539bbbf9",
   "metadata": {
    "ExecuteTime": {
     "end_time": "2021-07-16T07:10:27.934081Z",
     "start_time": "2021-07-16T07:10:27.922080Z"
    },
    "hidden": true
   },
   "outputs": [
    {
     "data": {
      "text/plain": [
       "tensor([[0.3412, 0.8883, 1.0248],\n",
       "        [1.3474, 0.6617, 1.1803],\n",
       "        [0.7533, 0.6366, 0.7659],\n",
       "        [1.2697, 0.8728, 1.2163],\n",
       "        [0.1336, 0.9804, 0.9845]])"
      ]
     },
     "execution_count": 4,
     "metadata": {},
     "output_type": "execute_result"
    }
   ],
   "source": [
    "torch.add(x,y)"
   ]
  },
  {
   "cell_type": "code",
   "execution_count": 5,
   "id": "6922c906",
   "metadata": {
    "ExecuteTime": {
     "end_time": "2021-07-16T07:10:28.627751Z",
     "start_time": "2021-07-16T07:10:28.616755Z"
    },
    "hidden": true
   },
   "outputs": [
    {
     "data": {
      "text/plain": [
       "tensor([[0.3412, 0.8883, 1.0248],\n",
       "        [1.3474, 0.6617, 1.1803],\n",
       "        [0.7533, 0.6366, 0.7659],\n",
       "        [1.2697, 0.8728, 1.2163],\n",
       "        [0.1336, 0.9804, 0.9845]])"
      ]
     },
     "execution_count": 5,
     "metadata": {},
     "output_type": "execute_result"
    }
   ],
   "source": [
    "result = torch.zeros(5,3)\n",
    "torch.add(x,y,out=result)\n",
    "result"
   ]
  },
  {
   "cell_type": "code",
   "execution_count": 6,
   "id": "9762fcef",
   "metadata": {
    "ExecuteTime": {
     "end_time": "2021-07-16T07:10:29.139427Z",
     "start_time": "2021-07-16T07:10:29.121429Z"
    },
    "hidden": true
   },
   "outputs": [
    {
     "data": {
      "text/plain": [
       "tensor([0.8883, 0.6617, 0.6366, 0.8728, 0.9804])"
      ]
     },
     "execution_count": 6,
     "metadata": {},
     "output_type": "execute_result"
    }
   ],
   "source": [
    "z[:,1] # 切片"
   ]
  },
  {
   "cell_type": "code",
   "execution_count": 7,
   "id": "2590e722",
   "metadata": {
    "ExecuteTime": {
     "end_time": "2021-07-16T07:10:29.845221Z",
     "start_time": "2021-07-16T07:10:29.833222Z"
    },
    "hidden": true,
    "scrolled": true
   },
   "outputs": [
    {
     "data": {
      "text/plain": [
       "(tensor([[ 0.3499,  0.5475,  0.6400,  1.2824],\n",
       "         [ 0.0851,  0.0519,  1.8563, -0.3596],\n",
       "         [ 1.0413, -0.7926, -0.0930, -0.1074],\n",
       "         [ 0.0622, -2.0703, -1.3541, -1.7602]]),\n",
       " tensor([[ 0.3499,  0.5475,  0.6400,  1.2824,  0.0851,  0.0519,  1.8563, -0.3596],\n",
       "         [ 1.0413, -0.7926, -0.0930, -0.1074,  0.0622, -2.0703, -1.3541, -1.7602]]),\n",
       " tensor([[ 0.3499,  0.5475],\n",
       "         [ 0.6400,  1.2824],\n",
       "         [ 0.0851,  0.0519],\n",
       "         [ 1.8563, -0.3596],\n",
       "         [ 1.0413, -0.7926],\n",
       "         [-0.0930, -0.1074],\n",
       "         [ 0.0622, -2.0703],\n",
       "         [-1.3541, -1.7602]]))"
      ]
     },
     "execution_count": 7,
     "metadata": {},
     "output_type": "execute_result"
    }
   ],
   "source": [
    "x = torch.randn(4,4)\n",
    "y = x.view(-1,8)\n",
    "z = x.view(-1,2)\n",
    "x,y,z"
   ]
  },
  {
   "cell_type": "markdown",
   "id": "e648d3cd",
   "metadata": {
    "heading_collapsed": true
   },
   "source": [
    "## autograd"
   ]
  },
  {
   "cell_type": "code",
   "execution_count": 8,
   "id": "2564f936",
   "metadata": {
    "ExecuteTime": {
     "end_time": "2021-07-16T07:10:31.845002Z",
     "start_time": "2021-07-16T07:10:31.824000Z"
    },
    "hidden": true
   },
   "outputs": [
    {
     "data": {
      "text/plain": [
       "(tensor([[1., 1.],\n",
       "         [1., 1.]], requires_grad=True),\n",
       " tensor([[3., 3.],\n",
       "         [3., 3.]], grad_fn=<AddBackward0>))"
      ]
     },
     "execution_count": 8,
     "metadata": {},
     "output_type": "execute_result"
    }
   ],
   "source": [
    "x = torch.ones(2, 2, requires_grad=True)\n",
    "y = x + 2 # 动态计算图\n",
    "x,y"
   ]
  },
  {
   "cell_type": "code",
   "execution_count": 9,
   "id": "a23e1e15",
   "metadata": {
    "ExecuteTime": {
     "end_time": "2021-07-16T07:10:32.341000Z",
     "start_time": "2021-07-16T07:10:32.328997Z"
    },
    "hidden": true
   },
   "outputs": [
    {
     "data": {
      "text/plain": [
       "(tensor([[27., 27.],\n",
       "         [27., 27.]], grad_fn=<MulBackward0>),\n",
       " tensor(27., grad_fn=<MeanBackward0>))"
      ]
     },
     "execution_count": 9,
     "metadata": {},
     "output_type": "execute_result"
    }
   ],
   "source": [
    "z = y * y * 3\n",
    "out = z.mean()\n",
    "z,out"
   ]
  },
  {
   "cell_type": "code",
   "execution_count": 10,
   "id": "18c6780d",
   "metadata": {
    "ExecuteTime": {
     "end_time": "2021-07-16T07:10:33.289464Z",
     "start_time": "2021-07-16T07:10:33.280463Z"
    },
    "hidden": true
   },
   "outputs": [],
   "source": [
    "out.backward() # 由于out是标量，所以可以out.backward()，等同于 out.backward(torch.tensor(1.))"
   ]
  },
  {
   "cell_type": "code",
   "execution_count": 11,
   "id": "d41923c5",
   "metadata": {
    "ExecuteTime": {
     "end_time": "2021-07-16T07:10:37.818394Z",
     "start_time": "2021-07-16T07:10:37.809395Z"
    },
    "hidden": true
   },
   "outputs": [
    {
     "data": {
      "text/plain": [
       "tensor([[4.5000, 4.5000],\n",
       "        [4.5000, 4.5000]])"
      ]
     },
     "execution_count": 11,
     "metadata": {},
     "output_type": "execute_result"
    }
   ],
   "source": [
    "x.grad # d(out)/dx"
   ]
  },
  {
   "cell_type": "code",
   "execution_count": 12,
   "id": "abcc0a40",
   "metadata": {
    "ExecuteTime": {
     "end_time": "2021-07-16T07:10:42.505979Z",
     "start_time": "2021-07-16T07:10:42.496979Z"
    },
    "hidden": true
   },
   "outputs": [
    {
     "name": "stderr",
     "output_type": "stream",
     "text": [
      "D:\\Anaconda\\envs\\Deep\\lib\\site-packages\\ipykernel_launcher.py:1: UserWarning: The .grad attribute of a Tensor that is not a leaf Tensor is being accessed. Its .grad attribute won't be populated during autograd.backward(). If you indeed want the gradient for a non-leaf Tensor, use .retain_grad() on the non-leaf Tensor. If you access the non-leaf Tensor by mistake, make sure you access the leaf Tensor instead. See github.com/pytorch/pytorch/pull/30531 for more informations.\n",
      "  \"\"\"Entry point for launching an IPython kernel.\n"
     ]
    }
   ],
   "source": [
    "y.grad # not a leaf"
   ]
  },
  {
   "cell_type": "markdown",
   "id": "bcdb7494",
   "metadata": {},
   "source": [
    "# 数据加载"
   ]
  },
  {
   "cell_type": "markdown",
   "id": "d561da32",
   "metadata": {
    "heading_collapsed": true
   },
   "source": [
    "## Dataset&Dataloder"
   ]
  },
  {
   "cell_type": "code",
   "execution_count": 49,
   "id": "ce54bf7e",
   "metadata": {
    "ExecuteTime": {
     "end_time": "2021-07-17T13:36:58.878264Z",
     "start_time": "2021-07-17T13:36:58.848260Z"
    },
    "hidden": true
   },
   "outputs": [],
   "source": [
    "# 忽略警告\n",
    "import warnings\n",
    "warnings.filterwarnings(\"ignore\")\n",
    "from torch.utils.data import Dataset, DataLoader"
   ]
  },
  {
   "cell_type": "markdown",
   "id": "b8999cb2",
   "metadata": {
    "hidden": true
   },
   "source": [
    "torch.utils.data.Dataset 是表示数据集的抽象类，因此自定义数据集应继承Dataset并覆盖以下\n",
    "方法 * __len__ 实现 len(dataset) 返还数据集的尺寸。 * __getitem__ 用来获取一些索引数\n",
    "据，例如 dataset[i] 中的(i)"
   ]
  },
  {
   "cell_type": "markdown",
   "id": "a23b479d",
   "metadata": {
    "hidden": true
   },
   "source": [
    "为面部数据集创建一个数据集类。我们将在 __init__ 中读取csv的文件内容，在 __getitem__ 中\n",
    "读取图片。这么做是为了节省内存 空间。只有在需要用到图片的时候才读取它而不是一开始就把\n",
    "图片全部存进内存里\n",
    "\n",
    "我们的数据样本将按这样一个字典 {'image': image, 'landmarks': landmarks} 组织。 我们的数\n",
    "据集类将添加一个可选参数 transform 以方便对样本进行预处理"
   ]
  },
  {
   "cell_type": "code",
   "execution_count": null,
   "id": "7a6d5cc0",
   "metadata": {
    "hidden": true
   },
   "outputs": [],
   "source": [
    "class FaceLandmarksDataset(Dataset):\n",
    "    \"\"\"面部标记数据集.\"\"\"\n",
    "    def __init__(self, csv_file, root_dir, transform=None):\n",
    "        \"\"\"\n",
    "        csv_file（string）：带注释的csv文件的路径。\n",
    "        root_dir（string）：包含所有图像的目录。\n",
    "        transform（callable， optional）：一个样本上的可用的可选变换\n",
    "        \"\"\"\n",
    "        self.landmarks_frame = pd.read_csv(csv_file)\n",
    "        self.root_dir = root_dir\n",
    "        self.transform = transform\n",
    "    def __len__(self):\n",
    "        return len(self.landmarks_frame)\n",
    "    def __getitem__(self, idx):\n",
    "        img_name = os.path.join(self.root_dir, self.landmarks_frame.iloc[idx, 0])\n",
    "        image = io.imread(img_name)\n",
    "        landmarks = self.landmarks_frame.iloc[idx, 1:]\n",
    "        landmarks = np.array([landmarks])\n",
    "        landmarks = landmarks.astype('float').reshape(-1, 2)\n",
    "        sample = {'image': image, 'landmarks': landmarks}\n",
    "        if self.transform:\n",
    "            sample = self.transform(sample)\n",
    "        return sample"
   ]
  },
  {
   "cell_type": "markdown",
   "id": "83d20bf5",
   "metadata": {
    "hidden": true
   },
   "source": [
    "我们可以像之前那样使用 for i in range 循环来对所有创建的数据集执行同样的操作"
   ]
  },
  {
   "cell_type": "code",
   "execution_count": null,
   "id": "e4ead454",
   "metadata": {
    "hidden": true
   },
   "outputs": [],
   "source": [
    "transformed_dataset = FaceLandmarksDataset(csv_file='data/faces/face_landmarks.csv',\n",
    "                                            root_dir='data/faces/',\n",
    "                                            transform=transforms.Compose([\n",
    "                                            Rescale(256),\n",
    "                                            RandomCrop(224),\n",
    "                                            ToTensor()\n",
    "                                            ])) \n",
    "for i in range(len(transformed_dataset)):\n",
    "    sample = transformed_dataset[i]\n",
    "    print(i, sample['image'].size(), sample['landmarks'].size())\n",
    "    if i == 3:\n",
    "        break"
   ]
  },
  {
   "cell_type": "markdown",
   "id": "74309ca8",
   "metadata": {
    "hidden": true
   },
   "source": [
    "但是，对所有数据集简单的使用 for 循环牺牲了许多功能，尤其是: * 批量处理数据 * 打乱数据 * 使用多线程 multiprocessingworker 并行加载数据"
   ]
  },
  {
   "cell_type": "markdown",
   "id": "681f41ba",
   "metadata": {
    "hidden": true
   },
   "source": [
    "torch.utils.data.DataLoader 是一个提供上述所有这些功能的迭代器。下面使用的参数必须是\n",
    "清楚的。一个值得关注的参数是 collate_fn , 可以通过它来决定如何对数据进行批处理。但是绝\n",
    "大多数情况下默认值就能运行良好"
   ]
  },
  {
   "cell_type": "code",
   "execution_count": null,
   "id": "40202374",
   "metadata": {
    "hidden": true
   },
   "outputs": [],
   "source": [
    "dataloader = DataLoader(transformed_dataset, batch_size=4, shuffle=True, num_workers=4)"
   ]
  },
  {
   "cell_type": "markdown",
   "id": "e43ea4e0",
   "metadata": {
    "heading_collapsed": true
   },
   "source": [
    "## seed"
   ]
  },
  {
   "cell_type": "markdown",
   "id": "4d03c27d",
   "metadata": {
    "hidden": true
   },
   "source": [
    "在使用PyTorch时，如果希望通过设置随机数种子，在gpu或cpu上固定每一次的训练结果，则需要在程序执行的开始处添加以下代码：\n",
    "随机数种子seed确定时，模型的训练结果将始终保持一致"
   ]
  },
  {
   "cell_type": "code",
   "execution_count": 15,
   "id": "9d81c64c",
   "metadata": {
    "ExecuteTime": {
     "end_time": "2021-07-16T08:03:38.339445Z",
     "start_time": "2021-07-16T08:03:38.323937Z"
    },
    "hidden": true
   },
   "outputs": [],
   "source": [
    "import random\n",
    "def setup_seed(seed):\n",
    "     torch.manual_seed(seed)\n",
    "     torch.cuda.manual_seed_all(seed)\n",
    "     np.random.seed(seed)\n",
    "     random.seed(seed)\n",
    "     torch.backends.cudnn.deterministic = True\n",
    "# 设置随机数种子\n",
    "setup_seed(2021)"
   ]
  },
  {
   "cell_type": "code",
   "execution_count": 22,
   "id": "413258eb",
   "metadata": {
    "ExecuteTime": {
     "end_time": "2021-07-16T08:12:26.900937Z",
     "start_time": "2021-07-16T08:12:26.881937Z"
    },
    "hidden": true
   },
   "outputs": [
    {
     "name": "stdout",
     "output_type": "stream",
     "text": [
      "tensor([[196, 859, 249],\n",
      "        [709, 418, 611],\n",
      "        [834, 112, 160]], dtype=torch.int32) \n",
      "\n",
      "tensor([[ 87, 276, 987],\n",
      "        [822, 638, 305],\n",
      "        [686, 363, 543]], dtype=torch.int32) \n",
      "\n",
      "tensor([[567, 660, 660],\n",
      "        [135, 420, 323],\n",
      "        [ 55, 268, 363]], dtype=torch.int32) \n",
      "\n",
      "tensor([[910, 434, 741],\n",
      "        [761, 765, 581],\n",
      "        [642, 813,  71]], dtype=torch.int32) \n",
      "\n",
      "tensor([[473, 105, 820],\n",
      "        [497, 698, 342],\n",
      "        [822, 135, 516]], dtype=torch.int32) \n",
      "\n",
      "tensor([[371, 429, 604]], dtype=torch.int32) \n",
      "\n"
     ]
    }
   ],
   "source": [
    "# 参见如下的示例数据集，它返回三个元素的随机向量。示例使用两个和四个工作进程的 batch 大小 , 代码返回如下结果：每个进程返回的随机数都是相同的\n",
    "import numpy as np\n",
    "from torch.utils.data import Dataset, DataLoader\n",
    "\n",
    "class RandomDataset(Dataset):\n",
    "    def __getitem__(self,index):\n",
    "        return np.random.randint(0, 1000, 3)\n",
    "    def __len__(self):\n",
    "        return 16\n",
    "    \n",
    "dataset = RandomDataset()\n",
    "dataloader = DataLoader(dataset, batch_size=3)# num_workers多进程拿取数据在jupyter环境中无法运行\n",
    "for batch in dataloader:\n",
    "    print(batch,'\\n')"
   ]
  },
  {
   "cell_type": "markdown",
   "id": "6baf266f",
   "metadata": {},
   "source": [
    "# 模型网络"
   ]
  },
  {
   "cell_type": "markdown",
   "id": "367e12e1",
   "metadata": {},
   "source": [
    "## 神经网络组件"
   ]
  },
  {
   "cell_type": "markdown",
   "id": "4f288233",
   "metadata": {
    "heading_collapsed": true
   },
   "source": [
    "### 激活函数 - activation"
   ]
  },
  {
   "cell_type": "markdown",
   "id": "b0a665a1",
   "metadata": {
    "hidden": true
   },
   "source": [
    "#### sigmoid"
   ]
  },
  {
   "cell_type": "markdown",
   "id": "2d24a868",
   "metadata": {
    "hidden": true
   },
   "source": [
    "sigmoid 是神经网络历史上最早使用的激活函数之一。它取任何实值并将其压缩在 0 和 1 之间。\n",
    "从表达式中很容易看出，sigmoid 是一个光滑的、可微的函数。Torch 将 sigmoid 实现为\n",
    "Torch.sigmoid()"
   ]
  },
  {
   "cell_type": "code",
   "execution_count": 66,
   "id": "d3b01f55",
   "metadata": {
    "ExecuteTime": {
     "end_time": "2021-07-17T14:22:01.465985Z",
     "start_time": "2021-07-17T14:22:01.342977Z"
    },
    "hidden": true
   },
   "outputs": [
    {
     "name": "stdout",
     "output_type": "stream",
     "text": [
      "tensor([-5.0000, -4.9000, -4.8000, -4.7000, -4.6000, -4.5000, -4.4000, -4.3000,\n",
      "        -4.2000, -4.1000, -4.0000, -3.9000, -3.8000, -3.7000, -3.6000, -3.5000,\n",
      "        -3.4000, -3.3000, -3.2000, -3.1000, -3.0000, -2.9000, -2.8000, -2.7000,\n",
      "        -2.6000, -2.5000, -2.4000, -2.3000, -2.2000, -2.1000, -2.0000, -1.9000,\n",
      "        -1.8000, -1.7000, -1.6000, -1.5000, -1.4000, -1.3000, -1.2000, -1.1000,\n",
      "        -1.0000, -0.9000, -0.8000, -0.7000, -0.6000, -0.5000, -0.4000, -0.3000,\n",
      "        -0.2000, -0.1000,  0.0000,  0.1000,  0.2000,  0.3000,  0.4000,  0.5000,\n",
      "         0.6000,  0.7000,  0.8000,  0.9000,  1.0000,  1.1000,  1.2000,  1.3000,\n",
      "         1.4000,  1.5000,  1.6000,  1.7000,  1.8000,  1.9000,  2.0000,  2.1000,\n",
      "         2.2000,  2.3000,  2.4000,  2.5000,  2.6000,  2.7000,  2.8000,  2.9000,\n",
      "         3.0000,  3.1000,  3.2000,  3.3000,  3.4000,  3.5000,  3.6000,  3.7000,\n",
      "         3.8000,  3.9000,  4.0000,  4.1000,  4.2000,  4.3000,  4.4000,  4.5000,\n",
      "         4.6000,  4.7000,  4.8000,  4.9000,  5.0000])\n",
      "tensor([0.0067, 0.0074, 0.0082, 0.0090, 0.0100, 0.0110, 0.0121, 0.0134, 0.0148,\n",
      "        0.0163, 0.0180, 0.0198, 0.0219, 0.0241, 0.0266, 0.0293, 0.0323, 0.0356,\n",
      "        0.0392, 0.0431, 0.0474, 0.0522, 0.0573, 0.0630, 0.0691, 0.0759, 0.0832,\n",
      "        0.0911, 0.0998, 0.1091, 0.1192, 0.1301, 0.1419, 0.1545, 0.1680, 0.1824,\n",
      "        0.1978, 0.2142, 0.2315, 0.2497, 0.2689, 0.2891, 0.3100, 0.3318, 0.3543,\n",
      "        0.3775, 0.4013, 0.4256, 0.4502, 0.4750, 0.5000, 0.5250, 0.5498, 0.5744,\n",
      "        0.5987, 0.6225, 0.6457, 0.6682, 0.6900, 0.7109, 0.7311, 0.7503, 0.7685,\n",
      "        0.7858, 0.8022, 0.8176, 0.8320, 0.8455, 0.8581, 0.8699, 0.8808, 0.8909,\n",
      "        0.9002, 0.9089, 0.9168, 0.9241, 0.9309, 0.9370, 0.9427, 0.9478, 0.9526,\n",
      "        0.9569, 0.9608, 0.9644, 0.9677, 0.9707, 0.9734, 0.9759, 0.9781, 0.9802,\n",
      "        0.9820, 0.9837, 0.9852, 0.9866, 0.9879, 0.9890, 0.9900, 0.9910, 0.9918,\n",
      "        0.9926, 0.9933])\n"
     ]
    },
    {
     "data": {
      "image/png": "[encoded data removed]",
      "text/plain": [
       "<Figure size 640x480 with 1 Axes>"
      ]
     },
     "metadata": {},
     "output_type": "display_data"
    }
   ],
   "source": [
    "import torch\n",
    "import matplotlib.pyplot as plt\n",
    "x = torch.range(-5., 5., 0.1) \n",
    "print(x)\n",
    "y = torch.sigmoid(x)\n",
    "print(y)\n",
    "plt.plot(x.numpy(), y.numpy())\n",
    "plt.show()"
   ]
  },
  {
   "cell_type": "markdown",
   "id": "02a768cb",
   "metadata": {
    "hidden": true
   },
   "source": [
    "从图中可以看出，sigmoid 函数饱和（即，产生极值输出）非常快，对于大多数输入。这可能成\n",
    "为一个问题，因为它可能导致梯度变为零或发散到溢出的浮点值。这些现象分别被称为消失梯度\n",
    "问题和爆炸梯度问题。因此，在神经网络中，除了在输出端使用 sigmoid 单元外，很少看到其他\n",
    "使用 sigmoid 单元的情况，在输出端，压缩属性允许将输出解释为概率"
   ]
  },
  {
   "cell_type": "markdown",
   "id": "2433dbdb",
   "metadata": {
    "hidden": true
   },
   "source": [
    "#### Tanh"
   ]
  },
  {
   "cell_type": "markdown",
   "id": "46096c40",
   "metadata": {
    "hidden": true
   },
   "source": [
    "tanh 激活函数是 sigmoid 在外观上的不同变体,通过一些争论（我们留作练习），您可以确信 tanh 只是 sigmoid 的一个线性变换。当您为\n",
    "tanh() 写下 PyTorch 代码并绘制曲线时，这一点也很明显。注意双曲正切,像 sigmoid,也是一\n",
    "个“压缩”函数,除了它映射一个实值集合从 (-∞,+∞) 到 (-1,+1) 范围"
   ]
  },
  {
   "cell_type": "code",
   "execution_count": 67,
   "id": "c4030ca0",
   "metadata": {
    "ExecuteTime": {
     "end_time": "2021-07-17T14:23:27.561524Z",
     "start_time": "2021-07-17T14:23:27.403514Z"
    },
    "hidden": true
   },
   "outputs": [
    {
     "name": "stdout",
     "output_type": "stream",
     "text": [
      "tensor([-5.0000, -4.9000, -4.8000, -4.7000, -4.6000, -4.5000, -4.4000, -4.3000,\n",
      "        -4.2000, -4.1000, -4.0000, -3.9000, -3.8000, -3.7000, -3.6000, -3.5000,\n",
      "        -3.4000, -3.3000, -3.2000, -3.1000, -3.0000, -2.9000, -2.8000, -2.7000,\n",
      "        -2.6000, -2.5000, -2.4000, -2.3000, -2.2000, -2.1000, -2.0000, -1.9000,\n",
      "        -1.8000, -1.7000, -1.6000, -1.5000, -1.4000, -1.3000, -1.2000, -1.1000,\n",
      "        -1.0000, -0.9000, -0.8000, -0.7000, -0.6000, -0.5000, -0.4000, -0.3000,\n",
      "        -0.2000, -0.1000,  0.0000,  0.1000,  0.2000,  0.3000,  0.4000,  0.5000,\n",
      "         0.6000,  0.7000,  0.8000,  0.9000,  1.0000,  1.1000,  1.2000,  1.3000,\n",
      "         1.4000,  1.5000,  1.6000,  1.7000,  1.8000,  1.9000,  2.0000,  2.1000,\n",
      "         2.2000,  2.3000,  2.4000,  2.5000,  2.6000,  2.7000,  2.8000,  2.9000,\n",
      "         3.0000,  3.1000,  3.2000,  3.3000,  3.4000,  3.5000,  3.6000,  3.7000,\n",
      "         3.8000,  3.9000,  4.0000,  4.1000,  4.2000,  4.3000,  4.4000,  4.5000,\n",
      "         4.6000,  4.7000,  4.8000,  4.9000,  5.0000])\n",
      "tensor([-0.9999, -0.9999, -0.9999, -0.9998, -0.9998, -0.9998, -0.9997, -0.9996,\n",
      "        -0.9996, -0.9995, -0.9993, -0.9992, -0.9990, -0.9988, -0.9985, -0.9982,\n",
      "        -0.9978, -0.9973, -0.9967, -0.9959, -0.9951, -0.9940, -0.9926, -0.9910,\n",
      "        -0.9890, -0.9866, -0.9837, -0.9801, -0.9757, -0.9705, -0.9640, -0.9562,\n",
      "        -0.9468, -0.9354, -0.9217, -0.9051, -0.8854, -0.8617, -0.8337, -0.8005,\n",
      "        -0.7616, -0.7163, -0.6640, -0.6044, -0.5370, -0.4621, -0.3799, -0.2913,\n",
      "        -0.1974, -0.0997,  0.0000,  0.0997,  0.1974,  0.2913,  0.3799,  0.4621,\n",
      "         0.5370,  0.6044,  0.6640,  0.7163,  0.7616,  0.8005,  0.8337,  0.8617,\n",
      "         0.8854,  0.9051,  0.9217,  0.9354,  0.9468,  0.9562,  0.9640,  0.9705,\n",
      "         0.9757,  0.9801,  0.9837,  0.9866,  0.9890,  0.9910,  0.9926,  0.9940,\n",
      "         0.9951,  0.9959,  0.9967,  0.9973,  0.9978,  0.9982,  0.9985,  0.9988,\n",
      "         0.9990,  0.9992,  0.9993,  0.9995,  0.9996,  0.9996,  0.9997,  0.9998,\n",
      "         0.9998,  0.9998,  0.9999,  0.9999,  0.9999])\n"
     ]
    },
    {
     "data": {
      "image/png": "[encoded data removed]",
      "text/plain": [
       "<Figure size 640x480 with 1 Axes>"
      ]
     },
     "metadata": {},
     "output_type": "display_data"
    }
   ],
   "source": [
    "import torch\n",
    "import matplotlib.pyplot as plt\n",
    "x = torch.range(-5., 5., 0.1)\n",
    "print(x)\n",
    "y = torch.tanh(x)\n",
    "print(y)\n",
    "plt.plot(x.numpy(), y.numpy())\n",
    "plt.show()"
   ]
  },
  {
   "cell_type": "markdown",
   "id": "6146c0e6",
   "metadata": {
    "hidden": true
   },
   "source": [
    "#### ReLU"
   ]
  },
  {
   "cell_type": "markdown",
   "id": "27a0050d",
   "metadata": {
    "hidden": true
   },
   "source": [
    "ReLU（发音为 ray-luh）代表线性整流单元。这可以说是最重要的激活函数。事实上，我们可以\n",
    "大胆地说，如果没有使用 ReLU，许多最近在深度学习方面的创新都是不可能实现的。对于一些\n",
    "如此基础的东西来说，神经网络激活函数的出现也是令人惊讶的。它的形式也出奇的简单: \n",
    "f(x)=max(0,x) 因此，ReLU 单元所做的就是将负值裁剪为零"
   ]
  },
  {
   "cell_type": "code",
   "execution_count": 68,
   "id": "7e876a3e",
   "metadata": {
    "ExecuteTime": {
     "end_time": "2021-07-17T14:24:55.369357Z",
     "start_time": "2021-07-17T14:24:55.240343Z"
    },
    "hidden": true
   },
   "outputs": [
    {
     "name": "stdout",
     "output_type": "stream",
     "text": [
      "tensor([-5.0000, -4.9000, -4.8000, -4.7000, -4.6000, -4.5000, -4.4000, -4.3000,\n",
      "        -4.2000, -4.1000, -4.0000, -3.9000, -3.8000, -3.7000, -3.6000, -3.5000,\n",
      "        -3.4000, -3.3000, -3.2000, -3.1000, -3.0000, -2.9000, -2.8000, -2.7000,\n",
      "        -2.6000, -2.5000, -2.4000, -2.3000, -2.2000, -2.1000, -2.0000, -1.9000,\n",
      "        -1.8000, -1.7000, -1.6000, -1.5000, -1.4000, -1.3000, -1.2000, -1.1000,\n",
      "        -1.0000, -0.9000, -0.8000, -0.7000, -0.6000, -0.5000, -0.4000, -0.3000,\n",
      "        -0.2000, -0.1000,  0.0000,  0.1000,  0.2000,  0.3000,  0.4000,  0.5000,\n",
      "         0.6000,  0.7000,  0.8000,  0.9000,  1.0000,  1.1000,  1.2000,  1.3000,\n",
      "         1.4000,  1.5000,  1.6000,  1.7000,  1.8000,  1.9000,  2.0000,  2.1000,\n",
      "         2.2000,  2.3000,  2.4000,  2.5000,  2.6000,  2.7000,  2.8000,  2.9000,\n",
      "         3.0000,  3.1000,  3.2000,  3.3000,  3.4000,  3.5000,  3.6000,  3.7000,\n",
      "         3.8000,  3.9000,  4.0000,  4.1000,  4.2000,  4.3000,  4.4000,  4.5000,\n",
      "         4.6000,  4.7000,  4.8000,  4.9000,  5.0000])\n",
      "tensor([0.0000, 0.0000, 0.0000, 0.0000, 0.0000, 0.0000, 0.0000, 0.0000, 0.0000,\n",
      "        0.0000, 0.0000, 0.0000, 0.0000, 0.0000, 0.0000, 0.0000, 0.0000, 0.0000,\n",
      "        0.0000, 0.0000, 0.0000, 0.0000, 0.0000, 0.0000, 0.0000, 0.0000, 0.0000,\n",
      "        0.0000, 0.0000, 0.0000, 0.0000, 0.0000, 0.0000, 0.0000, 0.0000, 0.0000,\n",
      "        0.0000, 0.0000, 0.0000, 0.0000, 0.0000, 0.0000, 0.0000, 0.0000, 0.0000,\n",
      "        0.0000, 0.0000, 0.0000, 0.0000, 0.0000, 0.0000, 0.1000, 0.2000, 0.3000,\n",
      "        0.4000, 0.5000, 0.6000, 0.7000, 0.8000, 0.9000, 1.0000, 1.1000, 1.2000,\n",
      "        1.3000, 1.4000, 1.5000, 1.6000, 1.7000, 1.8000, 1.9000, 2.0000, 2.1000,\n",
      "        2.2000, 2.3000, 2.4000, 2.5000, 2.6000, 2.7000, 2.8000, 2.9000, 3.0000,\n",
      "        3.1000, 3.2000, 3.3000, 3.4000, 3.5000, 3.6000, 3.7000, 3.8000, 3.9000,\n",
      "        4.0000, 4.1000, 4.2000, 4.3000, 4.4000, 4.5000, 4.6000, 4.7000, 4.8000,\n",
      "        4.9000, 5.0000])\n"
     ]
    },
    {
     "data": {
      "image/png": "[encoded data removed]",
      "text/plain": [
       "<Figure size 640x480 with 1 Axes>"
      ]
     },
     "metadata": {},
     "output_type": "display_data"
    }
   ],
   "source": [
    "import torch\n",
    "import matplotlib.pyplot as plt\n",
    "relu = torch.nn.ReLU()\n",
    "x = torch.range(-5., 5., 0.1)\n",
    "print(x)\n",
    "y = relu(x)\n",
    "print(y)\n",
    "plt.plot(x.numpy(), y.numpy())\n",
    "plt.show()"
   ]
  },
  {
   "cell_type": "markdown",
   "id": "35ef5cc3",
   "metadata": {
    "hidden": true
   },
   "source": [
    "ReLU 的裁剪效果有助于消除梯度问题，随着时间的推移，网络中的某些输出可能会变成零，再\n",
    "也不会恢复。这就是所谓的“ReLU 死亡”问题。为了减轻这种影响，提出了 Leaky ReLU 或\n",
    "Parametric ReLU （PReLU）等变体，其中泄漏系数 a 是一个可学习参数: f(x)=max(x,ax)"
   ]
  },
  {
   "cell_type": "code",
   "execution_count": 72,
   "id": "7a49ade4",
   "metadata": {
    "ExecuteTime": {
     "end_time": "2021-07-17T14:30:56.207453Z",
     "start_time": "2021-07-17T14:30:56.072446Z"
    },
    "hidden": true
   },
   "outputs": [
    {
     "name": "stdout",
     "output_type": "stream",
     "text": [
      "tensor([-5.0000, -4.9000, -4.8000, -4.7000, -4.6000, -4.5000, -4.4000, -4.3000,\n",
      "        -4.2000, -4.1000, -4.0000, -3.9000, -3.8000, -3.7000, -3.6000, -3.5000,\n",
      "        -3.4000, -3.3000, -3.2000, -3.1000, -3.0000, -2.9000, -2.8000, -2.7000,\n",
      "        -2.6000, -2.5000, -2.4000, -2.3000, -2.2000, -2.1000, -2.0000, -1.9000,\n",
      "        -1.8000, -1.7000, -1.6000, -1.5000, -1.4000, -1.3000, -1.2000, -1.1000,\n",
      "        -1.0000, -0.9000, -0.8000, -0.7000, -0.6000, -0.5000, -0.4000, -0.3000,\n",
      "        -0.2000, -0.1000,  0.0000,  0.1000,  0.2000,  0.3000,  0.4000,  0.5000,\n",
      "         0.6000,  0.7000,  0.8000,  0.9000,  1.0000,  1.1000,  1.2000,  1.3000,\n",
      "         1.4000,  1.5000,  1.6000,  1.7000,  1.8000,  1.9000,  2.0000,  2.1000,\n",
      "         2.2000,  2.3000,  2.4000,  2.5000,  2.6000,  2.7000,  2.8000,  2.9000,\n",
      "         3.0000,  3.1000,  3.2000,  3.3000,  3.4000,  3.5000,  3.6000,  3.7000,\n",
      "         3.8000,  3.9000,  4.0000,  4.1000,  4.2000,  4.3000,  4.4000,  4.5000,\n",
      "         4.6000,  4.7000,  4.8000,  4.9000,  5.0000])\n",
      "tensor([-1.2500, -1.2250, -1.2000, -1.1750, -1.1500, -1.1250, -1.1000, -1.0750,\n",
      "        -1.0500, -1.0250, -1.0000, -0.9750, -0.9500, -0.9250, -0.9000, -0.8750,\n",
      "        -0.8500, -0.8250, -0.8000, -0.7750, -0.7500, -0.7250, -0.7000, -0.6750,\n",
      "        -0.6500, -0.6250, -0.6000, -0.5750, -0.5500, -0.5250, -0.5000, -0.4750,\n",
      "        -0.4500, -0.4250, -0.4000, -0.3750, -0.3500, -0.3250, -0.3000, -0.2750,\n",
      "        -0.2500, -0.2250, -0.2000, -0.1750, -0.1500, -0.1250, -0.1000, -0.0750,\n",
      "        -0.0500, -0.0250,  0.0000,  0.1000,  0.2000,  0.3000,  0.4000,  0.5000,\n",
      "         0.6000,  0.7000,  0.8000,  0.9000,  1.0000,  1.1000,  1.2000,  1.3000,\n",
      "         1.4000,  1.5000,  1.6000,  1.7000,  1.8000,  1.9000,  2.0000,  2.1000,\n",
      "         2.2000,  2.3000,  2.4000,  2.5000,  2.6000,  2.7000,  2.8000,  2.9000,\n",
      "         3.0000,  3.1000,  3.2000,  3.3000,  3.4000,  3.5000,  3.6000,  3.7000,\n",
      "         3.8000,  3.9000,  4.0000,  4.1000,  4.2000,  4.3000,  4.4000,  4.5000,\n",
      "         4.6000,  4.7000,  4.8000,  4.9000,  5.0000], grad_fn=<PreluBackward>)\n"
     ]
    },
    {
     "data": {
      "image/png": "[encoded data removed]",
      "text/plain": [
       "<Figure size 640x480 with 1 Axes>"
      ]
     },
     "metadata": {},
     "output_type": "display_data"
    }
   ],
   "source": [
    "import torch\n",
    "import matplotlib.pyplot as plt\n",
    "prelu = torch.nn.PReLU(num_parameters=1)\n",
    "x = torch.range(-5., 5., 0.1)\n",
    "# x.require_grad = False\n",
    "print(x)\n",
    "y = prelu(x)\n",
    "# y.require_grad = False\n",
    "print(y)\n",
    "plt.plot(x.detach().numpy(), y.detach().numpy())\n",
    "plt.show()"
   ]
  },
  {
   "cell_type": "markdown",
   "id": "466912c4",
   "metadata": {
    "hidden": true
   },
   "source": [
    "#### Softmax"
   ]
  },
  {
   "cell_type": "markdown",
   "id": "3f169f2f",
   "metadata": {
    "hidden": true
   },
   "source": [
    "激活函数的另一个选择是 softmax。与 sigmoid 函数类似，softmax 函数将每个单元的输出压缩\n",
    "为 0 到 1 之间。然而，softmax 操作还将每个输出除以所有输出的和，从而得到一个离散概率分\n",
    "布，除以 k 个可能的类。结果分布中的概率总和为 1。这对于解释分类任务的输出非常有用，因\n",
    "此这种转换通常与概率训练目标配对，例如分类交叉熵，它在“深入研究监督训练”中介绍"
   ]
  },
  {
   "cell_type": "code",
   "execution_count": 73,
   "id": "9b220ac7",
   "metadata": {
    "ExecuteTime": {
     "end_time": "2021-07-17T14:32:26.971297Z",
     "start_time": "2021-07-17T14:32:26.951297Z"
    },
    "hidden": true
   },
   "outputs": [
    {
     "name": "stdout",
     "output_type": "stream",
     "text": [
      "tensor([[-2.0559,  0.2630, -0.7416]])\n",
      "tensor([[0.0672, 0.6828, 0.2500]])\n",
      "tensor([1.])\n"
     ]
    }
   ],
   "source": [
    "import torch.nn as nn\n",
    "import torch\n",
    "softmax = nn.Softmax(dim=1)\n",
    "x_input = torch.randn(1, 3)\n",
    "y_output = softmax(x_input)\n",
    "print(x_input)\n",
    "print(y_output)\n",
    "print(torch.sum(y_output, dim=1))"
   ]
  },
  {
   "cell_type": "markdown",
   "id": "9d497922",
   "metadata": {
    "heading_collapsed": true
   },
   "source": [
    "### 损失函数 - loss func"
   ]
  },
  {
   "cell_type": "markdown",
   "id": "19b1515a",
   "metadata": {
    "hidden": true
   },
   "source": [
    "一个损失函数将真相（ y ）和预测（ ŷ ）作为输入,产生一个实值的分数。这个分数越高，模型的预测就越差。PyTorch 在它的 nn 包中实现了许多损失函数"
   ]
  },
  {
   "cell_type": "markdown",
   "id": "ad002b34",
   "metadata": {
    "hidden": true
   },
   "source": [
    "#### MSELoss - 均方误差损失"
   ]
  },
  {
   "cell_type": "markdown",
   "id": "e1055ac7",
   "metadata": {
    "hidden": true
   },
   "source": [
    "回归问题的网络的输出（ ŷ ）和目标（ y ）是连续值,一个常用的损失函数的均方误差（MSE）。\n",
    "\n",
    "MSE 就是预测值与目标值之差的平方的平均值。还有一些其他的损失函数可以用于回归问题，\n",
    "例如平均绝对误差（MAE）和均方根误差（RMSE），但是它们都涉及到计算输出和目标之间的\n",
    "实值距离。示例 3-6 展示了如何使用 PyTorch 实现 MSE 损失"
   ]
  },
  {
   "cell_type": "code",
   "execution_count": 74,
   "id": "f9a0f4ec",
   "metadata": {
    "ExecuteTime": {
     "end_time": "2021-07-17T14:37:01.366089Z",
     "start_time": "2021-07-17T14:37:01.353089Z"
    },
    "hidden": true
   },
   "outputs": [
    {
     "data": {
      "text/plain": [
       "tensor(1.9754, grad_fn=<MseLossBackward>)"
      ]
     },
     "execution_count": 74,
     "metadata": {},
     "output_type": "execute_result"
    }
   ],
   "source": [
    "import torch\n",
    "import torch.nn as nn\n",
    "mse_loss = nn.MSELoss()\n",
    "outputs = torch.randn(3, 5, requires_grad=True)\n",
    "targets = torch.randn(3, 5)\n",
    "loss = mse_loss(outputs, targets)\n",
    "loss"
   ]
  },
  {
   "cell_type": "markdown",
   "id": "10776ee2",
   "metadata": {
    "hidden": true
   },
   "source": [
    "#### 类别交叉熵损失 - categorical cross-entropy loss"
   ]
  },
  {
   "cell_type": "markdown",
   "id": "baee0e91",
   "metadata": {
    "hidden": true
   },
   "source": [
    "分类交叉熵损失（categorical cross-entropy loss）通常用于多类分类设置，其中输出被解释为\n",
    "类隶属度概率的预测。目标（ y ）是 n 个元素的向量，表示所有类的真正多项分布。如果只有一\n",
    "个类是正确的，那么这个向量就是单热向量。网络的输出（ ŷ ）也是一个向量 n 个元素,但代表\n",
    "了网络的多项分布的预测。分类交叉熵将比较这两个向量（ y, ŷ ）来衡量损失:\n",
    "\n",
    "交叉熵和它的表达式起源于信息论，但是为了本节的目的，把它看作一种计算两个分布有多不同\n",
    "的方法是有帮助的。我们希望正确的类的概率接近 1，而其他类的概率接近 0。\n",
    "\n",
    "为了正确地使用 PyTorch 的交叉熵损失，一定程度上理解网络输出、损失函数的计算方法和来\n",
    "自真正表示浮点数的各种计算约束之间的关系是很重要的。具体来说，有四条信息决定了网络输\n",
    "出和损失函数之间微妙的关系。首先，一个数字的大小是有限制的。其次，如果 softmax 公式\n",
    "中使用的指数函数的输入是负数，则结果是一个指数小的数，如果是正数，则结果是一个指数大\n",
    "的数。接下来，假定网络的输出是应用 softmax 函数之前的向量。最后,对数函数是指数函数的\n",
    "倒数,和 log(exp (x)) 就等于 x 。因这四个信息,数学简化假设 指数函数和对数函数是为了更稳\n",
    "定的数值计算和避免很小或很大的数字。这些简化的结果是，不使用 softmax 函数的网络输出\n",
    "可以与 PyTorch 的交叉熵损失一起使用，从而优化概率分布。然后，当网络经过训练后，可以\n",
    "使用 softmax 函数创建概率分布"
   ]
  },
  {
   "cell_type": "code",
   "execution_count": 76,
   "id": "b506d72c",
   "metadata": {
    "ExecuteTime": {
     "end_time": "2021-07-17T14:41:09.331813Z",
     "start_time": "2021-07-17T14:41:09.318811Z"
    },
    "hidden": true
   },
   "outputs": [
    {
     "data": {
      "text/plain": [
       "(tensor([[-0.2364, -0.1256,  1.1473, -1.3343,  0.0135],\n",
       "         [-0.2170, -0.0795,  0.4395, -0.5752, -0.7722],\n",
       "         [-0.9170, -0.1645, -0.0599,  1.7427, -1.1147]], requires_grad=True),\n",
       " tensor([1, 0, 3]),\n",
       " tensor(1.3252, grad_fn=<NllLossBackward>))"
      ]
     },
     "execution_count": 76,
     "metadata": {},
     "output_type": "execute_result"
    }
   ],
   "source": [
    "import torch\n",
    "import torch.nn as nn\n",
    "ce_loss = nn.CrossEntropyLoss()\n",
    "outputs = torch.randn(3, 5, requires_grad=True)\n",
    "targets = torch.tensor([1, 0, 3], dtype=torch.int64)\n",
    "loss = ce_loss(outputs, targets)\n",
    "outputs, targets, loss"
   ]
  },
  {
   "cell_type": "markdown",
   "id": "692cc2c8",
   "metadata": {
    "hidden": true
   },
   "source": [
    "#### 二元交叉熵"
   ]
  },
  {
   "cell_type": "markdown",
   "id": "9bdd6092",
   "metadata": {
    "hidden": true
   },
   "source": [
    "我们在上一节看到的分类交叉熵损失函数在我们有多个类的分类问题中非常有用。有时，我们的\n",
    "任务包括区分两个类——也称为二元分类。在这种情况下，利用二元交叉熵损失是有效的。我们\n",
    "将在示例任务的“示例:对餐馆评论的情绪进行分类”中研究这个损失函数。\n",
    "\n",
    "在示例 3-8 中，我们使用表示网络输出的随机向量上的 sigmoid 激活函数创建二进制概率输出向\n",
    "量。接下来，真实情况被实例化为一个 0 和 1 的向量。最后，利用二元概率向量和基真值向量\n",
    "计算二元交叉熵损失。"
   ]
  },
  {
   "cell_type": "code",
   "execution_count": 77,
   "id": "eea5242d",
   "metadata": {
    "ExecuteTime": {
     "end_time": "2021-07-17T14:56:43.325720Z",
     "start_time": "2021-07-17T14:56:43.308716Z"
    },
    "hidden": true
   },
   "outputs": [
    {
     "name": "stdout",
     "output_type": "stream",
     "text": [
      "tensor([[0.5734],\n",
      "        [0.5158],\n",
      "        [0.5663],\n",
      "        [0.4483]], grad_fn=<SigmoidBackward>)\n",
      "tensor(0.6112, grad_fn=<BinaryCrossEntropyBackward>)\n"
     ]
    }
   ],
   "source": [
    "bce_loss = nn.BCELoss()\n",
    "sigmoid = nn.Sigmoid()\n",
    "probabilities = sigmoid(torch.randn(4, 1, requires_grad=True))\n",
    "targets = torch.tensor([1, 0, 1, 0], dtype=torch.float32).view(4, 1)\n",
    "loss = bce_loss(probabilities, targets)\n",
    "print(probabilities)\n",
    "print(loss)"
   ]
  },
  {
   "cell_type": "markdown",
   "id": "7780957b",
   "metadata": {
    "heading_collapsed": true
   },
   "source": [
    "## simple CNN"
   ]
  },
  {
   "cell_type": "code",
   "execution_count": 51,
   "id": "d91eb3be",
   "metadata": {
    "ExecuteTime": {
     "end_time": "2021-07-17T13:52:14.467078Z",
     "start_time": "2021-07-17T13:52:14.452079Z"
    },
    "hidden": true
   },
   "outputs": [
    {
     "name": "stdout",
     "output_type": "stream",
     "text": [
      "Net(\n",
      "  (conv1): Conv2d(1, 6, kernel_size=(5, 5), stride=(1, 1))\n",
      "  (conv2): Conv2d(6, 16, kernel_size=(5, 5), stride=(1, 1))\n",
      "  (fc1): Linear(in_features=400, out_features=120, bias=True)\n",
      "  (fc2): Linear(in_features=120, out_features=84, bias=True)\n",
      "  (fc3): Linear(in_features=84, out_features=10, bias=True)\n",
      ")\n",
      "10\n",
      "torch.Size([6, 1, 5, 5])\n"
     ]
    }
   ],
   "source": [
    "# 定义一个神经网络\n",
    "import torch\n",
    "import torch.nn as nn\n",
    "import torch.nn.functional as F\n",
    "class Net(nn.Module):\n",
    "    def __init__(self):\n",
    "     super(Net, self).__init__()\n",
    "     # 1 input image channel, 6 output channels, 5x5 square convolution\n",
    "     # kernel\n",
    "     self.conv1 = nn.Conv2d(1, 6, 5)\n",
    "     self.conv2 = nn.Conv2d(6, 16, 5)\n",
    "     # an affine operation: y = Wx + b\n",
    "     self.fc1 = nn.Linear(16 * 5 * 5, 120)\n",
    "     self.fc2 = nn.Linear(120, 84)\n",
    "     self.fc3 = nn.Linear(84, 10)\n",
    "    def forward(self, x):\n",
    "     # Max pooling over a (2, 2) window\n",
    "     x = F.max_pool2d(F.relu(self.conv1(x)), (2, 2))\n",
    "     # If the size is a square you can only specify a single number\n",
    "     x = F.max_pool2d(F.relu(self.conv2(x)), 2)\n",
    "     x = x.view(-1, self.num_flat_features(x))\n",
    "     x = F.relu(self.fc1(x))\n",
    "     x = F.relu(self.fc2(x))\n",
    "     x = self.fc3(x)\n",
    "     return x\n",
    "    def num_flat_features(self, x):\n",
    "        size = x.size()[1:] # all dimensions except the batch dimension\n",
    "        num_features = 1\n",
    "        for s in size:\n",
    "            num_features *= s\n",
    "        return num_features\n",
    "net = Net()\n",
    "print(net)\n",
    "# 一个模型可训练的参数可以通过调用 net.parameters() 返回\n",
    "params = list(net.parameters())\n",
    "print(len(params))\n",
    "print(params[0].size()) # conv1's .weight\n",
    "# params"
   ]
  },
  {
   "cell_type": "markdown",
   "id": "9b5804a0",
   "metadata": {
    "heading_collapsed": true
   },
   "source": [
    "# 优化器与损失函数"
   ]
  },
  {
   "cell_type": "markdown",
   "id": "caf773f1",
   "metadata": {
    "hidden": true
   },
   "source": [
    "loss func - criterion"
   ]
  },
  {
   "cell_type": "code",
   "execution_count": null,
   "id": "3c1fc86e",
   "metadata": {
    "hidden": true
   },
   "outputs": [],
   "source": [
    "# 均方误差损失 [x1 - x2]^2\n",
    "import torch.nn as nn\n",
    "criterion = nn.MSELoss()\n",
    "loss = criterion(output, target)\n",
    "import torch.optim as optim\n",
    "# create your optimizer\n",
    "optimizer = optim.SGD(net.parameters(), lr=0.01)\n",
    "# in your training loop:\n",
    "optimizer.zero_grad() # zero the gradient buffers"
   ]
  },
  {
   "cell_type": "code",
   "execution_count": null,
   "id": "c6a1dbac",
   "metadata": {
    "hidden": true
   },
   "outputs": [],
   "source": [
    "import torch.optim as optim\n",
    "criterion = nn.CrossEntropyLoss()\n",
    "optimizer = optim.SGD(net.parameters(), lr=0.001, momentum=0.9)"
   ]
  },
  {
   "cell_type": "markdown",
   "id": "4744caf1",
   "metadata": {},
   "source": [
    "# 训练过程"
   ]
  },
  {
   "cell_type": "markdown",
   "id": "fee8e6f9",
   "metadata": {
    "heading_collapsed": true
   },
   "source": [
    "## basic examples"
   ]
  },
  {
   "cell_type": "code",
   "execution_count": null,
   "id": "9b080942",
   "metadata": {
    "hidden": true
   },
   "outputs": [],
   "source": [
    "# 我们只需要在数据迭代器上循环传给网络和优化器 输入就可以\n",
    "for epoch in range(2): # loop over the dataset multiple times\n",
    "    running_loss = 0.0\n",
    "    for i, data in enumerate(trainloader, 0):\n",
    "        # get the inputs\n",
    "        inputs, labels = data\n",
    "        \n",
    "        # zero the parameter gradients\n",
    "        optimizer.zero_grad()\n",
    "        \n",
    "        # forward + backward + optimize\n",
    "        outputs = net(inputs)\n",
    "        loss = criterion(outputs, labels)\n",
    "        loss.backward()\n",
    "        optimizer.step()\n",
    "        \n",
    "        # print statistics\n",
    "        running_loss += loss.item()\n",
    "        if i % 2000 == 1999: # print every 2000 mini-batches\n",
    "            print('[%d, %5d] loss: %.3f' %\n",
    "                (epoch + 1, i + 1, running_loss / 2000))\n",
    "            running_loss = 0.0"
   ]
  },
  {
   "cell_type": "code",
   "execution_count": 48,
   "id": "8517e4a3",
   "metadata": {
    "ExecuteTime": {
     "end_time": "2021-07-17T12:27:40.165307Z",
     "start_time": "2021-07-17T12:27:40.141305Z"
    },
    "hidden": true,
    "scrolled": true
   },
   "outputs": [
    {
     "data": {
      "text/plain": [
       "torch.return_types.max(\n",
       "values=tensor(4),\n",
       "indices=tensor(4))"
      ]
     },
     "execution_count": 48,
     "metadata": {},
     "output_type": "execute_result"
    }
   ],
   "source": [
    "torch.max(torch.tensor([0,1,2,3,4]), 0)"
   ]
  },
  {
   "cell_type": "markdown",
   "id": "555fa854",
   "metadata": {
    "heading_collapsed": true
   },
   "source": [
    "## 多GPU并行加速"
   ]
  },
  {
   "cell_type": "code",
   "execution_count": null,
   "id": "adf16b9c",
   "metadata": {
    "code_folding": [],
    "hidden": true
   },
   "outputs": [],
   "source": [
    "# 你可以将模型放在一个 GPU：\n",
    "device = torch.device(\"cuda:0\")\n",
    "model.to(device)"
   ]
  },
  {
   "cell_type": "code",
   "execution_count": null,
   "id": "b6f02579",
   "metadata": {
    "hidden": true
   },
   "outputs": [],
   "source": [
    "# 然后，你可以复制所有的张量到 GPU：\n",
    "mytensor = my_tensor.to(device)"
   ]
  },
  {
   "cell_type": "code",
   "execution_count": null,
   "id": "57114c8e",
   "metadata": {
    "hidden": true
   },
   "outputs": [],
   "source": [
    "# 通过使用 DataParallel 让你的模型并行运行\n",
    "model = nn.DataParallel(model)"
   ]
  },
  {
   "cell_type": "markdown",
   "id": "6ec3d1f1",
   "metadata": {
    "hidden": true
   },
   "source": [
    "### A example"
   ]
  },
  {
   "cell_type": "code",
   "execution_count": null,
   "id": "62f26db1",
   "metadata": {
    "hidden": true
   },
   "outputs": [],
   "source": [
    "import torch\n",
    "import torch.nn as nn\n",
    "from torch.utils.data import Dataset, DataLoader\n",
    "input_size = 5\n",
    "output_size = 2\n",
    "batch_size = 30\n",
    "data_size = 100\n",
    "device = torch.device(\"cuda:0\" if torch.cuda.is_available() else \"cpu\")"
   ]
  },
  {
   "cell_type": "code",
   "execution_count": null,
   "id": "e8860455",
   "metadata": {
    "hidden": true
   },
   "outputs": [],
   "source": [
    "# 生成一个玩具数据。你只需要实现 getitem.\n",
    "class RandomDataset(Dataset):\n",
    "    def __init__(self, size, length):\n",
    "        self.len = length\n",
    "        self.data = torch.randn(length, size)\n",
    "    def __getitem__(self, index):\n",
    "        return self.data[index]\n",
    "    def __len__(self):\n",
    "        return self.len\n",
    "rand_loader = DataLoader(dataset=RandomDataset(input_size, data_size),batch_size=batch_size, shuffle=True)"
   ]
  },
  {
   "cell_type": "markdown",
   "id": "4f281ca1",
   "metadata": {
    "hidden": true
   },
   "source": [
    "为了做一个小 demo，我们的模型只是获得一个输入，执行一个线性操作，然后给一个输出。尽管\n",
    "如此，你可以使用 DataParallel 在任何模型(CNN, RNN, Capsule Net 等等.)"
   ]
  },
  {
   "cell_type": "code",
   "execution_count": null,
   "id": "2cb42afa",
   "metadata": {
    "hidden": true
   },
   "outputs": [],
   "source": [
    "class Model(nn.Module):\n",
    "    # Our model\n",
    "    def __init__(self, input_size, output_size):\n",
    "        super(Model, self).__init__()\n",
    "        self.fc = nn.Linear(input_size, output_size)\n",
    "    def forward(self, input):\n",
    "        output = self.fc(input)\n",
    "        print(\"\\tIn Model: input size\", input.size(),\n",
    "            \"output size\", output.size())\n",
    "        return output"
   ]
  },
  {
   "cell_type": "markdown",
   "id": "e8c73c24",
   "metadata": {
    "hidden": true
   },
   "source": [
    "核心。首先我们需要一个模型的实例，然后验证我们是否有多个 GPU。如果我们\n",
    "有多个 GPU，我们可以用 nn.DataParallel 来 包裹 我们的模型。然后我们使用 model.to(device)\n",
    "把模型放到多 GPU 中。"
   ]
  },
  {
   "cell_type": "code",
   "execution_count": null,
   "id": "a8b65695",
   "metadata": {
    "hidden": true
   },
   "outputs": [],
   "source": [
    "model = Model(input_size, output_size)\n",
    "if torch.cuda.device_count() > 1:\n",
    "    print(\"Let's use\", torch.cuda.device_count(), \"GPUs!\")\n",
    "    # dim = 0 [30, xxx] -> [10, ...], [10, ...], [10, ...] on 3 GPUs\n",
    "    model = nn.DataParallel(model)\n",
    "model.to(device)"
   ]
  },
  {
   "cell_type": "code",
   "execution_count": null,
   "id": "48b4f0dc",
   "metadata": {
    "hidden": true
   },
   "outputs": [],
   "source": [
    "# 运行模型： 现在我们可以看到输入和输出张量的大小了\n",
    "for data in rand_loader:\n",
    "    input = data.to(device)\n",
    "    output = model(input)\n",
    "    print(\"Outside: input size\", input.size(),\n",
    "    \"output_size\", output.size())"
   ]
  },
  {
   "cell_type": "markdown",
   "id": "4309b1f7",
   "metadata": {
    "hidden": true
   },
   "source": [
    "数据并行自动拆分了你的数据并且将任务单发送到多个 GPU 上。当每一个模型都完成自己的任务\n",
    "之后，DataParallel 收集并且合并这些结果，然后再返回给你"
   ]
  },
  {
   "cell_type": "markdown",
   "id": "b2df1182",
   "metadata": {
    "heading_collapsed": true
   },
   "source": [
    "## argparse"
   ]
  },
  {
   "cell_type": "markdown",
   "id": "70636494",
   "metadata": {
    "hidden": true
   },
   "source": [
    "我们常常可以把argparse的使用简化成下面四个步骤\n",
    "\n",
    "1：import argparse\n",
    "\n",
    "2：parser = argparse.ArgumentParser()\n",
    "\n",
    "3：parser.add_argument()\n",
    "\n",
    "4：parser.parse_args()\n",
    "\n",
    "上面四个步骤解释如下：首先导入该模块；然后创建一个解析对象；然后向该对象中添加你要关注的命令行参数和选项，每一个add_argument方法对应一个你要关注的参数或选项；最后调用parse_args()方法进行解析；解析成功之后即可使用。\n",
    "\n",
    "\n",
    "1-引入模块\n",
    "import argparse\n",
    "\n",
    "2-建立解析对象\n",
    "parser = argparse.ArgumentParser()\n",
    "\n",
    "3-增加属性：给xx实例增加一个aa属性 # xx.add_argument(“aa”)\n",
    "parser.add_argument(“echo”)\n",
    "\n",
    "4-属性给与args实例： 把parser中设置的所有\"add_argument\"给返回到args子类实例当中， 那么parser中增加的属性内容都会在args实例中，使用即可。\n",
    "args = parser.parse_args()\n",
    "\n",
    "在 add_argument 前，给属性名之前加上“- -”，就能将之变为可选参数。\n",
    "parser.add_argument(\"–bool\",help = “Whether to pirnt sth.”)"
   ]
  },
  {
   "cell_type": "code",
   "execution_count": null,
   "id": "3c9bbd2d",
   "metadata": {
    "hidden": true
   },
   "outputs": [],
   "source": [
    "import argparse\n",
    "\n",
    "parser = argparse.ArgumentParser(description='命令行中传入一个数字')\n",
    "#type是要传入的参数的数据类型  help是该参数的提示信息\n",
    "parser.add_argument('integers', type=str, help='传入的数字')\n",
    "\n",
    "args = parser.parse_args()\n",
    "\n",
    "#获得传入的参数\n",
    "print(args)"
   ]
  },
  {
   "cell_type": "code",
   "execution_count": null,
   "id": "20b9dab9",
   "metadata": {
    "ExecuteTime": {
     "end_time": "2021-07-18T07:08:40.772090Z",
     "start_time": "2021-07-18T07:08:40.673257Z"
    },
    "hidden": true
   },
   "outputs": [],
   "source": [
    "# 例子：\n",
    "import argparse\n",
    "parser = argparse.ArgumentParser()\n",
    "\n",
    "parser.add_argument(\"--model_name_or_path\", default=None, type=str, required=True, help=\"Path to pre-trained model or shortcut name selected in the list: \" + \", \".join(list(NeZhaTokenizer.pretrained_init_configuration.keys())))\n",
    "parser.add_argument(\"--init_checkpoint_path\", default=None, type=str, required=True, help=\"The model checkpoint path.\", )\n",
    "parser.add_argument(\"--max_seq_length\", default=128, type=int, help=\"The maximum total input sequence length after tokenization. Sequences longer \" \"than this will be truncated, sequences shorter will be padded.\", )\n",
    "parser.add_argument(\"--batch_size\", default=8, type=int, help=\"Batch size per GPU/CPU for training.\", )\n",
    "parser.add_argument(\"--device\", default=\"gpu\", type=str, choices=[\"cpu\", \"gpu\", \"xpu\"], help=\"The device to select to train the model, is must be cpu/gpu/xpu.\")"
   ]
  },
  {
   "cell_type": "markdown",
   "id": "6a8de33a",
   "metadata": {
    "heading_collapsed": true
   },
   "source": [
    "## tensorboard可视化"
   ]
  },
  {
   "cell_type": "markdown",
   "id": "14e0bd34",
   "metadata": {
    "hidden": true
   },
   "source": [
    "复制文件logger.py至自己的项目目录下\n",
    "在项目下建立tensorboard文件夹，存放可视化训练过程中产生的中间文件。\n",
    "在代码中声明tf_logger = Logger(os.path.join(sys.path[0]+'/tensorboard/'))，记录需要可视化的数据。"
   ]
  },
  {
   "cell_type": "code",
   "execution_count": null,
   "id": "7f897357",
   "metadata": {
    "hidden": true
   },
   "outputs": [],
   "source": [
    "# set tf logger for tensorboard\n",
    "tf_logger = Logger(os.path.join(sys.path[0]+'/tensorboard/'))\n",
    "# train\n",
    "for step, (x, y) in enumerate(dataset, start=1):\n",
    "   x, y = x.to(device), y.to(device)\n",
    "   predict, loss = model(x)\n",
    "   accs = cal_accuracy(predict, y)\n",
    "   if step % 10 == 0:\n",
    "        print('step:{0}\\ttraining acc:{1}'.format(step, accs))\n",
    "   # tensorboard\n",
    "   tf_logger.scalar_summary(\"accs\", accs, step)\n",
    "   tf_logger.scalar_summary(\"loss\", loss, step)"
   ]
  },
  {
   "cell_type": "code",
   "execution_count": null,
   "id": "e8396cbf",
   "metadata": {
    "hidden": true
   },
   "outputs": [],
   "source": [
    "#在当前目录下输入以下命令，启动tensorboard：\n",
    "tensorboard --logdir='./tensorboard' --port='6006'\n",
    "pip show tensorflow\n",
    "# 根据pip show tensorflow显示的安装路径，进入tensorboard安装目录\n",
    "cd /anaconda3/lib/python3.6/site-packages/tensorboard\n",
    "# 在tensorboard安装目录下输入以下命令,注意--logdir对应的是tensorboard文件夹的绝对路径\n",
    "python main.py --logdir='/Users/xuawai/demo/tensorboard' --port=6006\n",
    "# 浏览器打开http://localhost:6006，即实现可视化的训练过程"
   ]
  },
  {
   "cell_type": "markdown",
   "id": "9fd3d4f7",
   "metadata": {
    "hidden": true
   },
   "source": []
  },
  {
   "cell_type": "markdown",
   "id": "fc6a1d29",
   "metadata": {
    "hidden": true
   },
   "source": [
    "https://github.com/lanpa/tensorboardX"
   ]
  },
  {
   "cell_type": "markdown",
   "id": "8b06729c",
   "metadata": {},
   "source": [
    "# full code examples"
   ]
  },
  {
   "cell_type": "markdown",
   "id": "888d82b7",
   "metadata": {
    "heading_collapsed": true
   },
   "source": [
    "## A perceptron example"
   ]
  },
  {
   "cell_type": "code",
   "execution_count": null,
   "id": "07396968",
   "metadata": {
    "hidden": true
   },
   "outputs": [],
   "source": [
    "import torch.nn as nn\n",
    "import torch.optim as optim\n",
    "input_dim = 2\n",
    "lr = 0.001\n",
    "perceptron = Perceptron(input_dim=input_dim)\n",
    "bce_loss = nn.BCELoss()\n",
    "optimizer = optim.Adam(params=perceptron.parameters(), lr=lr)"
   ]
  },
  {
   "cell_type": "code",
   "execution_count": null,
   "id": "600cecab",
   "metadata": {
    "hidden": true
   },
   "outputs": [],
   "source": [
    "# each epoch is a complete pass over the training data\n",
    "for epoch_i in range(n_epochs):\n",
    "    # the inner loop is over the batches in the dataset\n",
    "    for batch_i in range(n_batches):\n",
    "        # Step 0: Get the data\n",
    "        x_data, y_target = get_toy_data(batch_size)\n",
    "        \n",
    "        # Step 1: Clear the gradients\n",
    "        perceptron.zero_grad()\n",
    "        \n",
    "        # Step 2: Compute the forward pass of the model\n",
    "        y_pred = perceptron(x_data, apply_sigmoid=True)\n",
    "        \n",
    "        # Step 3: Compute the loss value that we wish to optimize\n",
    "        loss = bce_loss(y_pred, y_target)\n",
    "        \n",
    "        # Step 4: Propagate the loss signal backward\n",
    "        loss.backward()\n",
    "        \n",
    "        # Step 5: Trigger the optimizer to perform one update\n",
    "        optimizer.step()"
   ]
  },
  {
   "cell_type": "markdown",
   "id": "3a2bee54",
   "metadata": {
    "heading_collapsed": true
   },
   "source": [
    "## A simple CNN example"
   ]
  },
  {
   "cell_type": "markdown",
   "id": "e339b0f0",
   "metadata": {
    "hidden": true
   },
   "source": [
    "model - net的骨架"
   ]
  },
  {
   "cell_type": "code",
   "execution_count": 29,
   "id": "282be58e",
   "metadata": {
    "ExecuteTime": {
     "end_time": "2021-07-16T08:40:48.374820Z",
     "start_time": "2021-07-16T08:40:48.336635Z"
    },
    "hidden": true
   },
   "outputs": [
    {
     "name": "stdout",
     "output_type": "stream",
     "text": [
      "Net(\n",
      "  (conv1): Conv2d(1, 6, kernel_size=(5, 5), stride=(1, 1))\n",
      "  (conv2): Conv2d(6, 16, kernel_size=(5, 5), stride=(1, 1))\n",
      "  (fc1): Linear(in_features=400, out_features=120, bias=True)\n",
      "  (fc2): Linear(in_features=120, out_features=84, bias=True)\n",
      "  (fc3): Linear(in_features=84, out_features=10, bias=True)\n",
      ")\n"
     ]
    }
   ],
   "source": [
    "# 定义一个神经网络\n",
    "import torch\n",
    "import torch.nn as nn\n",
    "import torch.nn.functional as F\n",
    "class Net(nn.Module):\n",
    "    def __init__(self):\n",
    "     super(Net, self).__init__()\n",
    "     # 1 input image channel, 6 output channels, 5x5 square convolution\n",
    "     # kernel\n",
    "     self.conv1 = nn.Conv2d(1, 6, 5)\n",
    "     self.conv2 = nn.Conv2d(6, 16, 5)\n",
    "     # an affine operation: y = Wx + b\n",
    "     self.fc1 = nn.Linear(16 * 5 * 5, 120)\n",
    "     self.fc2 = nn.Linear(120, 84)\n",
    "     self.fc3 = nn.Linear(84, 10)\n",
    "    def forward(self, x):\n",
    "     # Max pooling over a (2, 2) window\n",
    "     x = F.max_pool2d(F.relu(self.conv1(x)), (2, 2))\n",
    "     # If the size is a square you can only specify a single number\n",
    "     x = F.max_pool2d(F.relu(self.conv2(x)), 2)\n",
    "     x = x.view(-1, self.num_flat_features(x))\n",
    "     x = F.relu(self.fc1(x))\n",
    "     x = F.relu(self.fc2(x))\n",
    "     x = self.fc3(x)\n",
    "     return x\n",
    "    def num_flat_features(self, x):\n",
    "        size = x.size()[1:] # all dimensions except the batch dimension\n",
    "        num_features = 1\n",
    "        for s in size:\n",
    "            num_features *= s\n",
    "        return num_features\n",
    "net = Net()\n",
    "print(net)"
   ]
  },
  {
   "cell_type": "code",
   "execution_count": 33,
   "id": "3534a512",
   "metadata": {
    "ExecuteTime": {
     "end_time": "2021-07-16T08:42:07.410521Z",
     "start_time": "2021-07-16T08:42:07.362546Z"
    },
    "hidden": true
   },
   "outputs": [
    {
     "name": "stdout",
     "output_type": "stream",
     "text": [
      "10\n",
      "torch.Size([6, 1, 5, 5])\n"
     ]
    },
    {
     "data": {
      "text/plain": [
       "[Parameter containing:\n",
       " tensor([[[[ 0.0996, -0.0557,  0.0052, -0.0816,  0.1134],\n",
       "           [ 0.0962,  0.1220, -0.0785,  0.1977,  0.0010],\n",
       "           [-0.0507, -0.1835,  0.1355, -0.1758, -0.1291],\n",
       "           [-0.0680,  0.0743,  0.0784,  0.1321,  0.0086],\n",
       "           [ 0.0975,  0.1316, -0.1912, -0.1675, -0.1931]]],\n",
       " \n",
       " \n",
       "         [[[-0.1415,  0.0997,  0.1780,  0.0695, -0.1546],\n",
       "           [ 0.0968,  0.1124,  0.1778, -0.1819, -0.0287],\n",
       "           [-0.1029,  0.1745,  0.1114,  0.0242,  0.0125],\n",
       "           [ 0.0853, -0.1570, -0.0202, -0.1498,  0.0714],\n",
       "           [ 0.0620, -0.1740, -0.0086,  0.0928,  0.1008]]],\n",
       " \n",
       " \n",
       "         [[[ 0.1887, -0.1803, -0.0623, -0.0818, -0.1691],\n",
       "           [-0.1909, -0.1474,  0.0930, -0.1706, -0.0915],\n",
       "           [-0.1338, -0.1539,  0.1806, -0.0213, -0.0667],\n",
       "           [ 0.1823, -0.1154, -0.0847, -0.0651, -0.1340],\n",
       "           [-0.0957, -0.0482,  0.0149, -0.1177, -0.0078]]],\n",
       " \n",
       " \n",
       "         [[[ 0.1970,  0.0032, -0.0234, -0.1969, -0.1457],\n",
       "           [ 0.1019,  0.1198, -0.1886,  0.0430,  0.0422],\n",
       "           [-0.0785,  0.1562,  0.0295, -0.1526,  0.1684],\n",
       "           [ 0.0925, -0.0949,  0.0154,  0.1455,  0.1529],\n",
       "           [ 0.0949,  0.0546, -0.0111,  0.0326, -0.1457]]],\n",
       " \n",
       " \n",
       "         [[[ 0.0028, -0.1955,  0.1157, -0.1391, -0.1342],\n",
       "           [ 0.1602, -0.0631, -0.1309, -0.1612,  0.0898],\n",
       "           [-0.1782,  0.1525,  0.0633,  0.1874, -0.0780],\n",
       "           [-0.1737, -0.0191,  0.1593, -0.0952, -0.1852],\n",
       "           [ 0.1546,  0.1414,  0.1624,  0.1285,  0.0084]]],\n",
       " \n",
       " \n",
       "         [[[-0.1616, -0.1382, -0.0924, -0.1295, -0.1552],\n",
       "           [ 0.1515,  0.1495, -0.1287, -0.0125,  0.1924],\n",
       "           [ 0.0977, -0.0411, -0.0560,  0.1018, -0.0781],\n",
       "           [-0.1517, -0.0559,  0.1271, -0.0807, -0.1400],\n",
       "           [-0.0746, -0.0769, -0.1478, -0.0039,  0.1012]]]], requires_grad=True),\n",
       " Parameter containing:\n",
       " tensor([ 0.1865,  0.0546,  0.1585,  0.0785, -0.0516, -0.1519],\n",
       "        requires_grad=True),\n",
       " Parameter containing:\n",
       " tensor([[[[-2.1261e-02,  3.8870e-02,  1.7179e-02, -2.1839e-02, -3.4578e-03],\n",
       "           [ 2.7821e-02, -1.1406e-02,  6.0236e-02, -5.1856e-02,  9.7140e-03],\n",
       "           [ 4.2318e-02,  6.5208e-02,  1.1280e-02,  5.5535e-03,  7.1241e-02],\n",
       "           [-5.7918e-02, -3.8563e-02, -4.7721e-02,  7.8151e-02,  3.7130e-03],\n",
       "           [-6.6284e-02,  9.3627e-03, -7.7136e-02,  4.4621e-02,  6.3950e-02]],\n",
       " \n",
       "          [[ 3.4100e-02, -1.7121e-02, -4.5611e-02,  7.1446e-02, -1.4146e-02],\n",
       "           [ 3.3154e-02, -5.2467e-03,  6.7106e-02, -1.4132e-02,  5.2099e-02],\n",
       "           [-6.0668e-02, -6.8600e-02,  1.3664e-02,  6.8671e-02, -5.3168e-02],\n",
       "           [ 5.4433e-02,  1.0183e-02, -7.2058e-02, -4.8843e-02, -1.0898e-02],\n",
       "           [ 1.3542e-02,  3.5569e-02,  7.3847e-02,  7.3740e-02, -6.7234e-02]],\n",
       " \n",
       "          [[ 4.6158e-02, -2.1735e-02, -4.8604e-03,  7.6595e-02, -1.4976e-02],\n",
       "           [-3.3631e-02,  4.5188e-02,  1.7317e-03,  2.3727e-02,  7.9400e-03],\n",
       "           [ 7.6016e-02,  6.5314e-02,  2.6776e-02,  8.7221e-03,  2.4925e-02],\n",
       "           [-3.1451e-02,  4.6961e-02,  6.6154e-02,  6.3597e-02, -4.5737e-02],\n",
       "           [-3.7551e-02,  6.9882e-02,  6.4700e-02,  4.9721e-02,  6.7111e-02]],\n",
       " \n",
       "          [[ 7.4848e-02, -4.3491e-02, -6.4824e-02, -1.2063e-03,  4.9725e-02],\n",
       "           [-3.6683e-02, -4.9819e-02, -8.0556e-02,  1.1561e-02,  1.0256e-02],\n",
       "           [-4.3989e-02,  3.1152e-02, -8.9959e-03, -6.5089e-02, -1.0761e-02],\n",
       "           [-8.0565e-02,  7.8365e-02, -7.5082e-02,  2.8601e-02, -4.5993e-02],\n",
       "           [-5.2025e-02,  4.2577e-02,  3.5941e-02,  7.5065e-02,  6.7419e-02]],\n",
       " \n",
       "          [[-3.0472e-02, -1.5034e-02,  1.6888e-02,  5.9286e-02, -3.3034e-02],\n",
       "           [-4.8588e-02,  4.6711e-02,  7.6490e-02,  4.4645e-03, -6.1326e-02],\n",
       "           [-4.7881e-02, -7.4157e-02, -2.4877e-02,  3.3132e-02,  1.1504e-04],\n",
       "           [ 3.4220e-02,  1.7757e-02,  6.7734e-02,  3.7381e-02,  5.9154e-02],\n",
       "           [ 3.0356e-02, -6.7296e-02,  4.2849e-02,  8.0286e-02,  5.1861e-02]],\n",
       " \n",
       "          [[-1.9266e-02, -1.6841e-02,  3.8520e-02, -5.9690e-02, -5.2765e-02],\n",
       "           [ 2.0295e-02,  3.0064e-02,  1.9513e-02, -2.2488e-02, -2.9833e-02],\n",
       "           [-1.9823e-02, -6.7515e-02, -9.7675e-03,  4.7008e-02, -6.8016e-02],\n",
       "           [-5.3524e-03,  7.6844e-02, -2.8975e-03,  8.1672e-03,  3.2152e-02],\n",
       "           [-2.5862e-02, -7.4714e-02, -2.5446e-02,  7.4304e-02, -2.6201e-02]]],\n",
       " \n",
       " \n",
       "         [[[ 6.3990e-02,  3.8175e-02,  2.1621e-02, -5.4198e-02,  6.0437e-02],\n",
       "           [ 7.9761e-02, -7.8356e-02,  7.2207e-02, -7.0968e-02, -6.0753e-02],\n",
       "           [ 4.2818e-02,  5.5823e-02, -2.4182e-02, -3.1188e-02, -2.1381e-02],\n",
       "           [ 2.3380e-03,  2.9779e-02, -2.4134e-02, -7.4422e-02, -7.0544e-02],\n",
       "           [ 6.9270e-02, -5.1690e-02, -4.7903e-02,  3.1480e-02,  4.3097e-02]],\n",
       " \n",
       "          [[-4.3873e-02, -1.7533e-02, -1.1274e-02, -1.6299e-02, -1.7757e-02],\n",
       "           [ 5.8119e-02, -7.4034e-02,  4.1447e-02,  9.5233e-03,  6.4019e-02],\n",
       "           [-1.1010e-02, -2.6423e-02, -1.7381e-02, -9.5190e-03, -2.0412e-02],\n",
       "           [ 3.9387e-02,  7.9255e-02, -3.3728e-02, -1.6257e-02, -4.9064e-03],\n",
       "           [ 4.7778e-03,  5.9868e-03,  5.9117e-02,  1.6404e-02,  6.8354e-02]],\n",
       " \n",
       "          [[ 3.8586e-02, -3.2842e-02, -7.5038e-02, -2.6093e-02,  3.0339e-03],\n",
       "           [ 3.2711e-02, -7.2240e-02, -3.7480e-02,  4.2024e-02, -1.7299e-02],\n",
       "           [ 5.9205e-02, -7.1337e-02,  4.4976e-02, -1.6033e-02, -3.4275e-02],\n",
       "           [ 1.1204e-02,  1.4733e-02, -3.0718e-02,  6.0552e-02, -2.5056e-02],\n",
       "           [ 1.2449e-02, -6.3840e-02, -2.3178e-02,  7.0865e-02,  1.9975e-03]],\n",
       " \n",
       "          [[ 4.5025e-02,  1.1557e-02,  6.5353e-02, -4.9125e-02,  2.2070e-02],\n",
       "           [-4.3683e-02, -7.9244e-03, -7.4508e-02,  5.9492e-02,  2.6409e-02],\n",
       "           [-1.1184e-02, -3.2428e-02,  6.8337e-02, -5.6387e-02,  6.1869e-02],\n",
       "           [-3.8557e-02, -2.8736e-03,  7.9246e-02,  5.1733e-02, -5.9714e-02],\n",
       "           [ 5.2392e-02,  4.2278e-04,  5.0170e-02,  4.5973e-02,  6.7103e-03]],\n",
       " \n",
       "          [[ 3.9798e-03,  4.0085e-02, -5.8508e-02,  5.5040e-02, -5.0518e-02],\n",
       "           [ 3.1368e-02,  7.0325e-02,  6.0105e-02, -3.6156e-02,  7.6245e-02],\n",
       "           [-4.7625e-02, -1.8369e-02, -5.1477e-02, -7.4329e-02,  9.4957e-03],\n",
       "           [-3.5886e-02, -6.7835e-02,  5.9729e-02, -5.2363e-02,  1.6515e-02],\n",
       "           [ 7.6252e-02,  7.3924e-02,  2.0486e-02,  1.1926e-02,  2.4439e-02]],\n",
       " \n",
       "          [[ 7.4109e-02,  3.7975e-02,  6.2314e-02, -5.1842e-02,  3.6892e-02],\n",
       "           [ 5.1454e-02,  4.9873e-02, -4.3645e-02,  5.9513e-02,  2.7146e-03],\n",
       "           [-7.5590e-02,  6.0878e-02,  6.4076e-02, -4.6012e-02, -5.4493e-02],\n",
       "           [ 5.0554e-02,  5.5357e-02, -6.5112e-02, -7.6039e-02, -2.5977e-02],\n",
       "           [-5.9222e-02, -2.0022e-02,  3.8692e-02, -4.0315e-02,  7.5049e-02]]],\n",
       " \n",
       " \n",
       "         [[[-2.6299e-02, -3.1510e-02,  7.8228e-02, -2.6104e-02,  5.9125e-02],\n",
       "           [ 2.2533e-02,  5.4190e-02,  7.1892e-02, -7.5228e-02, -6.8166e-02],\n",
       "           [ 8.0095e-03, -1.4345e-02,  2.8393e-02,  1.3409e-02,  4.3995e-02],\n",
       "           [ 3.0189e-02,  7.4018e-02,  5.1348e-02,  5.9767e-02,  2.6644e-02],\n",
       "           [ 7.0062e-02,  7.2947e-02, -3.6123e-02, -2.8964e-02, -5.7424e-02]],\n",
       " \n",
       "          [[-7.1350e-02,  5.8585e-02,  4.5339e-02,  5.7423e-02,  7.9137e-02],\n",
       "           [-6.6987e-02, -2.0163e-02,  2.0395e-02, -5.3309e-02, -5.1497e-02],\n",
       "           [ 7.7802e-03,  3.7477e-02, -5.5698e-02,  6.9772e-02,  6.4034e-03],\n",
       "           [-2.7553e-03,  1.4613e-02, -3.6896e-02, -5.0495e-03,  3.8689e-02],\n",
       "           [ 2.4703e-02,  6.3345e-02, -6.3899e-02, -4.0733e-02,  1.9019e-02]],\n",
       " \n",
       "          [[ 4.0487e-02,  7.9665e-02,  2.9203e-02,  6.0092e-02,  2.8856e-02],\n",
       "           [ 7.9706e-02, -1.0194e-02, -2.4299e-02, -7.1677e-02,  6.0228e-02],\n",
       "           [ 1.6998e-02,  1.4835e-02,  3.9027e-02,  1.1429e-02,  5.2941e-02],\n",
       "           [-5.3742e-02, -7.1018e-02, -6.7298e-02,  2.4981e-03,  1.1109e-02],\n",
       "           [ 1.3985e-02, -3.2903e-02, -7.2683e-02, -6.5548e-02, -5.5569e-02]],\n",
       " \n",
       "          [[ 5.9487e-02, -1.0252e-02,  2.3985e-02,  3.4590e-02,  6.8835e-02],\n",
       "           [ 3.4183e-02,  4.9588e-02,  2.0126e-03, -7.0613e-02, -6.3796e-02],\n",
       "           [ 1.3494e-03,  3.8983e-02, -6.1384e-02, -7.7365e-03,  4.5382e-02],\n",
       "           [ 6.1039e-02, -3.8153e-03, -3.2304e-02,  1.1523e-02, -5.2177e-02],\n",
       "           [ 1.6650e-02, -7.5897e-02,  2.5286e-02, -4.5853e-02,  4.5320e-02]],\n",
       " \n",
       "          [[ 3.1135e-02, -2.0350e-02,  5.3539e-02, -7.6832e-02,  5.6719e-02],\n",
       "           [-4.2183e-02,  2.6222e-02,  6.2708e-02,  7.6407e-02, -6.6696e-02],\n",
       "           [-1.6533e-03,  2.9325e-02, -3.4921e-02, -3.6587e-02,  5.8371e-02],\n",
       "           [-6.2372e-02, -6.3209e-02, -7.6862e-02,  1.4005e-02,  4.7181e-02],\n",
       "           [ 7.6525e-02,  7.0922e-02, -2.8596e-02, -1.4141e-02, -6.3413e-02]],\n",
       " \n",
       "          [[ 1.0855e-02, -5.0954e-02,  7.0020e-02, -7.9821e-02,  7.7192e-02],\n",
       "           [-8.1235e-02, -1.5257e-02, -4.8229e-02,  3.1368e-02, -4.5167e-02],\n",
       "           [-5.9342e-02, -4.7222e-02,  6.1668e-02,  7.8703e-02, -6.6592e-02],\n",
       "           [ 1.4167e-02, -3.1527e-02,  7.8279e-02, -7.5309e-02,  1.5690e-02],\n",
       "           [ 3.3736e-02, -7.1384e-02, -3.2015e-04, -2.5734e-02, -5.1060e-02]]],\n",
       " \n",
       " \n",
       "         ...,\n",
       " \n",
       " \n",
       "         [[[-4.0008e-02,  1.0299e-03,  6.1216e-02,  5.3209e-03, -4.2258e-02],\n",
       "           [-2.6183e-02, -3.7924e-02,  4.8830e-02,  3.6758e-02, -2.4171e-02],\n",
       "           [ 5.8460e-02,  7.0546e-02,  1.5145e-02, -7.2064e-02,  8.0221e-02],\n",
       "           [ 3.7225e-03, -3.5531e-02,  2.8189e-02,  6.4120e-02,  7.0627e-02],\n",
       "           [-1.5439e-02,  6.5960e-02,  8.9799e-03, -5.5261e-03,  4.0438e-02]],\n",
       " \n",
       "          [[-2.3806e-02, -8.9041e-03,  1.8421e-02,  3.2822e-02,  6.9745e-02],\n",
       "           [-3.6366e-02, -2.5967e-02, -1.8322e-02,  6.7082e-03, -2.6558e-02],\n",
       "           [ 1.9512e-02, -4.5313e-02, -6.5882e-02,  3.4227e-02, -7.6404e-02],\n",
       "           [-4.6553e-02,  2.1309e-02, -8.0573e-02,  7.3170e-03,  5.8872e-02],\n",
       "           [-2.0230e-02, -7.3268e-02, -3.8148e-02, -4.7849e-02, -2.3047e-02]],\n",
       " \n",
       "          [[-2.7753e-02, -7.1989e-02, -2.1501e-02, -3.7906e-02,  5.0936e-02],\n",
       "           [-3.8493e-02,  3.0616e-02, -1.3500e-02, -7.8251e-02, -3.2212e-02],\n",
       "           [-6.7006e-02,  5.0391e-02, -4.3410e-02, -1.0950e-02, -1.7738e-02],\n",
       "           [-1.3558e-02,  2.9473e-02, -7.3766e-02, -5.7207e-03,  7.9256e-03],\n",
       "           [-2.0240e-02,  1.2883e-02, -5.0496e-02,  7.7975e-02, -5.4049e-02]],\n",
       " \n",
       "          [[-6.1812e-02,  6.7066e-02, -3.9633e-02,  1.2189e-02,  5.9101e-02],\n",
       "           [ 5.0623e-02,  6.4062e-02, -5.0694e-02,  1.1887e-02, -3.2558e-03],\n",
       "           [-4.8929e-02,  2.9413e-02, -3.2915e-02,  3.1555e-02, -2.9716e-03],\n",
       "           [ 1.1847e-02, -2.8460e-02,  7.7311e-02, -4.7358e-02,  8.5984e-03],\n",
       "           [-7.2284e-02, -6.2960e-02, -4.2812e-02, -6.2148e-02,  1.9671e-02]],\n",
       " \n",
       "          [[-2.7592e-02, -7.2230e-02,  4.5937e-02, -5.8698e-02,  6.0862e-02],\n",
       "           [-5.4303e-02,  4.6830e-02,  5.1022e-02, -3.6465e-03,  5.3411e-02],\n",
       "           [-9.4812e-03,  2.8850e-02, -2.5537e-02,  3.4648e-02,  5.4433e-02],\n",
       "           [-3.6081e-02, -2.5822e-02, -7.9436e-02, -4.2627e-02, -5.7681e-03],\n",
       "           [-3.2431e-02, -5.6560e-02, -6.3693e-02,  6.3547e-02, -7.2807e-02]],\n",
       " \n",
       "          [[-6.0385e-02, -3.0194e-02,  6.2263e-02, -5.4227e-02, -2.8459e-02],\n",
       "           [-4.7065e-02, -2.2201e-02,  3.6580e-02, -7.3872e-03, -3.5542e-02],\n",
       "           [-6.4847e-03,  5.1829e-02,  4.6473e-02, -1.0109e-02,  5.6697e-02],\n",
       "           [-5.3217e-02, -5.4093e-02,  4.5665e-02,  2.6681e-02, -2.5736e-02],\n",
       "           [-9.9316e-03,  3.0348e-03, -6.6012e-02, -3.8952e-02, -6.0261e-02]]],\n",
       " \n",
       " \n",
       "         [[[ 3.1684e-02,  2.2152e-02,  3.4184e-02,  7.5236e-02, -7.6187e-02],\n",
       "           [-3.6770e-02, -3.6547e-02,  3.7693e-02, -3.1295e-02,  2.0332e-02],\n",
       "           [ 7.2850e-02, -7.3016e-04, -6.2392e-02,  3.2928e-02,  5.1039e-02],\n",
       "           [-2.1640e-02, -7.6033e-02,  6.5893e-02,  1.8468e-03, -6.1705e-02],\n",
       "           [-2.3511e-02,  5.6471e-02, -1.6144e-02, -6.2312e-02,  3.1712e-02]],\n",
       " \n",
       "          [[-4.7298e-02,  2.9881e-03,  1.3036e-02, -6.2859e-02, -3.8646e-02],\n",
       "           [-5.8405e-02,  6.1477e-02, -3.0075e-03, -9.9454e-03,  2.8355e-02],\n",
       "           [-5.8339e-02, -4.9803e-02, -6.5250e-02, -4.7415e-02, -9.6076e-03],\n",
       "           [-8.1577e-02, -7.2333e-02,  4.1479e-02, -5.3070e-02, -7.4618e-02],\n",
       "           [-9.1024e-04, -7.4930e-02, -7.2045e-02, -2.9367e-02, -2.5820e-02]],\n",
       " \n",
       "          [[-6.0543e-02, -3.6518e-02,  7.9439e-02,  7.6025e-02,  4.4958e-02],\n",
       "           [-2.0329e-02,  2.1523e-02,  4.0208e-02, -5.8879e-02,  4.0400e-02],\n",
       "           [-7.4884e-02, -3.6002e-02,  5.3444e-02, -4.3600e-02, -4.7145e-02],\n",
       "           [ 5.8852e-02,  5.0839e-02, -3.2950e-04,  7.3352e-02, -7.4432e-02],\n",
       "           [ 4.5417e-02, -5.7602e-03,  5.3864e-02,  5.3034e-02, -6.8798e-02]],\n",
       " \n",
       "          [[ 5.1336e-02,  3.0844e-02, -7.3618e-02, -3.0756e-03,  2.8322e-02],\n",
       "           [ 6.1714e-02, -4.1255e-02, -7.2290e-02, -4.3384e-02, -1.8013e-02],\n",
       "           [-1.9458e-03, -3.9796e-02, -1.9475e-03,  4.9141e-02, -6.9678e-02],\n",
       "           [ 1.6567e-02,  6.9911e-02, -5.0513e-03, -2.4567e-02,  7.0616e-02],\n",
       "           [ 2.0392e-02,  2.3665e-02, -2.8300e-02, -1.6613e-02,  1.6421e-02]],\n",
       " \n",
       "          [[-6.6971e-02, -1.6774e-02,  1.7712e-02, -5.9384e-02,  1.5675e-02],\n",
       "           [-2.3190e-02,  6.9738e-02,  4.4966e-02,  5.2856e-02, -1.8288e-02],\n",
       "           [ 6.4635e-03, -3.7860e-02,  7.2938e-02,  2.5513e-03, -4.7824e-02],\n",
       "           [ 7.5273e-02, -2.1705e-02,  6.4074e-02, -5.5040e-02,  6.5894e-02],\n",
       "           [-4.1115e-02, -6.5137e-02, -6.0268e-05, -3.7226e-02,  7.9691e-02]],\n",
       " \n",
       "          [[-3.8114e-02, -1.3579e-02,  3.9516e-02,  4.8277e-02, -2.4269e-02],\n",
       "           [-3.0602e-02,  4.0863e-02,  4.2121e-02, -1.2131e-02, -2.2406e-03],\n",
       "           [ 2.3936e-02, -4.8470e-02, -3.8779e-02, -3.3128e-03, -6.3964e-02],\n",
       "           [ 7.9544e-02, -7.9427e-02, -2.5342e-02, -1.1263e-02, -5.9276e-02],\n",
       "           [ 1.3676e-02,  1.5106e-02, -6.1872e-02,  5.1390e-02, -5.7245e-02]]],\n",
       " \n",
       " \n",
       "         [[[ 5.9709e-03,  5.6198e-02,  2.6436e-03,  3.1206e-02,  7.0797e-03],\n",
       "           [-1.5090e-03, -7.4225e-02,  6.0204e-03,  6.0216e-03,  1.7929e-02],\n",
       "           [ 2.8986e-02, -6.1768e-02, -5.5898e-03,  5.0123e-03,  1.9558e-02],\n",
       "           [ 5.0386e-02,  6.5456e-02, -5.0650e-02, -1.4462e-02, -7.8189e-03],\n",
       "           [-3.1488e-02, -4.1234e-02,  3.7357e-02,  4.7863e-02, -6.4143e-02]],\n",
       " \n",
       "          [[-4.3100e-03,  7.6146e-02,  6.8990e-02,  7.4894e-02,  3.2170e-02],\n",
       "           [ 2.9123e-02, -7.9145e-02, -7.7186e-02, -7.3379e-02, -1.7921e-02],\n",
       "           [ 5.3941e-02, -6.0786e-02,  5.1964e-02,  6.8565e-03, -3.2854e-02],\n",
       "           [-2.6146e-02,  3.8715e-02, -7.3146e-02,  3.8415e-02,  3.5729e-04],\n",
       "           [-6.1000e-03, -4.7440e-02, -3.8749e-02, -1.2247e-02, -5.6265e-02]],\n",
       " \n",
       "          [[ 5.2229e-02,  1.2038e-02,  4.1865e-02, -4.5114e-02, -1.1811e-02],\n",
       "           [-1.2942e-02,  8.7955e-04,  5.4792e-02,  4.3195e-02, -2.5035e-02],\n",
       "           [ 2.8913e-02, -3.9689e-02,  3.8836e-02, -7.4722e-02,  4.0614e-03],\n",
       "           [ 4.1028e-02, -3.4090e-02,  4.1481e-02, -1.7142e-02,  1.4997e-03],\n",
       "           [ 3.3524e-02,  1.7771e-02,  2.6278e-02, -6.8928e-02,  6.6419e-02]],\n",
       " \n",
       "          [[-1.8815e-02,  3.1472e-02, -7.5107e-02, -1.8282e-02, -5.8866e-02],\n",
       "           [ 6.2047e-02,  7.9474e-03, -8.4598e-03, -1.3484e-02,  7.6014e-02],\n",
       "           [ 5.7811e-04, -5.6219e-02,  3.8661e-02,  4.4067e-02,  4.2404e-02],\n",
       "           [-5.9804e-02, -3.3949e-02, -4.1528e-02,  7.1389e-02,  7.6518e-02],\n",
       "           [ 4.1857e-03, -5.7352e-02,  4.6503e-02,  6.2080e-02, -4.3932e-02]],\n",
       " \n",
       "          [[ 4.9176e-02, -5.7102e-02,  5.1153e-02, -1.9835e-02,  6.0144e-02],\n",
       "           [ 5.6687e-02,  7.1089e-02, -4.0705e-03, -7.9351e-02,  9.4654e-03],\n",
       "           [ 1.7954e-02,  6.6481e-02,  1.9104e-02,  7.3875e-02, -8.0290e-02],\n",
       "           [ 6.6734e-02,  6.2060e-02,  5.0969e-02,  2.5264e-02, -4.0688e-02],\n",
       "           [ 5.9625e-02,  5.7116e-02,  3.6939e-02, -7.6809e-02,  3.8713e-02]],\n",
       " \n",
       "          [[-3.4725e-02,  1.9744e-02, -3.4628e-02,  1.6872e-02,  6.8442e-02],\n",
       "           [-2.3221e-02,  6.2972e-02, -3.1340e-02, -4.3355e-02, -6.9447e-02],\n",
       "           [ 3.1808e-03, -4.8264e-02,  4.5602e-02, -1.7371e-02,  4.2117e-02],\n",
       "           [-8.0704e-02,  5.8200e-02, -3.7000e-03,  2.1583e-02,  1.6323e-02],\n",
       "           [ 3.7538e-02, -1.6738e-02, -4.3939e-03, -4.8384e-02, -2.7561e-02]]]],\n",
       "        requires_grad=True),\n",
       " Parameter containing:\n",
       " tensor([-0.0284, -0.0596, -0.0097,  0.0135, -0.0529, -0.0447,  0.0548, -0.0105,\n",
       "          0.0578,  0.0217, -0.0768, -0.0151, -0.0040,  0.0283, -0.0353,  0.0608],\n",
       "        requires_grad=True),\n",
       " Parameter containing:\n",
       " tensor([[-0.0075,  0.0225,  0.0383,  ...,  0.0081, -0.0160, -0.0316],\n",
       "         [-0.0210, -0.0254, -0.0481,  ..., -0.0074, -0.0042, -0.0011],\n",
       "         [ 0.0369,  0.0298, -0.0385,  ..., -0.0418, -0.0018, -0.0328],\n",
       "         ...,\n",
       "         [ 0.0135,  0.0284,  0.0198,  ...,  0.0050,  0.0154, -0.0369],\n",
       "         [ 0.0040,  0.0385, -0.0020,  ...,  0.0108, -0.0496, -0.0193],\n",
       "         [-0.0438, -0.0018, -0.0244,  ...,  0.0356,  0.0236, -0.0452]],\n",
       "        requires_grad=True),\n",
       " Parameter containing:\n",
       " tensor([-0.0408, -0.0440, -0.0173, -0.0379,  0.0434,  0.0290, -0.0101, -0.0498,\n",
       "          0.0406, -0.0129, -0.0342, -0.0186, -0.0106, -0.0056,  0.0291,  0.0259,\n",
       "          0.0408, -0.0411, -0.0329,  0.0138,  0.0491,  0.0354,  0.0498,  0.0140,\n",
       "         -0.0146, -0.0154, -0.0134,  0.0235,  0.0015, -0.0166,  0.0498,  0.0183,\n",
       "         -0.0320,  0.0336,  0.0056,  0.0419, -0.0238, -0.0073,  0.0011,  0.0477,\n",
       "          0.0126, -0.0051, -0.0019, -0.0354,  0.0142, -0.0191, -0.0336, -0.0323,\n",
       "         -0.0146,  0.0275, -0.0418,  0.0139, -0.0131, -0.0389, -0.0357,  0.0252,\n",
       "         -0.0463,  0.0288, -0.0334,  0.0030, -0.0408,  0.0118,  0.0277, -0.0048,\n",
       "         -0.0306, -0.0482, -0.0192,  0.0024,  0.0146, -0.0174, -0.0226,  0.0115,\n",
       "          0.0185, -0.0357, -0.0017,  0.0187, -0.0180,  0.0119, -0.0351,  0.0127,\n",
       "          0.0424,  0.0364, -0.0089,  0.0103, -0.0062,  0.0134, -0.0451,  0.0423,\n",
       "          0.0202, -0.0342,  0.0496, -0.0379, -0.0040,  0.0376,  0.0300,  0.0253,\n",
       "         -0.0010,  0.0123,  0.0480,  0.0160,  0.0436, -0.0025, -0.0158, -0.0151,\n",
       "         -0.0398,  0.0428, -0.0486, -0.0482,  0.0107,  0.0002,  0.0167,  0.0166,\n",
       "          0.0441,  0.0093, -0.0429,  0.0319,  0.0491, -0.0054, -0.0212, -0.0060],\n",
       "        requires_grad=True),\n",
       " Parameter containing:\n",
       " tensor([[ 0.0845, -0.0254,  0.0779,  ..., -0.0680, -0.0183, -0.0230],\n",
       "         [ 0.0582,  0.0078, -0.0148,  ..., -0.0471,  0.0315, -0.0667],\n",
       "         [-0.0010, -0.0273, -0.0185,  ..., -0.0261,  0.0599, -0.0787],\n",
       "         ...,\n",
       "         [-0.0863,  0.0699,  0.0880,  ..., -0.0123, -0.0427,  0.0041],\n",
       "         [ 0.0861,  0.0739,  0.0658,  ..., -0.0429,  0.0200, -0.0094],\n",
       "         [-0.0373, -0.0434, -0.0814,  ...,  0.0064, -0.0574, -0.0383]],\n",
       "        requires_grad=True),\n",
       " Parameter containing:\n",
       " tensor([ 0.0902, -0.0090, -0.0382,  0.0358,  0.0700, -0.0246, -0.0189, -0.0797,\n",
       "          0.0894,  0.0621, -0.0382,  0.0019, -0.0071, -0.0213,  0.0398, -0.0232,\n",
       "          0.0370, -0.0179, -0.0339,  0.0356, -0.0822,  0.0489,  0.0888,  0.0346,\n",
       "          0.0823,  0.0367, -0.0267,  0.0226,  0.0367, -0.0239,  0.0721, -0.0290,\n",
       "          0.0338,  0.0274,  0.0302,  0.0648,  0.0700, -0.0726, -0.0409,  0.0350,\n",
       "          0.0191, -0.0436,  0.0717, -0.0328,  0.0489, -0.0040,  0.0002, -0.0197,\n",
       "         -0.0077,  0.0634, -0.0467, -0.0546,  0.0741, -0.0151,  0.0086,  0.0794,\n",
       "         -0.0413,  0.0565,  0.0716, -0.0802, -0.0715,  0.0814,  0.0128, -0.0308,\n",
       "         -0.0536, -0.0448, -0.0430, -0.0900, -0.0276,  0.0424, -0.0824, -0.0318,\n",
       "         -0.0320,  0.0649, -0.0040,  0.0630, -0.0059, -0.0823, -0.0691, -0.0600,\n",
       "          0.0251, -0.0890,  0.0767,  0.0819], requires_grad=True),\n",
       " Parameter containing:\n",
       " tensor([[ 1.0713e-01, -5.0023e-02,  9.3668e-02,  6.7344e-02,  2.5233e-02,\n",
       "           3.6252e-02,  9.4698e-02,  3.1873e-03,  8.1436e-02,  5.3062e-02,\n",
       "           8.2825e-02,  7.2921e-02, -1.3503e-02, -3.6830e-02, -1.4620e-02,\n",
       "          -3.1017e-02,  3.0290e-03, -9.8980e-02,  3.2800e-02,  3.8967e-02,\n",
       "           4.2803e-02, -2.6330e-02,  6.6025e-02,  9.3747e-02,  9.4534e-02,\n",
       "          -7.8157e-02,  3.6172e-02, -6.4441e-02, -2.8006e-02,  6.4076e-02,\n",
       "          -2.7165e-02,  3.8252e-02,  7.4713e-02,  6.2921e-02,  5.5659e-02,\n",
       "          -2.7473e-02, -7.5398e-02, -1.0822e-01,  8.2071e-02, -5.1380e-02,\n",
       "           4.6355e-02,  3.3330e-02,  4.6802e-02,  1.5398e-02,  9.7356e-02,\n",
       "          -4.1766e-02, -1.6932e-02,  6.2807e-02,  6.5753e-02, -6.7763e-02,\n",
       "          -4.4432e-02,  8.7457e-02, -7.3117e-02, -5.2068e-02,  3.5450e-02,\n",
       "           3.0215e-02, -2.3416e-02,  6.3875e-02, -6.0195e-02,  4.7784e-03,\n",
       "           6.0576e-02,  5.4844e-02, -1.0519e-01, -4.4107e-03, -4.7462e-02,\n",
       "           6.6747e-02, -4.5216e-02,  1.1220e-02,  9.8341e-03,  4.1904e-02,\n",
       "          -1.0796e-03, -8.5518e-02,  1.0281e-01, -1.9758e-02,  5.1786e-02,\n",
       "           4.3311e-02,  8.5771e-02,  5.5780e-02,  9.0595e-02, -1.0589e-01,\n",
       "          -7.7743e-02, -7.2880e-02, -3.1062e-02,  3.9363e-02],\n",
       "         [ 2.9173e-02, -1.5047e-02,  9.2154e-02, -8.9403e-02,  2.8132e-03,\n",
       "           4.2182e-02,  8.1274e-02, -4.3734e-02,  7.7348e-03,  8.9724e-02,\n",
       "          -1.7066e-02, -1.5608e-02, -2.9582e-02,  8.7581e-02, -1.0827e-01,\n",
       "          -4.5156e-02, -1.0046e-01,  5.8442e-02,  4.5008e-02,  2.5908e-02,\n",
       "          -4.6376e-02,  3.3391e-02,  7.2992e-02,  4.1754e-03,  1.1710e-02,\n",
       "           6.8422e-02,  9.9183e-02, -2.6092e-02,  1.0888e-01,  8.3908e-02,\n",
       "           1.6745e-02,  1.0095e-01,  3.2966e-02,  6.0124e-03, -1.2484e-02,\n",
       "           8.5258e-03, -8.3519e-02, -8.5963e-03, -8.5204e-02,  5.2598e-02,\n",
       "          -4.1067e-02,  3.5825e-02, -6.6336e-02, -9.0807e-02,  4.9841e-02,\n",
       "           4.7296e-02, -4.8406e-02,  5.0562e-02, -5.8865e-02,  8.1163e-02,\n",
       "          -8.2398e-02,  4.2408e-02,  2.0638e-02, -4.4539e-02,  1.0688e-01,\n",
       "           8.4573e-02, -4.6925e-02, -6.1874e-02,  4.2062e-02, -5.1729e-02,\n",
       "           9.4104e-02,  6.9675e-02,  8.9581e-02,  1.0732e-01, -1.0690e-01,\n",
       "           2.0006e-02,  1.0573e-02,  6.9761e-02, -9.3683e-02,  9.7282e-02,\n",
       "          -3.2575e-03,  3.8695e-02, -3.1442e-02,  1.0354e-01,  4.4559e-02,\n",
       "          -5.4633e-02,  9.1379e-02,  9.5131e-02, -9.6915e-03, -1.0360e-01,\n",
       "           1.6500e-02, -1.0732e-01, -6.2158e-02,  3.6402e-02],\n",
       "         [ 3.2288e-02,  2.2201e-02,  7.8157e-02, -2.8702e-02, -4.3535e-02,\n",
       "           4.3627e-02, -3.4131e-02,  4.1727e-02,  3.4634e-02, -1.6082e-02,\n",
       "          -3.4786e-02, -1.5410e-02, -6.6912e-02, -4.1201e-02, -5.9186e-02,\n",
       "          -9.5987e-02,  5.9037e-02,  2.8616e-02, -7.6795e-02,  6.2384e-02,\n",
       "          -9.6419e-03, -1.0065e-01, -6.4204e-02,  1.0366e-01,  1.0330e-01,\n",
       "          -1.0701e-01, -5.8296e-03, -2.7127e-03, -6.8195e-02,  9.5413e-02,\n",
       "           9.0783e-02, -3.3485e-02, -9.9052e-02, -8.8656e-02, -3.2827e-02,\n",
       "          -1.4950e-02,  2.3176e-03, -3.5544e-02, -6.2893e-02, -3.9061e-02,\n",
       "           6.4671e-03,  9.8837e-02,  9.2201e-02, -4.3903e-02,  6.1348e-02,\n",
       "          -2.7439e-02, -3.2930e-02, -2.1168e-02, -5.4987e-03,  4.0061e-02,\n",
       "           9.2201e-02,  3.3810e-02,  7.2129e-02, -4.1835e-02,  5.8138e-02,\n",
       "           3.7687e-02,  6.4650e-02,  5.5392e-02, -6.2683e-02,  4.5848e-02,\n",
       "          -6.0393e-02, -8.5393e-02,  3.6804e-02, -7.1430e-02,  4.7788e-02,\n",
       "          -7.1742e-02,  1.0418e-01,  5.6269e-02,  9.3459e-02, -2.8802e-02,\n",
       "           2.1534e-02, -4.2572e-03, -1.0662e-01, -4.5335e-02, -2.1354e-02,\n",
       "           5.1770e-02,  3.6494e-02,  2.6942e-02, -1.0478e-01, -1.9615e-02,\n",
       "           3.5442e-02,  4.0140e-02,  7.5432e-02, -5.8788e-03],\n",
       "         [ 3.3286e-02,  2.8681e-02, -4.9314e-02,  4.7219e-02,  8.1398e-02,\n",
       "           4.4690e-02, -4.3062e-03, -7.2958e-02,  4.2634e-02, -3.9192e-02,\n",
       "           5.2307e-02,  6.0669e-02,  5.2584e-02, -4.0570e-02,  2.4646e-02,\n",
       "          -8.5760e-03, -2.7190e-02, -7.5057e-03,  6.2557e-02,  2.7742e-03,\n",
       "          -1.8296e-02, -9.7286e-02,  7.1518e-02, -6.4950e-02,  4.2790e-02,\n",
       "           1.0527e-01, -4.4623e-02,  8.7640e-03,  9.0115e-02, -6.8842e-02,\n",
       "           9.7382e-03,  7.7885e-03,  5.9525e-02,  5.0369e-02,  7.0712e-02,\n",
       "          -3.2078e-02,  2.6686e-02,  7.6083e-02,  7.4295e-03, -4.8691e-02,\n",
       "           1.0850e-02, -2.9098e-02,  1.8908e-02, -4.3161e-02,  7.0660e-02,\n",
       "           4.1306e-03,  5.7381e-02,  8.4128e-02,  2.3799e-02,  5.8816e-02,\n",
       "          -5.7150e-02, -8.1389e-03, -3.5814e-02,  8.8146e-03,  9.3615e-02,\n",
       "           1.3406e-02,  3.7357e-05,  9.9828e-02,  4.2631e-02,  3.5211e-02,\n",
       "           4.2817e-02, -9.9647e-02, -3.8080e-02,  3.1065e-02, -7.1149e-03,\n",
       "           7.1916e-02,  8.4767e-02,  4.4977e-02, -9.6358e-02, -1.1847e-02,\n",
       "          -3.6482e-02,  9.8142e-02,  5.3932e-02, -5.3854e-02,  3.7341e-02,\n",
       "           7.4658e-02, -8.6602e-02,  4.7516e-03, -7.3031e-02, -3.4613e-02,\n",
       "           1.0252e-01, -7.7172e-02, -7.4715e-02, -7.6436e-02],\n",
       "         [-4.0100e-02, -6.0116e-03, -1.3389e-02,  3.6026e-02,  2.2193e-02,\n",
       "          -6.7800e-02,  9.5831e-02, -5.1809e-02,  1.3042e-02,  1.1089e-02,\n",
       "          -9.2877e-02, -4.7797e-02,  8.1988e-02, -8.4541e-02, -8.4669e-03,\n",
       "           1.1700e-02,  1.8085e-02,  2.1884e-02,  2.8948e-02, -2.8929e-02,\n",
       "          -2.9105e-02, -5.4930e-02, -3.1242e-02,  7.3328e-02,  1.0307e-01,\n",
       "          -6.8597e-02, -7.4175e-02,  1.0922e-02, -1.6653e-02,  8.6986e-02,\n",
       "           7.6843e-02, -5.5408e-02, -7.6875e-02,  5.0130e-02, -9.0650e-02,\n",
       "           2.0576e-02, -9.9375e-02, -1.4977e-02,  1.0362e-03,  5.3308e-02,\n",
       "          -5.1946e-02,  9.1326e-02,  3.9667e-02,  3.5484e-02, -1.0226e-01,\n",
       "           7.4461e-02, -5.5348e-02, -7.2222e-02, -2.9205e-02, -2.0800e-03,\n",
       "          -4.6408e-02, -7.2957e-02, -1.0155e-01, -4.5899e-02,  9.1875e-02,\n",
       "          -6.6760e-04,  1.6651e-02,  1.0015e-01, -9.6249e-02, -8.3421e-03,\n",
       "          -1.0696e-01, -2.8733e-02, -5.9173e-03,  1.1787e-02, -6.6185e-02,\n",
       "           1.1511e-02,  6.7818e-03,  8.2419e-03,  2.9278e-02, -4.6521e-02,\n",
       "           9.8799e-03, -2.9601e-02,  6.8968e-02,  5.4541e-03, -9.4207e-02,\n",
       "           7.0858e-02,  1.0484e-01,  9.4236e-02, -3.9262e-03, -3.7547e-02,\n",
       "           6.5675e-02, -7.3253e-02, -6.4977e-02, -1.6279e-02],\n",
       "         [-2.3169e-02, -7.0399e-02,  5.8647e-03, -1.0442e-01,  3.0439e-02,\n",
       "           1.0416e-01,  3.7587e-02,  8.6963e-02,  1.7424e-02, -7.4729e-02,\n",
       "           7.7427e-02,  1.4008e-02,  1.0421e-01, -8.8137e-02,  4.9500e-02,\n",
       "          -8.2864e-02, -6.7795e-02,  9.5141e-02, -6.3699e-02,  5.8045e-02,\n",
       "          -2.0108e-02,  2.1660e-03, -8.7068e-02,  6.5500e-02, -3.6074e-02,\n",
       "           2.2219e-02,  7.6344e-02, -3.5476e-02, -6.0931e-02, -8.5804e-02,\n",
       "           1.0826e-01,  3.8245e-02, -2.6599e-02, -5.6196e-02,  1.6440e-02,\n",
       "           1.0012e-01,  4.6203e-02, -1.5314e-02,  9.1486e-02, -7.9559e-03,\n",
       "          -5.4260e-02, -7.3690e-02,  2.2714e-02, -3.0872e-02,  7.7881e-02,\n",
       "          -1.0642e-01,  6.3733e-02, -6.1302e-03,  3.6273e-03, -5.7521e-02,\n",
       "          -8.5726e-02,  6.1271e-02, -7.2212e-02, -3.5064e-02,  3.6758e-02,\n",
       "           4.6401e-02,  1.0780e-01,  3.4725e-02, -4.9599e-03,  8.7237e-02,\n",
       "           5.5451e-03,  5.8393e-02, -1.0282e-01, -1.0407e-01, -6.1588e-02,\n",
       "          -7.7143e-02, -5.3913e-02,  4.6594e-02, -2.5212e-02, -1.7033e-02,\n",
       "           8.7158e-02,  4.3238e-02,  1.6461e-03, -1.0839e-01,  7.2626e-02,\n",
       "           5.0672e-02,  4.4414e-02, -7.1706e-02,  1.0579e-01,  1.0126e-02,\n",
       "           4.8341e-02, -4.1579e-02,  2.4157e-02, -6.1525e-02],\n",
       "         [-8.8606e-02, -5.8237e-02,  4.5174e-03, -3.7799e-02, -9.8741e-02,\n",
       "           1.0717e-01,  8.6291e-02,  5.3032e-02,  2.7981e-02,  7.5466e-02,\n",
       "           7.1996e-02,  3.8736e-02,  8.1734e-02,  7.3400e-02,  1.3122e-02,\n",
       "           1.2986e-02, -6.4541e-03, -7.5272e-02, -1.0266e-01,  4.5678e-02,\n",
       "           7.3258e-02,  4.2890e-02,  4.2125e-02, -8.0740e-03, -1.0702e-02,\n",
       "           5.6954e-02, -5.4891e-02,  2.8989e-02, -1.4918e-02, -3.2456e-02,\n",
       "           3.9575e-02,  7.4486e-02,  1.0161e-01,  6.3019e-02,  5.3797e-02,\n",
       "          -2.6251e-02, -7.5485e-02,  6.0361e-02, -1.6393e-02,  8.5131e-03,\n",
       "          -8.1765e-02,  5.8688e-02,  3.8328e-03,  1.4607e-02,  5.9475e-02,\n",
       "           4.3722e-02,  1.1363e-02,  3.9159e-02, -6.2431e-02,  6.9754e-02,\n",
       "           7.9569e-02, -2.9632e-02,  9.9185e-02,  6.0661e-02, -8.6362e-02,\n",
       "           5.1290e-02,  7.7009e-03,  8.3276e-02, -4.8031e-03,  2.1090e-02,\n",
       "           5.4798e-02,  1.1229e-02, -1.2647e-03,  2.1422e-02,  7.2583e-02,\n",
       "          -3.1944e-02, -8.0509e-02,  7.3931e-02,  3.9335e-02,  6.1359e-02,\n",
       "          -8.7137e-03, -1.5877e-02,  8.9052e-02,  3.0316e-03, -6.3677e-02,\n",
       "           6.9689e-03,  5.2995e-02, -1.0531e-01, -5.5407e-02,  4.6415e-02,\n",
       "          -1.0256e-01, -8.7604e-02,  9.3254e-02,  4.3787e-02],\n",
       "         [ 6.7235e-02,  2.8945e-02, -6.3483e-02, -7.4303e-02,  5.8960e-02,\n",
       "          -7.4550e-02, -2.0085e-02,  1.0445e-01,  9.8355e-02, -5.2232e-02,\n",
       "          -1.1290e-02,  8.8466e-02, -1.1431e-02, -7.8729e-02, -1.7194e-02,\n",
       "          -8.3243e-02, -2.5512e-02, -2.8335e-02,  4.5272e-02, -7.6560e-02,\n",
       "          -1.6194e-02, -5.6014e-02, -7.1311e-02, -8.2610e-02,  8.5449e-02,\n",
       "           8.1926e-02,  1.0221e-01,  5.1280e-02,  1.0056e-01, -4.6786e-02,\n",
       "          -5.4681e-02, -9.2110e-02,  6.7002e-02, -1.6744e-02,  6.5576e-02,\n",
       "           2.5998e-02, -7.8806e-02, -7.5390e-02,  2.7380e-02,  1.7652e-02,\n",
       "          -1.8060e-02,  3.6309e-02,  8.6131e-02,  3.3861e-02,  9.0360e-03,\n",
       "           1.0664e-01,  1.0627e-01, -7.2640e-02,  6.3619e-02, -1.5622e-02,\n",
       "           2.4438e-02,  1.8462e-02,  9.9720e-02,  3.3494e-02,  1.8515e-02,\n",
       "          -9.7012e-02, -6.4012e-04,  1.7121e-02, -9.2834e-02,  2.9102e-02,\n",
       "          -5.3039e-02,  1.0317e-02, -8.2818e-02, -8.4059e-02, -5.9540e-02,\n",
       "           3.0641e-02, -8.2629e-02, -6.7354e-02,  1.0334e-01, -1.8312e-02,\n",
       "           7.2619e-02,  2.7101e-02, -1.3557e-02, -6.4550e-03, -8.9881e-02,\n",
       "           3.3037e-02, -1.0034e-01, -5.9732e-02, -3.5763e-02,  7.4510e-02,\n",
       "          -2.5342e-03,  7.6093e-03, -6.8404e-03, -2.0938e-02],\n",
       "         [ 4.0243e-02,  1.3570e-03, -4.5020e-02, -6.4706e-02,  8.3050e-02,\n",
       "           7.2833e-02, -5.2327e-02, -2.1548e-02, -1.3052e-02, -3.3762e-02,\n",
       "           6.5341e-02, -1.7759e-02, -6.2325e-02,  1.0491e-01,  2.3366e-02,\n",
       "          -3.1527e-02,  3.0095e-03, -6.4363e-02,  3.6115e-02, -6.4917e-03,\n",
       "           2.8781e-02,  9.0318e-02,  8.2594e-02,  5.8273e-02,  3.9338e-02,\n",
       "          -2.5909e-02, -4.4472e-02,  9.9475e-02, -6.3287e-02, -2.1533e-02,\n",
       "          -1.7092e-02, -7.7675e-02, -5.3622e-02, -7.6706e-03, -1.0761e-01,\n",
       "           8.2620e-03,  2.2728e-02, -5.8815e-02,  4.8927e-02,  1.0598e-01,\n",
       "          -6.2189e-02,  9.0116e-02, -4.6049e-02, -5.5112e-03, -7.4024e-03,\n",
       "           3.2039e-02,  2.6203e-02, -3.1756e-02,  4.8523e-02, -4.3965e-02,\n",
       "          -3.2621e-02,  7.2210e-04, -7.9457e-04,  4.4867e-02, -6.4221e-02,\n",
       "           9.6313e-02,  9.9421e-05, -6.4235e-02, -2.6491e-02,  1.3924e-02,\n",
       "          -9.9705e-02,  3.5282e-02, -8.5609e-02, -9.1502e-02, -6.4820e-02,\n",
       "          -8.7476e-02, -3.0128e-02, -2.4482e-02, -6.6110e-02,  1.9303e-02,\n",
       "          -1.0012e-01,  9.7117e-02,  2.6252e-02, -4.0341e-02,  1.0387e-01,\n",
       "          -8.1850e-02,  1.0124e-01, -7.2283e-02,  4.3072e-02,  4.9475e-02,\n",
       "          -7.9368e-02, -5.4394e-02,  5.4681e-02, -5.1443e-02],\n",
       "         [ 1.4640e-02,  5.8275e-02,  3.7161e-02, -6.0982e-02, -4.8689e-02,\n",
       "           9.1163e-02,  1.4546e-02,  9.4339e-02, -1.0715e-01, -9.3192e-02,\n",
       "           2.4211e-02, -8.4214e-02,  3.7189e-02, -8.3038e-03,  9.6194e-02,\n",
       "           3.8567e-02,  9.8845e-03, -7.4247e-03, -2.1540e-02, -3.4005e-02,\n",
       "           3.2862e-02,  7.5078e-02,  4.3130e-02, -9.4611e-02,  4.2513e-02,\n",
       "           1.5460e-02, -3.1856e-02, -9.3824e-02, -1.0279e-01, -2.0942e-03,\n",
       "           5.5015e-02,  9.7476e-02, -6.3614e-02,  4.8038e-02, -1.2477e-02,\n",
       "           2.4416e-02,  5.4776e-02,  5.2368e-02,  1.0168e-01,  5.8163e-03,\n",
       "          -4.1478e-02,  8.1962e-03, -9.0795e-02,  1.0742e-01, -9.9893e-02,\n",
       "           4.0272e-02, -7.3729e-02, -2.6146e-02, -6.1385e-02,  9.6932e-02,\n",
       "          -5.0492e-02, -9.4973e-02,  9.1967e-02, -3.7167e-02, -3.3374e-02,\n",
       "           4.1877e-02, -1.0386e-01, -1.0445e-01, -2.8341e-02,  3.6896e-02,\n",
       "           1.0365e-01,  1.0816e-01,  1.5918e-02,  1.0324e-02, -2.1409e-02,\n",
       "          -7.1495e-02, -9.3776e-02,  2.9766e-02,  9.9809e-02, -6.9154e-02,\n",
       "           4.6420e-03,  2.4858e-02, -1.0310e-01,  3.1585e-02,  8.9436e-02,\n",
       "          -1.0733e-01,  7.3752e-02,  5.6905e-02, -2.2709e-02, -5.0186e-02,\n",
       "           9.6321e-02, -5.8294e-02,  7.2219e-03,  8.2329e-02]],\n",
       "        requires_grad=True),\n",
       " Parameter containing:\n",
       " tensor([ 0.0403, -0.0477, -0.0892, -0.0667, -0.1063,  0.0782,  0.0119,  0.0663,\n",
       "         -0.0396, -0.0872], requires_grad=True)]"
      ]
     },
     "execution_count": 33,
     "metadata": {},
     "output_type": "execute_result"
    }
   ],
   "source": [
    "# 一个模型可训练的参数可以通过调用 net.parameters() 返回\n",
    "params = list(net.parameters())\n",
    "print(len(params))\n",
    "print(params[0].size()) # conv1's .weight\n",
    "params"
   ]
  },
  {
   "cell_type": "markdown",
   "id": "5006f9f7",
   "metadata": {
    "hidden": true
   },
   "source": [
    "forward and backward - 计算前向与反向"
   ]
  },
  {
   "cell_type": "code",
   "execution_count": 42,
   "id": "d15e688f",
   "metadata": {
    "ExecuteTime": {
     "end_time": "2021-07-17T08:17:29.704516Z",
     "start_time": "2021-07-17T08:17:29.683517Z"
    },
    "hidden": true
   },
   "outputs": [
    {
     "data": {
      "text/plain": [
       "(tensor([[[[-1.9115,  0.1579,  1.8790,  ..., -0.1904,  0.3316, -2.4521],\n",
       "           [ 0.0132, -1.3547,  1.5303,  ..., -0.7823,  0.8112, -1.6053],\n",
       "           [-0.8446,  0.0844,  0.1581,  ...,  1.2818, -0.3657, -1.0858],\n",
       "           ...,\n",
       "           [-0.0806,  0.6282, -0.4321,  ..., -0.0446,  0.7562,  1.3624],\n",
       "           [-0.1886,  0.6614,  0.5811,  ...,  1.0338, -1.3316,  1.0004],\n",
       "           [ 1.8234, -0.2151, -0.5465,  ..., -0.6707, -0.8876, -1.9857]]]]),\n",
       " tensor([[ 0.1801, -0.0021, -0.1334,  0.0949, -0.1400,  0.1043,  0.0637,  0.1220,\n",
       "          -0.0466, -0.1790]], grad_fn=<AddmmBackward>))"
      ]
     },
     "execution_count": 42,
     "metadata": {},
     "output_type": "execute_result"
    }
   ],
   "source": [
    "# 处理输入以及调用反向传播\n",
    "# 构造一个32x32的图片\n",
    "input = torch.randn(1, 1, 32, 32)\n",
    "out = net(input)\n",
    "input, out"
   ]
  },
  {
   "cell_type": "code",
   "execution_count": 35,
   "id": "c0017e7d",
   "metadata": {
    "ExecuteTime": {
     "end_time": "2021-07-17T07:40:39.163032Z",
     "start_time": "2021-07-17T07:40:39.142034Z"
    },
    "hidden": true
   },
   "outputs": [],
   "source": [
    "# 把所有参数梯度缓存器置零，用随机的梯度来反向传播\n",
    "net.zero_grad()\n",
    "out.backward(torch.randn(1, 10))"
   ]
  },
  {
   "cell_type": "markdown",
   "id": "b7aa3977",
   "metadata": {
    "hidden": true
   },
   "source": [
    "Loss func - 损失函数 - 接在模型最后的一个函数，最终目标"
   ]
  },
  {
   "cell_type": "code",
   "execution_count": 37,
   "id": "e952646e",
   "metadata": {
    "ExecuteTime": {
     "end_time": "2021-07-17T08:15:44.701165Z",
     "start_time": "2021-07-17T08:15:44.669167Z"
    },
    "hidden": true
   },
   "outputs": [
    {
     "data": {
      "text/plain": [
       "(tensor([[ 0.1845,  0.0105, -0.1095,  0.0512, -0.1492,  0.0839,  0.0707,  0.1235,\n",
       "          -0.0293, -0.1872]], grad_fn=<AddmmBackward>),\n",
       " tensor([[-0.3960, -0.7341, -0.0348, -2.0091, -0.2997, -0.6403, -0.5333, -0.2196,\n",
       "          -0.3291,  0.5543]]),\n",
       " tensor(0.6811, grad_fn=<MseLossBackward>))"
      ]
     },
     "execution_count": 37,
     "metadata": {},
     "output_type": "execute_result"
    }
   ],
   "source": [
    "# 一个损失函数需要一对输入：模型输出和目标，然后计算一个值来评估输出距离目标有多远。有一些不同的损失函数在 nn 包中。一个简单的损失函数就是 nn.MSELoss ，这计算了均方误差\n",
    "output = net(input)\n",
    "target = torch.randn(10) # a dummy target, for example\n",
    "target = target.view(1, -1) # make it the same shape as output\n",
    "criterion = nn.MSELoss()\n",
    "loss = criterion(output, target)\n",
    "output, target, loss"
   ]
  },
  {
   "cell_type": "code",
   "execution_count": 43,
   "id": "3d1c7c2c",
   "metadata": {
    "ExecuteTime": {
     "end_time": "2021-07-17T08:18:24.896171Z",
     "start_time": "2021-07-17T08:18:24.881172Z"
    },
    "hidden": true
   },
   "outputs": [
    {
     "name": "stdout",
     "output_type": "stream",
     "text": [
      "<MseLossBackward object at 0x000001767636E4E0>\n",
      "<AddmmBackward object at 0x000001767B0A99E8>\n",
      "<AccumulateGrad object at 0x000001767B0A9240>\n"
     ]
    }
   ],
   "source": [
    "print(loss.grad_fn) # MSELoss\n",
    "print(loss.grad_fn.next_functions[0][0]) # Linear\n",
    "print(loss.grad_fn.next_functions[0][0].next_functions[0][0]) # ReLU"
   ]
  },
  {
   "cell_type": "code",
   "execution_count": 44,
   "id": "6b1cd13d",
   "metadata": {
    "ExecuteTime": {
     "end_time": "2021-07-17T08:22:24.767322Z",
     "start_time": "2021-07-17T08:22:24.734322Z"
    },
    "hidden": true
   },
   "outputs": [
    {
     "name": "stdout",
     "output_type": "stream",
     "text": [
      "conv1.bias.grad before backward\n",
      "tensor([0., 0., 0., 0., 0., 0.])\n",
      "conv1.bias.grad after backward\n",
      "tensor([ 0.0289, -0.0077,  0.0164,  0.0020,  0.0086,  0.0045])\n"
     ]
    }
   ],
   "source": [
    "# 们调用 loss.backward() ，然后看一下 con1 的偏置项在反向传播之前和之后的变化\n",
    "net.zero_grad() # zeroes the gradient buffers of all parameters\n",
    "print('conv1.bias.grad before backward')\n",
    "print(net.conv1.bias.grad)\n",
    "loss.backward()\n",
    "print('conv1.bias.grad after backward')\n",
    "print(net.conv1.bias.grad)"
   ]
  },
  {
   "cell_type": "markdown",
   "id": "e05361c2",
   "metadata": {
    "hidden": true
   },
   "source": [
    "优化器 - 更新网络参数 - weight = weight - learning_rate * gradient "
   ]
  },
  {
   "cell_type": "code",
   "execution_count": 45,
   "id": "ddf5dfae",
   "metadata": {
    "ExecuteTime": {
     "end_time": "2021-07-17T08:43:17.664337Z",
     "start_time": "2021-07-17T08:43:17.642336Z"
    },
    "hidden": true
   },
   "outputs": [],
   "source": [
    "import torch.optim as optim\n",
    "# create your optimizer\n",
    "optimizer = optim.SGD(net.parameters(), lr=0.01)\n",
    "# in your training loop:\n",
    "optimizer.zero_grad() # zero the gradient buffers\n",
    "output = net(input)\n",
    "loss = criterion(output, target)\n",
    "loss.backward()\n",
    "optimizer.step() # Does the update"
   ]
  },
  {
   "cell_type": "markdown",
   "id": "f55d44dc",
   "metadata": {},
   "source": [
    "## A example of 小试牛刀"
   ]
  },
  {
   "cell_type": "markdown",
   "id": "97e133a9",
   "metadata": {
    "heading_collapsed": true
   },
   "source": [
    "### 手动使用矩阵实现神经网络"
   ]
  },
  {
   "cell_type": "markdown",
   "id": "3b057e91",
   "metadata": {
    "hidden": true
   },
   "source": [
    "可以很容易地使用NumPy，手动实现网络的 前向和反向传播，来拟合随机数据"
   ]
  },
  {
   "cell_type": "code",
   "execution_count": 56,
   "id": "6a514e6a",
   "metadata": {
    "ExecuteTime": {
     "end_time": "2021-07-17T14:01:30.294063Z",
     "start_time": "2021-07-17T14:01:29.698021Z"
    },
    "hidden": true
   },
   "outputs": [
    {
     "name": "stdout",
     "output_type": "stream",
     "text": [
      "(64, 1000)\n",
      "(64, 10)\n",
      "(1000, 100)\n",
      "(100, 10)\n",
      "epoch : 0 loss : 28412498.620844334\n",
      "epoch : 100 loss : 334.2850432520746\n",
      "epoch : 200 loss : 1.0393189411545993\n",
      "epoch : 300 loss : 0.004481854144799527\n",
      "epoch : 400 loss : 2.4336003569898868e-05\n"
     ]
    }
   ],
   "source": [
    "# -*- coding: utf-8 -*-\n",
    "import numpy as np\n",
    "# N是批量大小; D_in是输入维度;\n",
    "# 49/5000 H是隐藏的维度; D_out是输出维度。\n",
    "N, D_in, H, D_out = 64, 1000, 100, 10\n",
    "\n",
    "# 创建随机输入和输出数据\n",
    "x = np.random.randn(N, D_in)\n",
    "print(x.shape)\n",
    "y = np.random.randn(N, D_out)\n",
    "print(y.shape)\n",
    "\n",
    "# 随机初始化权重\n",
    "w1 = np.random.randn(D_in, H)\n",
    "print(w1.shape)\n",
    "w2 = np.random.randn(H, D_out)\n",
    "print(w2.shape)\n",
    "\n",
    "learning_rate = 1e-6\n",
    "for t in range(500):\n",
    "    # 前向传递：计算预测值y\n",
    "    h = x.dot(w1) # hidden = x * w1\n",
    "    h_relu = np.maximum(h, 0)\n",
    "    y_pred = h_relu.dot(w2)\n",
    "    \n",
    "    # 计算和打印损失loss\n",
    "    loss = np.square(y_pred - y).sum()\n",
    "    if t %100 == 0:\n",
    "        print('epoch :',t,'loss :', loss)\n",
    "    \n",
    "    # 反向传播，计算w1和w2对loss的梯度\n",
    "    grad_y_pred = 2.0 * (y_pred - y)\n",
    "    grad_w2 = h_relu.T.dot(grad_y_pred)\n",
    "    grad_h_relu = grad_y_pred.dot(w2.T)\n",
    "    grad_h = grad_h_relu.copy()\n",
    "    grad_h[h < 0] = 0\n",
    "    grad_w1 = x.T.dot(grad_h)\n",
    "    \n",
    "    # 更新权重\n",
    "    w1 -= learning_rate * grad_w1\n",
    "    w2 -= learning_rate * grad_w2"
   ]
  },
  {
   "cell_type": "markdown",
   "id": "c3a566a6",
   "metadata": {
    "hidden": true
   },
   "source": [
    "与Numpy不同，PyTorch可以利用GPU加速其数值计算。要在GPU上运行Tensor,在构造张量使用device 参数把tensor建立在GPU上"
   ]
  },
  {
   "cell_type": "code",
   "execution_count": 57,
   "id": "3c736484",
   "metadata": {
    "ExecuteTime": {
     "end_time": "2021-07-17T14:05:53.830178Z",
     "start_time": "2021-07-17T14:05:53.197861Z"
    },
    "hidden": true
   },
   "outputs": [
    {
     "name": "stdout",
     "output_type": "stream",
     "text": [
      "torch.Size([64, 1000])\n",
      "torch.Size([64, 10])\n",
      "torch.Size([1000, 100])\n",
      "torch.Size([100, 10])\n",
      "epoch : 0 loss : 27904286.0\n",
      "epoch : 100 loss : 334.3866271972656\n",
      "epoch : 200 loss : 1.0009766817092896\n",
      "epoch : 300 loss : 0.007415931671857834\n",
      "epoch : 400 loss : 0.00024159473832696676\n"
     ]
    }
   ],
   "source": [
    "# -*- coding: utf-8 -*-\n",
    "# 一个用tensor手算的例子\n",
    "import torch\n",
    "dtype = torch.float\n",
    "device = torch.device(\"cpu\")\n",
    "# device = torch.device（“cuda：0”）＃取消注释以在GPU上运行\n",
    "\n",
    "# N是批量大小; D_in是输入维度;\n",
    "# H是隐藏的维度; D_out是输出维度。\n",
    "N, D_in, H, D_out = 64, 1000, 100, 10\n",
    "\n",
    "#创建随机输入和输出数据\n",
    "x = torch.randn(N, D_in, device=device, dtype=dtype)\n",
    "print(x.shape)\n",
    "y = torch.randn(N, D_out, device=device, dtype=dtype)\n",
    "print(y.shape)\n",
    "\n",
    "# 随机初始化权重\n",
    "w1 = torch.randn(D_in, H, device=device, dtype=dtype)\n",
    "print(w1.shape)\n",
    "w2 = torch.randn(H, D_out, device=device, dtype=dtype)\n",
    "print(w2.shape)\n",
    "\n",
    "learning_rate = 1e-6\n",
    "for t in range(500):\n",
    "    # 前向传递：计算预测y\n",
    "    h = x.mm(w1)\n",
    "    h_relu = h.clamp(min=0)\n",
    "    y_pred = h_relu.mm(w2)\n",
    "    \n",
    "    # 计算和打印损失\n",
    "    loss = (y_pred - y).pow(2).sum().item()\n",
    "    if t %100 == 0:\n",
    "        print('epoch :',t,'loss :', loss)\n",
    "    \n",
    "    # Backprop计算w1和w2相对于损耗的梯度\n",
    "    grad_y_pred = 2.0 * (y_pred - y)\n",
    "    grad_w2 = h_relu.t().mm(grad_y_pred)\n",
    "    grad_h_relu = grad_y_pred.mm(w2.t())\n",
    "    grad_h = grad_h_relu.clone()\n",
    "    grad_h[h < 0] = 0\n",
    "    grad_w1 = x.t().mm(grad_h)\n",
    "    \n",
    "    # 使用梯度下降更新权重\n",
    "    w1 -= learning_rate * grad_w1\n",
    "    w2 -= learning_rate * grad_w2"
   ]
  },
  {
   "cell_type": "markdown",
   "id": "218c6bce",
   "metadata": {},
   "source": [
    "### 用autograd方法实现神经网络"
   ]
  },
  {
   "cell_type": "markdown",
   "id": "d1629d97",
   "metadata": {},
   "source": [
    "当使用autograd时，网络前向传播将定义一个计算图；图中的节点是tensor，边是函数，这些函数是输出tensor到输入\n",
    "tensor的映射。这张计算图使得在网络中反向传播时梯度的计算十分简单。\n",
    "\n",
    "这听起来很复杂，在实践中使用起来非常简单。 如果我们想计算某些的tensor的梯度，我们只需\n",
    "要在建立这个tensor时加入这么一句： requires_grad=True 。这个tensor上的任何PyTorch的操作\n",
    "都将构造一个计算图，从而允许我们稍后在图中执行反向传播。如果这个 tensor x 的\n",
    "requires_grad=True ，那么反向传播之后 x.grad 将会是另一个张量，其为x关于某个标量值的梯\n",
    "度。\n",
    "\n",
    "有时可能希望防止PyTorch在 requires_grad=True 的张量执行某些操作时构建计算图；例如，在\n",
    "训练神经网络时，我们通常不希望通过权重更新步骤进行反向传播。在这种情况下，我们可以使\n",
    "用 torch.no_grad() 上下文管理器来防止构造计算图"
   ]
  },
  {
   "cell_type": "code",
   "execution_count": 60,
   "id": "ed52f5a1",
   "metadata": {
    "ExecuteTime": {
     "end_time": "2021-07-17T14:14:53.660279Z",
     "start_time": "2021-07-17T14:14:52.969175Z"
    }
   },
   "outputs": [
    {
     "name": "stdout",
     "output_type": "stream",
     "text": [
      "epoch : 0 loss : 30318530.0\n",
      "epoch : 100 loss : 203.52279663085938\n",
      "epoch : 200 loss : 0.22632035613059998\n",
      "epoch : 300 loss : 0.0006550506222993135\n",
      "epoch : 400 loss : 4.042639920953661e-05\n"
     ]
    }
   ],
   "source": [
    "# -*- coding: utf-8 -*-\n",
    "import torch\n",
    "dtype = torch.float\n",
    "device = torch.device(\"cpu\")\n",
    "# device = torch.device（“cuda：0”）＃取消注释以在GPU上运行\n",
    "\n",
    "# N是批量大小; D_in是输入维度;\n",
    "# H是隐藏的维度; D_out是输出维度。\n",
    "N, D_in, H, D_out = 64, 1000, 100, 10\n",
    "\n",
    "# 创建随机Tensors以保持输入和输出。\n",
    "# 设置requires_grad = False表示我们不需要计算渐变\n",
    "# 在向后传球期间对于这些Tensors。 x = torch.randn(N, D_in, device=device, dtype=dtype) y = torch.randn(N, D_out, device=device, dtype=dtype)\n",
    "# 为权重创建随机Tensors。\n",
    "# 设置requires_grad = True表示我们想要计算渐变\n",
    "# 在向后传球期间尊重这些张贴。\n",
    "w1 = torch.randn(D_in, H, device=device, dtype=dtype, requires_grad=True)\n",
    "w2 = torch.randn(H, D_out, device=device, dtype=dtype, requires_grad=True)\n",
    "\n",
    "learning_rate = 1e-6\n",
    "for t in range(500):\n",
    "    # 前向传播：使用tensors上的操作计算预测值y; \n",
    "    # 由于w1和w2有requires_grad=True，涉及这些张量的操作将让PyTorch构建计算图，\n",
    "    # 从而允许自动计算梯度。由于我们不再手工实现反向传播，所以不需要保留中间值的引用\n",
    "    y_pred = x.mm(w1).clamp(min=0).mm(w2)\n",
    "    \n",
    "    # 使用Tensors上的操作计算和打印丢失。\n",
    "    # loss是一个形状为()的张量\n",
    "    # loss.item() 得到这个张量对应的python数值\n",
    "    loss = (y_pred - y).pow(2).sum()\n",
    "    if t %100 == 0:\n",
    "        print('epoch :',t,'loss :', loss.item())\n",
    "    # 使用autograd计算反向传播。这个调用将计算loss对所有requires_grad=True的tensor的梯度。\n",
    "    # 这次调用后，w1.grad和w2.grad将分别是loss对w1和w2的梯度张量。\n",
    "    loss.backward()\n",
    "    \n",
    "    # 使用梯度下降更新权重。对于这一步，我们只想对w1和w2的值进行原地改变；不想为更新阶段构建计算图，\n",
    "    # 所以我们使用torch.no_grad()上下文管理器防止PyTorch为更新构建计算图\n",
    "    with torch.no_grad():\n",
    "        w1 -= learning_rate * w1.grad\n",
    "        w2 -= learning_rate * w2.grad\n",
    "    \n",
    "        # 反向传播后手动将梯度设置为零\n",
    "        w1.grad.zero_()\n",
    "        w2.grad.zero_()"
   ]
  },
  {
   "cell_type": "markdown",
   "id": "b8395424",
   "metadata": {},
   "source": [
    "@staticmethod \n",
    "\n",
    "当某个方法不需要用到对象中的任何资源,将这个方法改为一个静态方法, 加一个@staticmethod\n",
    "\n",
    "加上之后, 这个方法就和普通的函数没有什么区别了, 只不过写在了一个类中, 可以使用这个类的对象调用,\n",
    "\n",
    "也可以使用类直接调用, 简而言之, 写在类中的函数"
   ]
  },
  {
   "cell_type": "code",
   "execution_count": 78,
   "id": "b27adada",
   "metadata": {
    "ExecuteTime": {
     "end_time": "2021-07-17T15:34:08.551507Z",
     "start_time": "2021-07-17T15:34:07.769451Z"
    }
   },
   "outputs": [
    {
     "name": "stdout",
     "output_type": "stream",
     "text": [
      "epoch : 0 loss : 23061838.0\n",
      "epoch : 100 loss : 229.37933349609375\n",
      "epoch : 200 loss : 0.7874122858047485\n",
      "epoch : 300 loss : 0.006595850922167301\n",
      "epoch : 400 loss : 0.00021584687056019902\n"
     ]
    }
   ],
   "source": [
    "# 这个例子中，我们自定义一个自动求导函数来展示ReLU的非线性。并用它实现我们的两层网络\n",
    "import torch\n",
    "class MyReLU(torch.autograd.Function):\n",
    "    \"\"\"\n",
    "    我们可以通过建立torch.autograd的子类来实现我们自定义的autograd函数，\n",
    "    并完成张量的正向和反向传播。\n",
    "    \"\"\"\n",
    "    @staticmethod  #静态方法 类或实例均可调用，函数前加上@property，使得该函数可直接调用，封装起来\n",
    "    def forward(ctx, x):\n",
    "        \"\"\"\n",
    "        在正向传播中，我们接收到一个上下文对象和一个包含输入的张量；\n",
    "        我们必须返回一个包含输出的张量，\n",
    "        并且我们可以使用上下文对象来缓存对象，以便在反向传播中使用。\n",
    "        \"\"\"\n",
    "        ctx.save_for_backward(x)\n",
    "        return x.clamp(min=0)\n",
    "    \n",
    "    @staticmethod # 这样封装后就可以直接MyReLu.backward()调用，不用实例化，也不用写self进去\n",
    "    def backward(ctx, grad_output):\n",
    "        \"\"\"\n",
    "        在反向传播中，我们接收到上下文对象和一个张量，\n",
    "        其包含了相对于正向传播过程中产生的输出的损失的梯度。\n",
    "        我们可以从上下文对象中检索缓存的数据，\n",
    "        并且必须计算并返回与正向传播的输入相关的损失的梯度。\n",
    "        \"\"\"\n",
    "        x, = ctx.saved_tensors\n",
    "        grad_x = grad_output.clone()\n",
    "        grad_x[x < 0] = 0\n",
    "        return grad_x\n",
    "device = torch.device('cuda' if torch.cuda.is_available() else 'cpu')\n",
    "# N是批大小； D_in 是输入维度；\n",
    "# H 是隐藏层维度； D_out 是输出维度\n",
    "N, D_in, H, D_out = 64, 1000, 100, 10\n",
    "# 产生输入和输出的随机张量\n",
    "x = torch.randn(N, D_in, device=device)\n",
    "y = torch.randn(N, D_out, device=device)\n",
    "# 产生随机权重的张量\n",
    "w1 = torch.randn(D_in, H, device=device, requires_grad=True)\n",
    "w2 = torch.randn(H, D_out, device=device, requires_grad=True)\n",
    "learning_rate = 1e-6\n",
    "for t in range(500):\n",
    "    # 正向传播：使用张量上的操作来计算输出值y；\n",
    "    # 我们通过调用 MyReLU.apply 函数来使用自定义的ReLU\n",
    "    y_pred = MyReLU.apply(x.mm(w1)).mm(w2)\n",
    "    # 计算并输出loss\n",
    "    loss = (y_pred - y).pow(2).sum()\n",
    "    if t %100 == 0:\n",
    "        print('epoch :',t,'loss :', loss.item())\n",
    "    # 使用autograd计算反向传播过程。\n",
    "    loss.backward()\n",
    "    with torch.no_grad():\n",
    "        # 用梯度下降更新权重\n",
    "        w1 -= learning_rate * w1.grad\n",
    "        w2 -= learning_rate * w2.grad\n",
    "        # 在反向传播之后手动清零梯度\n",
    "        w1.grad.zero_()\n",
    "        w2.grad.zero_()"
   ]
  },
  {
   "cell_type": "code",
   "execution_count": null,
   "id": "a752a8db",
   "metadata": {},
   "outputs": [],
   "source": []
  },
  {
   "cell_type": "code",
   "execution_count": null,
   "id": "c69062cb",
   "metadata": {},
   "outputs": [],
   "source": []
  }
 ],
 "metadata": {
  "kernelspec": {
   "display_name": "Python [conda env:Deep]",
   "language": "python",
   "name": "deep"
  },
  "language_info": {
   "codemirror_mode": {
    "name": "ipython",
    "version": 3
   },
   "file_extension": ".py",
   "mimetype": "text/x-python",
   "name": "python",
   "nbconvert_exporter": "python",
   "pygments_lexer": "ipython3",
   "version": "3.7.0"
  },
  "toc": {
   "base_numbering": 1,
   "nav_menu": {},
   "number_sections": true,
   "sideBar": true,
   "skip_h1_title": false,
   "title_cell": "Table of Contents",
   "title_sidebar": "Contents",
   "toc_cell": false,
   "toc_position": {},
   "toc_section_display": true,
   "toc_window_display": false
  },
  "varInspector": {
   "cols": {
    "lenName": 16,
    "lenType": 16,
    "lenVar": 40
   },
   "kernels_config": {
    "python": {
     "delete_cmd_postfix": "",
     "delete_cmd_prefix": "del ",
     "library": "var_list.py",
     "varRefreshCmd": "print(var_dic_list())"
    },
    "r": {
     "delete_cmd_postfix": ") ",
     "delete_cmd_prefix": "rm(",
     "library": "var_list.r",
     "varRefreshCmd": "cat(var_dic_list()) "
    }
   },
   "types_to_exclude": [
    "module",
    "function",
    "builtin_function_or_method",
    "instance",
    "_Feature"
   ],
   "window_display": false
  }
 },
 "nbformat": 4,
 "nbformat_minor": 5
}
