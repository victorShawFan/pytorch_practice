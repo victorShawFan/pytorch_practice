{
 "cells": [
  {
   "cell_type": "markdown",
   "id": "a98f90d0-a3e0-4cb6-9182-05d9e3b75dde",
   "metadata": {},
   "source": [
    "# dataset与dataloader"
   ]
  },
  {
   "cell_type": "code",
   "execution_count": 1,
   "id": "4b3bfec0-6faa-4962-b1ed-1e23b730285d",
   "metadata": {},
   "outputs": [],
   "source": [
    "import torch as t\n",
    "from torch.utils.data import DataLoader, Dataset"
   ]
  },
  {
   "cell_type": "code",
   "execution_count": 2,
   "id": "e672d229-aad2-4cdf-bd24-eff7d77dfca8",
   "metadata": {},
   "outputs": [],
   "source": [
    "class stupidDataset(Dataset):\n",
    "    def __init__(self):\n",
    "        super(stupidDataset, self).__init__()\n",
    "        self.data = t.randn([1024, 10, 10])\n",
    "    def __len__(self):\n",
    "        return 1024\n",
    "    def __getitem__(self, idx):\n",
    "        return self.data[idx, :, :]"
   ]
  },
  {
   "cell_type": "code",
   "execution_count": 3,
   "id": "ead84f53-50d3-40cd-907b-2cef2a6e8871",
   "metadata": {},
   "outputs": [
    {
     "data": {
      "text/plain": [
       "tensor([[-8.0703e-01,  1.0081e+00,  4.9871e-01,  4.2091e-01, -8.2539e-01,\n",
       "          9.4630e-01, -8.4458e-01, -4.5446e-01, -8.4125e-01,  1.6540e-03],\n",
       "        [ 5.6305e-01,  6.1709e-03, -1.8391e+00,  1.5555e+00, -1.7109e+00,\n",
       "          1.5124e+00,  7.2579e-02,  1.9280e-01,  3.0775e-01, -3.3496e-01],\n",
       "        [ 2.2136e+00,  8.8353e-01,  1.9561e+00, -1.5309e+00, -7.8106e-01,\n",
       "         -1.3031e-01, -9.8051e-01, -3.8523e-01, -7.9776e-01, -1.4329e+00],\n",
       "        [-2.4452e-01, -5.1423e-01,  1.1383e+00, -1.5971e-01,  9.7312e-01,\n",
       "          3.2846e-01, -1.1180e+00,  8.5156e-01,  1.4350e+00,  9.7195e-01],\n",
       "        [-6.7695e-02, -2.2367e+00,  3.5707e-01,  6.1028e-01, -1.1150e+00,\n",
       "          7.5514e-02, -1.7065e-01,  4.0903e-02,  7.5758e-01,  3.0094e-01],\n",
       "        [-1.0697e+00, -9.0452e-01, -2.4910e+00,  8.8355e-01, -1.5530e-01,\n",
       "          3.5701e-01, -8.1018e-01, -1.8017e-01, -1.3180e+00,  1.3886e-01],\n",
       "        [ 2.2317e-01,  7.4580e-01,  5.9833e-01,  1.0631e+00,  6.2529e-01,\n",
       "         -9.5183e-01, -5.0630e-01,  6.9718e-01, -5.9648e-01, -1.1349e+00],\n",
       "        [-2.4139e-01, -5.5348e-01,  6.6962e-01,  1.7581e-02,  1.3115e-01,\n",
       "         -9.5309e-01, -1.0852e+00, -9.7405e-01,  7.2960e-01, -1.1557e+00],\n",
       "        [-2.7730e-01, -1.0071e-01, -1.1978e+00,  1.3382e+00, -1.0490e+00,\n",
       "         -1.9971e+00,  1.3879e+00, -4.6686e-01, -1.1880e+00,  1.1242e+00],\n",
       "        [-1.4211e+00, -7.4975e-02, -2.8492e-01, -6.0963e-01,  6.8862e-01,\n",
       "          3.1568e-01,  7.0222e-01,  3.5710e-01,  3.5741e-02,  2.2051e+00]])"
      ]
     },
     "execution_count": 3,
     "metadata": {},
     "output_type": "execute_result"
    }
   ],
   "source": [
    "myDataset = stupidDataset()\n",
    "myDataset.__getitem__(4)"
   ]
  },
  {
   "cell_type": "code",
   "execution_count": 4,
   "id": "ba2f37fd-e39c-41f0-8cf3-02d5dbec4485",
   "metadata": {},
   "outputs": [],
   "source": [
    "myDataLoader = DataLoader(myDataset, batch_size=8, shuffle=True)"
   ]
  },
  {
   "cell_type": "code",
   "execution_count": 5,
   "id": "b4ce9c84-f440-4fe2-bc39-a38604c31755",
   "metadata": {},
   "outputs": [
    {
     "name": "stdout",
     "output_type": "stream",
     "text": [
      "<class 'torch.Tensor'>\n",
      "tensor([[[-2.1178e-01,  1.0011e-01, -1.0115e+00,  1.1360e+00, -1.8632e-02,\n",
      "           1.7381e+00,  1.2756e+00,  8.4940e-01, -9.6178e-01, -9.5738e-01],\n",
      "         [-6.9404e-01,  8.7622e-01,  5.2550e-01,  2.8259e-01,  1.0582e+00,\n",
      "           1.2162e+00,  9.9070e-01, -1.2307e+00,  7.7286e-01, -3.8089e-01],\n",
      "         [-1.4156e+00, -1.5317e+00,  8.0024e-01, -1.0498e+00, -1.5230e+00,\n",
      "          -6.6290e-01, -1.6435e+00, -1.4025e-01, -5.5473e-01, -2.2014e+00],\n",
      "         [-3.4537e-01,  1.2075e+00, -1.2469e+00,  1.8984e+00, -2.8378e-01,\n",
      "           8.3003e-01,  1.2355e+00, -8.5010e-01,  9.1295e-01,  1.7441e+00],\n",
      "         [ 1.3839e-02,  1.2052e+00, -2.1211e-01, -6.8069e-01,  4.8237e-01,\n",
      "          -1.7739e+00,  1.1605e+00, -5.8525e-02, -2.7748e-01, -8.1477e-01],\n",
      "         [-1.8015e-01,  6.0451e-01,  1.1620e-01,  4.7831e-01, -5.0678e-02,\n",
      "           1.0913e-01, -8.1077e-01, -1.8000e+00,  1.1261e+00,  1.3804e-01],\n",
      "         [ 8.5902e-01,  4.8657e-01, -4.3958e-01,  1.3543e+00,  1.3136e+00,\n",
      "          -4.1143e-01,  6.1948e-01, -5.6487e-01,  4.1990e-01,  3.4848e-02],\n",
      "         [ 1.3233e+00,  1.0635e+00,  1.0625e+00, -1.1579e+00, -5.8222e-01,\n",
      "          -1.7721e+00, -4.1705e-01,  6.0105e-01, -6.0807e-01, -1.2761e-01],\n",
      "         [-1.2548e+00,  3.5782e-01,  4.6913e-01, -1.5729e+00, -6.1612e-01,\n",
      "          -3.8245e-01,  5.3697e-01, -2.4380e-01, -1.4927e+00, -5.3372e-01],\n",
      "         [ 9.2907e-01,  1.7222e+00,  4.3576e-01,  1.8169e-01, -5.5575e-01,\n",
      "          -1.2802e+00, -9.2264e-01, -4.5547e-01, -4.6361e-01,  1.1750e+00]],\n",
      "\n",
      "        [[ 1.5224e+00, -1.2792e+00,  6.8611e-02, -5.6362e-01, -1.0945e+00,\n",
      "          -8.3089e-01, -4.3703e-01, -1.9356e-01, -4.6403e-01, -2.6199e-02],\n",
      "         [-1.1897e+00,  7.4735e-01, -1.4652e+00, -2.7722e+00, -3.5977e-01,\n",
      "           9.5653e-02,  5.0902e-01,  5.4030e-01, -5.2877e-01,  3.7417e-01],\n",
      "         [ 5.2096e-01, -1.0596e+00, -4.3027e-01, -1.0838e-02, -2.0800e+00,\n",
      "          -2.2465e-02,  5.7502e-01,  6.5419e-02, -1.2002e+00, -2.8017e-01],\n",
      "         [ 8.8893e-01, -5.8613e-01, -2.1545e+00, -8.2642e-01,  1.2862e+00,\n",
      "           2.5006e+00,  7.3967e-01, -1.3513e-01, -7.8265e-01, -4.1522e-01],\n",
      "         [-3.5033e-01,  2.9706e-01,  8.5443e-01, -1.4088e+00,  6.9629e-02,\n",
      "           4.3095e-01,  1.1629e-01, -7.3591e-01,  9.0246e-01, -3.1916e-01],\n",
      "         [-1.6871e-02,  1.1245e+00, -1.6017e+00,  1.3792e-01,  5.4822e-01,\n",
      "           1.0293e+00, -4.3498e-01, -3.2231e-01,  1.1716e+00, -1.3078e-01],\n",
      "         [ 8.7067e-01,  1.3928e+00, -1.7807e+00,  1.1979e+00, -6.8682e-01,\n",
      "          -1.2505e+00, -1.9226e+00,  7.2537e-01, -9.2906e-01, -9.7388e-02],\n",
      "         [ 4.3257e-01, -1.3951e+00,  2.2808e-01, -9.3584e-01, -1.8329e-01,\n",
      "           5.0809e-01,  1.3933e+00, -9.2688e-01, -1.4471e+00, -5.1899e-02],\n",
      "         [-1.1214e+00,  1.9503e-01, -1.1602e+00,  5.7738e-01,  9.9421e-01,\n",
      "          -2.9187e-01,  5.5376e-01,  1.6834e+00, -1.2354e+00, -1.3012e+00],\n",
      "         [ 1.0407e+00, -6.3133e-01, -3.4401e-01, -1.4658e+00, -4.9195e-01,\n",
      "           1.1926e+00, -1.4500e-01, -2.1290e-02, -5.7868e-01,  1.4788e-01]],\n",
      "\n",
      "        [[-1.6139e+00,  2.4037e-01, -7.4511e-01, -1.1952e-01,  6.2761e-01,\n",
      "          -4.6621e-01,  4.9949e-02,  4.1823e-01,  1.1203e+00, -2.0665e-01],\n",
      "         [-4.5922e-02,  1.2254e+00,  1.4375e+00, -1.3940e+00, -1.1465e+00,\n",
      "          -1.4586e+00, -8.3990e-01,  5.9695e-01, -1.7403e+00,  1.0484e+00],\n",
      "         [ 1.5876e-01,  1.4300e+00, -6.5678e-01,  7.4965e-01, -2.0569e-01,\n",
      "           6.7893e-01,  1.3741e-01, -2.3829e-01, -9.5465e-01,  1.3840e+00],\n",
      "         [ 6.0438e-01,  1.3349e-01,  1.1678e+00,  5.8326e-01, -8.0228e-01,\n",
      "          -5.1445e-01, -6.4471e-01, -1.9467e+00, -9.5608e-01,  3.2177e-02],\n",
      "         [ 4.1606e-01, -1.8031e+00, -6.7380e-03, -7.2651e-01,  3.3919e-01,\n",
      "          -9.0905e-01, -1.0891e+00, -3.1104e-01, -2.3040e-01,  7.9919e-01],\n",
      "         [-5.1885e-01,  1.3202e+00,  1.1457e+00,  1.1608e+00, -1.4563e+00,\n",
      "           1.2845e-01, -3.9061e-01,  2.0919e-01,  1.0254e+00,  9.0203e-01],\n",
      "         [ 2.4565e-01, -9.5128e-02, -6.1458e-01, -6.7456e-02, -1.7246e-01,\n",
      "           2.3469e-01, -5.6252e-01, -1.0729e+00, -2.6452e-01, -3.5618e-01],\n",
      "         [ 9.8808e-01,  1.0156e+00,  7.9698e-01,  8.6568e-01, -3.6569e-01,\n",
      "          -2.6670e-01, -7.0319e-01, -1.3419e-01, -1.6859e+00, -1.3121e+00],\n",
      "         [ 5.7110e-01,  3.2863e-02,  2.2989e+00, -8.5925e-02, -6.5495e-01,\n",
      "          -4.5223e-01,  6.1072e-01,  1.7734e+00, -2.0166e-01,  5.1699e-01],\n",
      "         [ 2.0777e-01, -9.2311e-01,  1.0421e+00,  1.0120e+00,  6.9976e-01,\n",
      "          -3.4039e-01,  2.0676e-01,  1.4373e-01, -8.2072e-01, -1.4386e+00]],\n",
      "\n",
      "        [[-1.0084e+00,  8.5997e-02,  1.6409e-01, -4.9755e-01, -9.1130e-01,\n",
      "          -5.1605e-02, -3.3685e-01,  1.8348e-01, -4.7262e-01,  2.3701e+00],\n",
      "         [-8.5951e-02, -1.7556e+00,  2.7901e-01, -1.0455e-01,  6.0954e-01,\n",
      "          -4.5546e-01,  2.5415e-01,  2.6123e+00,  7.3742e-01, -7.9816e-01],\n",
      "         [-5.5170e-01,  4.5908e-02, -6.5376e-01, -2.1927e+00, -2.1596e+00,\n",
      "          -1.2907e+00, -1.7265e-01, -6.3372e-04,  6.2591e-01, -1.2062e+00],\n",
      "         [ 1.8877e+00,  1.8822e+00,  9.9420e-01,  6.5809e-01, -9.0024e-01,\n",
      "          -1.0581e+00, -1.6838e+00,  9.9656e-02,  7.7299e-01,  1.1084e-01],\n",
      "         [-3.4844e-02,  1.5200e+00, -5.6305e-01, -1.2777e-01,  8.8608e-01,\n",
      "          -2.3239e-01,  1.0212e+00, -5.2732e-01,  1.3917e+00,  8.9094e-01],\n",
      "         [-1.3041e+00, -1.8063e+00, -2.2610e+00,  1.1812e+00, -8.3191e-01,\n",
      "           8.5379e-01, -1.6878e+00, -6.7819e-02,  5.8847e-01, -8.1415e-01],\n",
      "         [-1.8817e+00,  1.3023e+00, -7.7056e-01, -4.6233e-01,  1.3361e-01,\n",
      "           1.1724e+00, -1.4986e+00,  9.7311e-01,  8.2769e-01,  1.1734e+00],\n",
      "         [ 3.5176e-01, -2.6797e-01,  7.6385e-01,  9.7448e-01, -1.1443e+00,\n",
      "           4.0471e-01,  1.8601e-01, -1.6143e+00,  3.4903e-01, -3.5437e-01],\n",
      "         [ 7.0966e-01, -1.1269e+00, -1.1841e+00,  2.0019e+00, -8.9284e-02,\n",
      "          -1.8205e-01,  5.5845e-01, -5.3712e-01,  1.7084e+00,  6.8557e-02],\n",
      "         [ 1.2741e+00,  2.4024e-01,  2.3053e-01, -3.3682e-01,  5.2632e-02,\n",
      "           9.7317e-01, -1.1271e+00,  4.7339e-01,  8.9769e-01,  1.5407e+00]],\n",
      "\n",
      "        [[ 1.1424e+00, -1.5480e+00,  1.4570e+00,  6.7195e-01,  2.8282e-01,\n",
      "           2.7239e+00, -2.3113e+00,  1.0251e+00, -1.0467e+00, -5.5974e-01],\n",
      "         [-2.7247e-01, -5.3640e-02,  1.4240e+00,  2.9751e-01,  7.2747e-01,\n",
      "          -2.1788e+00, -4.6465e-01,  7.0042e-02, -3.8155e-01, -3.8225e-01],\n",
      "         [-9.0495e-01,  1.9055e-01,  2.4220e+00,  2.6673e-02,  2.8458e+00,\n",
      "           2.0780e+00,  3.4281e-01, -8.3720e-01, -7.9416e-01,  8.1212e-01],\n",
      "         [ 3.6926e-01, -1.5374e+00,  1.5771e+00, -9.7649e-01,  1.8631e+00,\n",
      "           1.1984e+00,  3.3172e-01,  1.2080e+00, -3.3291e-01, -1.2805e+00],\n",
      "         [-8.2844e-02,  6.4909e-01,  1.2201e+00, -1.5472e+00, -5.4930e-01,\n",
      "           8.9221e-02, -2.1184e+00, -1.3404e+00,  9.6215e-01,  1.0709e+00],\n",
      "         [-2.5962e-01, -2.6701e-01, -3.5857e-01,  1.7153e+00,  1.8835e+00,\n",
      "           2.8974e-02, -2.3928e-01, -7.7133e-01, -1.0282e-01, -1.0223e+00],\n",
      "         [ 1.4921e+00,  6.1601e-01,  2.8259e-01, -5.4477e-01, -1.7280e+00,\n",
      "          -4.4835e-01,  3.1725e-01, -1.2260e+00, -8.1631e-01, -3.8231e-01],\n",
      "         [-8.1676e-01,  1.0973e+00, -5.8845e-01,  3.1221e+00,  9.6275e-01,\n",
      "           1.3409e+00,  8.0711e-02, -1.9887e-01, -1.5730e+00, -7.1307e-01],\n",
      "         [ 1.2574e+00, -3.1215e-01,  4.9119e-01,  1.7267e-01, -5.5231e-01,\n",
      "           1.5761e-01, -9.0863e-01,  1.9196e+00, -3.9349e-01, -1.0699e+00],\n",
      "         [-2.2211e+00, -1.2202e-01, -3.8083e-01,  3.0976e-01,  7.3640e-01,\n",
      "          -3.2421e-01,  1.4607e+00,  1.0677e+00,  7.9182e-01, -3.1611e-01]],\n",
      "\n",
      "        [[ 1.6398e+00,  2.3643e-01,  1.6548e-01, -1.1621e+00,  9.4367e-01,\n",
      "          -1.0447e+00,  6.9204e-01,  8.4374e-01,  7.0263e-03,  1.3713e+00],\n",
      "         [-1.0195e+00,  5.8415e-01, -8.7024e-01, -4.7550e-01,  2.0340e+00,\n",
      "           7.9638e-02, -8.5178e-01, -8.5751e-01,  1.2785e+00,  1.7811e+00],\n",
      "         [-2.4622e+00,  9.9170e-01, -1.4362e+00,  3.4582e-01, -1.4572e+00,\n",
      "          -2.5940e-01,  8.2165e-01, -1.6700e+00, -3.0629e-01,  2.0758e+00],\n",
      "         [-6.2706e-01, -1.4755e-01, -1.1000e+00, -5.4655e-01, -7.1206e-01,\n",
      "           2.5396e-01, -5.6323e-02, -1.2092e+00,  7.4207e-01, -8.4399e-01],\n",
      "         [ 2.6235e-01,  1.3070e+00, -3.8760e-01, -1.8000e+00, -6.7184e-01,\n",
      "          -7.6848e-01, -1.3349e+00,  1.2020e+00, -8.9860e-01,  7.3192e-01],\n",
      "         [ 4.2980e-01,  8.1418e-01,  1.7073e-01, -7.9484e-01,  1.7050e+00,\n",
      "           9.2907e-01,  6.2423e-01, -1.2799e+00, -8.9007e-03, -4.5258e-01],\n",
      "         [ 2.0169e+00, -1.9677e-01,  1.9177e+00,  3.2481e-01,  1.4269e+00,\n",
      "          -1.2166e+00,  4.2491e-01,  4.7634e-01,  6.8458e-01, -9.5693e-01],\n",
      "         [-1.0510e-01,  1.2243e+00,  1.0075e-01, -4.6989e-01,  2.2811e-01,\n",
      "          -6.7978e-01,  2.8723e-01, -2.0696e+00, -7.2141e-02, -1.5155e+00],\n",
      "         [ 4.1389e-01, -8.6722e-01, -9.6323e-01, -1.7890e+00, -4.0312e-01,\n",
      "          -1.0373e-01,  6.5015e-01, -8.5466e-01, -4.2197e-01,  2.3361e-01],\n",
      "         [ 7.5374e-01,  1.4901e-01,  6.0474e-01, -8.4591e-01,  1.2409e+00,\n",
      "           1.1614e+00,  2.7340e-01, -1.6333e-01, -2.6784e-01, -6.1875e-02]],\n",
      "\n",
      "        [[ 4.1919e-02,  1.2101e+00,  2.0696e-01,  2.0270e-01, -1.7900e+00,\n",
      "          -4.0582e-01, -1.2459e+00,  9.9161e-01, -3.8106e-01,  1.9466e+00],\n",
      "         [ 1.4682e+00,  1.8306e-01, -1.2471e+00, -6.7956e-01,  2.9158e-01,\n",
      "           3.0507e-01, -2.8173e+00,  1.9145e+00,  5.9689e-01, -2.8515e-01],\n",
      "         [-3.6161e-01, -1.5462e+00,  4.3166e-01,  1.5931e+00,  1.0455e+00,\n",
      "           3.6921e-01,  6.2534e-01,  5.8594e-01,  2.1452e+00, -1.8236e-01],\n",
      "         [ 8.3506e-01, -1.9772e-01, -9.9016e-01,  3.6685e-02, -3.6919e-01,\n",
      "          -7.1481e-01, -7.6686e-01, -1.0093e+00, -8.3426e-01, -4.7812e-01],\n",
      "         [ 1.0125e+00, -5.1307e-01, -1.5341e-01, -8.9291e-01,  3.2309e-01,\n",
      "           2.5680e+00,  7.6167e-01,  2.7050e-01, -1.9338e-01,  9.5664e-02],\n",
      "         [ 1.4580e+00,  3.1912e-01,  6.1500e-02, -1.9269e+00, -2.3258e-01,\n",
      "          -1.6201e-02,  1.0458e-01, -4.1547e-01, -7.6265e-01, -6.5703e-01],\n",
      "         [-1.7899e-01, -6.4065e-01, -1.0460e+00,  9.3748e-01, -5.9909e-01,\n",
      "          -1.5388e+00, -2.9700e-01, -5.6331e-01, -8.7761e-01, -1.2091e+00],\n",
      "         [ 1.4317e-02, -7.8224e-01, -7.3820e-01, -9.7061e-01,  1.4011e-01,\n",
      "          -5.0688e-01,  1.8947e+00,  5.3150e-01,  5.0678e-01, -7.1405e-01],\n",
      "         [ 7.8259e-01,  8.9455e-01,  3.0638e-01, -1.2676e+00,  8.5315e-01,\n",
      "           3.9732e-01, -3.1145e-01, -4.0425e-01, -1.6064e+00,  5.0085e-01],\n",
      "         [-9.3542e-01, -1.1074e+00,  1.2154e-03, -1.2485e-01, -2.6185e-02,\n",
      "          -9.9142e-01, -3.4530e-01, -2.0941e-01,  3.0088e-01, -2.5602e-01]],\n",
      "\n",
      "        [[ 1.3521e+00, -2.8455e-01, -1.7247e+00,  3.0903e-01,  6.8020e-01,\n",
      "           4.0682e-01,  4.8274e-01,  2.4288e-01,  6.5209e-01,  2.1436e-01],\n",
      "         [-5.6311e-01, -2.1638e+00, -8.4921e-01,  1.4065e+00,  4.4064e-01,\n",
      "           6.0392e-01, -5.1615e-01, -1.5375e+00,  2.0982e-02,  2.5232e-01],\n",
      "         [ 4.0534e-01,  1.6193e+00, -6.9549e-01,  8.0951e-01, -4.1240e-01,\n",
      "          -6.8686e-01,  1.0001e+00,  1.3047e-01,  8.0225e-02,  9.4415e-01],\n",
      "         [ 1.3622e+00, -8.9476e-02,  1.0804e+00,  7.3575e-01,  2.5025e-01,\n",
      "           1.3768e-01,  3.8016e-01,  1.9262e+00, -3.0675e-01,  2.7474e-01],\n",
      "         [ 2.3709e+00, -5.8145e-01,  5.0078e-01,  1.0434e+00,  8.6789e-01,\n",
      "          -1.4801e-01, -5.1415e-01, -3.8464e-01,  6.8862e-02,  5.9592e-01],\n",
      "         [ 1.2414e+00, -9.6065e-01, -2.6998e+00,  6.4900e-01, -3.0083e+00,\n",
      "          -7.7722e-01,  1.4104e+00, -2.1100e-01,  5.1023e-01,  1.3781e+00],\n",
      "         [ 1.8371e+00,  7.0324e-01,  1.2287e+00, -1.0066e+00, -1.6704e-01,\n",
      "           6.1613e-01, -1.4139e+00,  5.7863e-01, -1.0079e-01, -1.8687e+00],\n",
      "         [-2.0045e+00, -1.0962e+00, -5.0755e-01, -9.0510e-02, -9.7672e-01,\n",
      "           5.6936e-01,  1.4413e+00,  1.7931e-01, -3.3318e-02,  7.5658e-02],\n",
      "         [ 6.9061e-01, -1.0915e-01, -1.9082e+00,  4.6086e-01, -6.0759e-01,\n",
      "          -1.0880e-01,  2.5362e-01,  5.8118e-01, -1.9319e-01,  4.7039e-01],\n",
      "         [-4.6676e-01, -1.6219e+00, -3.2167e-01, -8.9382e-01,  1.2614e+00,\n",
      "          -1.3352e+00,  1.9422e-02,  1.5121e+00,  7.3966e-01, -3.5565e-01]]])\n"
     ]
    }
   ],
   "source": [
    "for batch in myDataLoader:\n",
    "    print(type(batch))\n",
    "    print(batch)\n",
    "    break"
   ]
  },
  {
   "cell_type": "code",
   "execution_count": 6,
   "id": "c21d6493-5fc6-4e19-addb-1f2a676dea1a",
   "metadata": {},
   "outputs": [],
   "source": [
    "class myDictDataset(Dataset):\n",
    "    def __init__(self):\n",
    "        super(myDictDataset, self).__init__()\n",
    "        self.x = t.randn(1024, 10)\n",
    "        self.y = t.randn(1024)\n",
    "    def __len__(self):\n",
    "        return 1024\n",
    "    def __getitem__(self, idx):\n",
    "        return {'x':self.x[idx,:], 'y':self.y[idx]}"
   ]
  },
  {
   "cell_type": "code",
   "execution_count": 7,
   "id": "0d4bf350-46dc-40d7-bde5-a530708d63ab",
   "metadata": {},
   "outputs": [],
   "source": [
    "dict_dataset = myDictDataset()\n",
    "dict_data_loader = DataLoader(dict_dataset, batch_size=8, shuffle=True)"
   ]
  },
  {
   "cell_type": "code",
   "execution_count": 8,
   "id": "bc03b77d-e921-4820-aded-e96227b4a1ef",
   "metadata": {},
   "outputs": [
    {
     "name": "stdout",
     "output_type": "stream",
     "text": [
      "<class 'dict'>\n",
      "{'x': tensor([[ 3.9640e-01,  4.1741e-01,  1.4149e+00,  1.2494e+00,  4.4478e-01,\n",
      "          3.4844e-01, -1.6358e+00,  6.3027e-01,  2.0127e-01, -1.6155e+00],\n",
      "        [-4.8166e-01,  9.1485e-01, -1.4071e+00, -5.3531e-01,  2.3638e+00,\n",
      "          5.2530e-01, -1.7273e+00,  1.6220e+00, -7.2781e-01,  2.0504e-01],\n",
      "        [-9.3257e-01,  1.1848e-01, -5.8681e-02,  4.2096e-02, -2.3757e-01,\n",
      "          1.8675e+00,  9.6308e-01, -9.9944e-01,  3.9960e-01, -1.2797e+00],\n",
      "        [ 2.0033e+00,  3.6807e-01, -1.2842e+00, -9.4076e-01, -1.4578e+00,\n",
      "         -9.6587e-01,  2.4746e-01,  5.0514e-01, -1.6296e+00, -9.5701e-01],\n",
      "        [ 1.0384e+00, -8.1384e-01, -9.6765e-01,  3.0825e-01,  8.6444e-01,\n",
      "          1.6183e+00, -1.4120e+00,  1.0104e+00,  1.4594e+00, -7.2649e-01],\n",
      "        [-9.7242e-01,  1.7257e-03,  9.9869e-01,  9.8795e-01, -4.9672e-01,\n",
      "         -1.5989e+00,  8.3445e-01,  8.9663e-01,  7.3790e-01,  7.6431e-01],\n",
      "        [ 1.0440e-01, -1.7642e+00,  6.5688e-01, -1.2589e-03,  8.1045e-01,\n",
      "         -9.7647e-03, -2.1733e-01, -1.9396e+00, -1.5535e+00,  4.9166e-02],\n",
      "        [-1.8875e-01, -1.4251e-02, -1.2292e+00,  1.0749e+00,  1.6792e+00,\n",
      "          1.0890e+00,  1.8033e-01, -3.4839e+00,  7.7866e-01,  3.3762e-02]]), 'y': tensor([ 1.1379,  1.5105, -0.2330,  0.2670,  2.0950,  0.4066,  0.6091, -0.5909])}\n"
     ]
    }
   ],
   "source": [
    "for batch in dict_data_loader:\n",
    "    print(type(batch))\n",
    "    print(batch)\n",
    "    break"
   ]
  },
  {
   "cell_type": "code",
   "execution_count": 9,
   "id": "713c6475-d826-4b28-a9db-9eb99fc583d6",
   "metadata": {},
   "outputs": [],
   "source": [
    "from torch.utils.data import TensorDataset # specific dataset class\n",
    "x = t.randn(10, 100)\n",
    "y = t.randn(10)\n",
    "tensor_dataset = TensorDataset(x, y)"
   ]
  },
  {
   "cell_type": "markdown",
   "id": "0616119c-9629-4df1-b25b-bd67975eac69",
   "metadata": {},
   "source": [
    "# model"
   ]
  },
  {
   "cell_type": "markdown",
   "id": "c02725f2-7a35-4161-ad0a-25d292dbf7c4",
   "metadata": {},
   "source": [
    "构建网络的时候最麻烦的就是dimension"
   ]
  },
  {
   "cell_type": "code",
   "execution_count": 10,
   "id": "675d3ae9-6be8-4f06-a69d-9a22d479ca7a",
   "metadata": {},
   "outputs": [],
   "source": [
    "import torch\n",
    "import torch.nn as nn\n",
    "x = torch.rand([8, 100, 10]).detach()\n",
    "y = torch.rand(8)\n",
    "y = (y>0.5).int() # 变成分类问题"
   ]
  },
  {
   "cell_type": "code",
   "execution_count": 11,
   "id": "ac63974f-bc95-402e-8dce-dca909c10d5c",
   "metadata": {},
   "outputs": [],
   "source": [
    "class MLP(nn.Module):\n",
    "    def __init__(self):\n",
    "        super(MLP, self).__init__()\n",
    "        self.first_layer = nn.Linear(1000, 50)\n",
    "        self.second_layer = nn.Linear(50, 1)\n",
    "    def forward(self, x):\n",
    "        x = torch.flatten(x, start_dim = 1, end_dim = 2)\n",
    "        x = nn.functional.relu(self.first_layer(x))\n",
    "        x = self.second_layer(x)\n",
    "        return x"
   ]
  },
  {
   "cell_type": "code",
   "execution_count": 12,
   "id": "45b2338e-9efc-47cc-a294-93c0ffe40057",
   "metadata": {},
   "outputs": [
    {
     "data": {
      "text/plain": [
       "tensor([[-0.2913],\n",
       "        [-0.2884],\n",
       "        [-0.2988],\n",
       "        [-0.3141],\n",
       "        [-0.2575],\n",
       "        [-0.1869],\n",
       "        [-0.2789],\n",
       "        [-0.3035]], grad_fn=<AddmmBackward>)"
      ]
     },
     "execution_count": 12,
     "metadata": {},
     "output_type": "execute_result"
    }
   ],
   "source": [
    "mlp = MLP()\n",
    "output = mlp(x)\n",
    "output"
   ]
  },
  {
   "cell_type": "code",
   "execution_count": 13,
   "id": "434a8ded-7045-4980-a28f-e3cee58b01f7",
   "metadata": {},
   "outputs": [],
   "source": [
    "class Embedding(nn.Module):\n",
    "    def __init__(self):\n",
    "        super(Embedding, self).__init__()\n",
    "        self.embedding = nn.Embedding(4, 100)\n",
    "    def forward(self, x):\n",
    "        return self.embedding(x)"
   ]
  },
  {
   "cell_type": "code",
   "execution_count": 14,
   "id": "0fa4e959-9f5c-4007-bd89-6ded1c696352",
   "metadata": {},
   "outputs": [],
   "source": [
    "embedding = Embedding()\n",
    "embedding_input = t.tensor([[0, 1, 0],[2, 3, 3]])\n",
    "embedding_output = embedding(embedding_input)"
   ]
  },
  {
   "cell_type": "code",
   "execution_count": 17,
   "id": "476ca5da-3a80-47af-a3ad-889060ed52f8",
   "metadata": {},
   "outputs": [
    {
     "data": {
      "text/plain": [
       "torch.Size([2, 3, 100])"
      ]
     },
     "execution_count": 17,
     "metadata": {},
     "output_type": "execute_result"
    }
   ],
   "source": [
    "embedding_output.shape"
   ]
  },
  {
   "cell_type": "code",
   "execution_count": 18,
   "id": "79aedf9c-ec62-42a4-8b49-1a56dcb46a3e",
   "metadata": {},
   "outputs": [],
   "source": [
    "class LSTM(nn.Module):\n",
    "    def __init__(self):\n",
    "        super(LSTM, self).__init__()\n",
    "        self.lstm = nn.LSTM(10, 15, num_layers = 2, bidirectional=True, dropout=0.1)\n",
    "    def forward(self, x):\n",
    "        output, (hidden, cell) = self.lstm(x)\n",
    "        return output, hidden, cell"
   ]
  },
  {
   "cell_type": "code",
   "execution_count": 20,
   "id": "d5d98469-e59e-46ff-98e6-4d24e8fe835e",
   "metadata": {},
   "outputs": [
    {
     "data": {
      "text/plain": [
       "(torch.Size([100, 8, 30]), torch.Size([4, 8, 15]), torch.Size([4, 8, 15]))"
      ]
     },
     "execution_count": 20,
     "metadata": {},
     "output_type": "execute_result"
    }
   ],
   "source": [
    "permute_x = x.permute([1, 0, 2])\n",
    "lstm = LSTM()\n",
    "output_lstm1, output_lstm2, output_lstm3 = lstm(permute_x)\n",
    "output_lstm1.shape, output_lstm2.shape, output_lstm3.shape"
   ]
  },
  {
   "cell_type": "code",
   "execution_count": 21,
   "id": "e79c8247-2792-42a4-a56b-2d8ca3ed0101",
   "metadata": {},
   "outputs": [],
   "source": [
    "class Conv(nn.Module):\n",
    "    def __init__(self):\n",
    "        super(Conv, self).__init__()\n",
    "        self.conv1d = nn.Conv1d(100, 50, 2)\n",
    "    def forward(self, x):\n",
    "        return self.conv1d(x)"
   ]
  },
  {
   "cell_type": "code",
   "execution_count": 22,
   "id": "22603961-da6e-4687-9022-79e0c483c395",
   "metadata": {},
   "outputs": [
    {
     "data": {
      "text/plain": [
       "torch.Size([8, 50, 9])"
      ]
     },
     "execution_count": 22,
     "metadata": {},
     "output_type": "execute_result"
    }
   ],
   "source": [
    "conv = Conv()\n",
    "output = conv(x)\n",
    "output.shape"
   ]
  },
  {
   "cell_type": "markdown",
   "id": "151a387c-eccb-4b01-b3a6-813ba73b7f8c",
   "metadata": {},
   "source": [
    "# 文本分类"
   ]
  },
  {
   "cell_type": "code",
   "execution_count": 23,
   "id": "75559717-ebb6-4d54-9c80-14d86759ed76",
   "metadata": {},
   "outputs": [
    {
     "name": "stderr",
     "output_type": "stream",
     "text": [
      "[nltk_data] Downloading package punkt to\n",
      "[nltk_data]     C:\\Users\\小钒\\AppData\\Roaming\\nltk_data...\n",
      "[nltk_data]   Package punkt is already up-to-date!\n"
     ]
    },
    {
     "data": {
      "text/plain": [
       "True"
      ]
     },
     "execution_count": 23,
     "metadata": {},
     "output_type": "execute_result"
    }
   ],
   "source": [
    "import nltk\n",
    "nltk.download('punkt')"
   ]
  },
  {
   "cell_type": "code",
   "execution_count": 24,
   "id": "f46de399-ffb9-4418-a195-c4554044b8b0",
   "metadata": {},
   "outputs": [],
   "source": [
    "from nltk.tokenize import word_tokenize\n",
    "tokenizer = word_tokenize"
   ]
  },
  {
   "cell_type": "code",
   "execution_count": 28,
   "id": "3fd9d063-e576-40e1-88f6-c05b0f1b2f33",
   "metadata": {},
   "outputs": [
    {
     "ename": "AttributeError",
     "evalue": "module 'torchtext.data' has no attribute 'Field'",
     "output_type": "error",
     "traceback": [
      "\u001b[1;31m---------------------------------------------------------------------------\u001b[0m",
      "\u001b[1;31mAttributeError\u001b[0m                            Traceback (most recent call last)",
      "\u001b[1;32m<ipython-input-28-f96aa1ed5fe0>\u001b[0m in \u001b[0;36m<module>\u001b[1;34m\u001b[0m\n\u001b[0;32m      8\u001b[0m \u001b[0mtorch\u001b[0m\u001b[1;33m.\u001b[0m\u001b[0mbackends\u001b[0m\u001b[1;33m.\u001b[0m\u001b[0mcudnn\u001b[0m\u001b[1;33m.\u001b[0m\u001b[0mdeterministicc\u001b[0m \u001b[1;33m=\u001b[0m \u001b[1;32mTrue\u001b[0m\u001b[1;33m\u001b[0m\u001b[0m\n\u001b[0;32m      9\u001b[0m \u001b[1;33m\u001b[0m\u001b[0m\n\u001b[1;32m---> 10\u001b[1;33m \u001b[0mTEXT\u001b[0m \u001b[1;33m=\u001b[0m \u001b[0mdata\u001b[0m\u001b[1;33m.\u001b[0m\u001b[0mField\u001b[0m\u001b[1;33m(\u001b[0m\u001b[0mtokenize\u001b[0m \u001b[1;33m=\u001b[0m \u001b[0mtokenizer\u001b[0m\u001b[1;33m,\u001b[0m \u001b[0minclude_lengths\u001b[0m \u001b[1;33m=\u001b[0m \u001b[1;32mTrue\u001b[0m\u001b[1;33m)\u001b[0m\u001b[1;33m\u001b[0m\u001b[0m\n\u001b[0m\u001b[0;32m     11\u001b[0m \u001b[0mLABEL\u001b[0m \u001b[1;33m=\u001b[0m \u001b[0mdata\u001b[0m\u001b[1;33m.\u001b[0m\u001b[0mLabelField\u001b[0m\u001b[1;33m(\u001b[0m\u001b[0mdtype\u001b[0m \u001b[1;33m=\u001b[0m \u001b[0mtorch\u001b[0m\u001b[1;33m.\u001b[0m\u001b[0mfloat\u001b[0m\u001b[1;33m)\u001b[0m\u001b[1;33m\u001b[0m\u001b[0m\n",
      "\u001b[1;31mAttributeError\u001b[0m: module 'torchtext.data' has no attribute 'Field'"
     ]
    }
   ],
   "source": [
    "import torch\n",
    "from torchtext import data\n",
    "from torchtext import datasets\n",
    "\n",
    "SEED = 1234\n",
    "\n",
    "torch.manual_seed(SEED)\n",
    "torch.backends.cudnn.deterministicc = True\n",
    "\n",
    "TEXT = data.Field(tokenize = tokenizer, include_lengths = True)\n",
    "LABEL = data.LabelField(dtype = torch.float)"
   ]
  },
  {
   "cell_type": "code",
   "execution_count": null,
   "id": "13475306-42ba-4196-9b98-cce6d28064d2",
   "metadata": {},
   "outputs": [],
   "source": [
    "from torchtext import datasets\n",
    "train_data, test_data = datasets.IMDB.splits(TEXT, LABEL) # 除了下载分词也做了，所以比较慢\n",
    "import random\n",
    "train_data, valid_data = train_data.split(random_state= random.seed(SEED))\n",
    "MAX_VOCAB_SIZE = 25000\n",
    "\n",
    "TEXT.build_vocab(train_data, max_size = MAX_VOCAB_SIZE, vectors = \"glove.6B.300d\", unk_init = torch.Tensor.normal_) # google wordvec 6word guess\n",
    "LABEL.build_vocab(train_data)\n",
    "BATCH_SIZE = 8\n",
    "# device = torch.device('cuda' if torch.cuda.is_available() else 'cpu')\n",
    "device = torch.device('cpu')\n",
    "device"
   ]
  },
  {
   "cell_type": "code",
   "execution_count": null,
   "id": "c2b7f58b-00fd-4f94-8f29-b4ca58c701bc",
   "metadata": {},
   "outputs": [],
   "source": [
    "# dataloader\n",
    "train_iterator, valid_iterator, test_iterator = data.BucketIterator.splits((train_data, valid_data, test_data), batch_size=BATCH_SIZE,\n",
    "                                                                            sort_within_batch=True,device = device)"
   ]
  },
  {
   "cell_type": "code",
   "execution_count": null,
   "id": "4aa6ccff-cfd6-4dbe-ac24-f0c3c1fb3982",
   "metadata": {},
   "outputs": [],
   "source": [
    "import torch.nn as nn\n",
    "\n",
    "class RNN(nn.Module):\n",
    "    def __init__(self, vocab_size, embedding_dim, hidden_dim, output_dim, n_layers, \n",
    "                 bidirectional, dropout, pad_idx):\n",
    "        super().__init__()\n",
    "        self.embedding = nn.Embedding(vocab_size, embedding_dim, padding_idx = pad_idx)\n",
    "        self.rnn = nn.LSTM(embedding_dim, \n",
    "                           hidden_dim, \n",
    "                           num_layers=n_layers, \n",
    "                           bidirectional=bidirectional, \n",
    "                           dropout=dropout)\n",
    "        self.fc = nn.Linear(hidden_dim * 2, output_dim)\n",
    "        self.dropout = nn.Dropout(dropout)\n",
    "    def forward(self, text, text_lengths):\n",
    "        embedded = self.embedding(text)\n",
    "        text_lengths = torch.tensor(list(text_lengths)).int()\n",
    "        packed_embedded = nn.utils.rnn.pack_padded_sequence(embedded, text_lengths)\n",
    "        packed_output, (hidden, cell) = self.rnn(packed_embedded)\n",
    "        output, output_lengths = nn.utils.rnn.pad_packed_sequence(packed_output)\n",
    "        hidden = self.dropout(torch.cat((hidden[-2,:,:], hidden[-1,:,:]), dim = 1))    \n",
    "        return self.fc(hidden)"
   ]
  },
  {
   "cell_type": "code",
   "execution_count": null,
   "id": "ad9e03b7-4361-46ec-80f4-86ccc0ecb22e",
   "metadata": {},
   "outputs": [],
   "source": [
    "INPUT_DIM = len(TEXT.vocab)\n",
    "EMBEDDING_DIM = 300\n",
    "HIDDEN_DIM = 256\n",
    "OUTPUT_DIM = 1\n",
    "N_LAYERS = 2\n",
    "BIDIRECTIONAL = True\n",
    "DROPOUT = 0.2\n",
    "PAD_IDX = TEXT.vocab.stoi[TEXT.pad_token]\n",
    "model = RNN(INPUT_DIM,EMBEDDING_DIM,HIDDEN_DIM,OUTPUT_DIM,N_LAYERS,BIDIRECTIONAL,DROPOUT,PAD_IDX)"
   ]
  },
  {
   "cell_type": "code",
   "execution_count": null,
   "id": "22e86de6-8249-4347-8530-022862bd5c1d",
   "metadata": {},
   "outputs": [],
   "source": [
    "pretrained_embeddings = TEXT.vocab.vectors\n",
    "model.embedding.weight.data.copy_(pretrained_embeddings) # 把embedding给model"
   ]
  },
  {
   "cell_type": "code",
   "execution_count": null,
   "id": "32b88106-b0cd-45ab-8cae-370339d314ff",
   "metadata": {},
   "outputs": [],
   "source": [
    "UNK_IDX = TEXT.vocab.stoi[TEXT.unk_token]\n",
    "model.embedding.weight.data[UNK_IDX] = torch.zeros(EMBEDDING_DIM)\n",
    "model.embedding.weight.data[PAD_IDX] = torch.zeros(EMBEDDING_DIM)"
   ]
  },
  {
   "cell_type": "code",
   "execution_count": null,
   "id": "a0c97a45-fcf4-40fe-9531-74ddf31824f5",
   "metadata": {},
   "outputs": [],
   "source": [
    "import torch.optim as optim\n",
    "\n",
    "optimizer = optim.Adam(model.parameters())\n",
    "criterion = nn.BCEWithLogitsLoss()\n",
    "\n",
    "model = model.to(device)\n",
    "criterion = criterion.to(device)"
   ]
  },
  {
   "cell_type": "code",
   "execution_count": null,
   "id": "f14b64bd-56a3-4adc-9feb-55fe989116db",
   "metadata": {},
   "outputs": [],
   "source": [
    "def binary_accuracy(preds, y):\n",
    "    \"\"\"\n",
    "    Returns accuracy per batch, i.e. if you get 8/10 right, this returns 0.8, NOT 8\n",
    "    \"\"\"\n",
    "\n",
    "    #round predictions to the closest integer\n",
    "    rounded_preds = torch.round(torch.sigmoid(preds))\n",
    "    correct = (rounded_preds == y).float() #convert into float for division \n",
    "    acc = correct.sum() / len(correct)\n",
    "    return acc"
   ]
  },
  {
   "cell_type": "code",
   "execution_count": null,
   "id": "e648bb42-a476-42f2-8b1a-4bc9129d5040",
   "metadata": {},
   "outputs": [],
   "source": [
    "def train(model, iterator, optimizer, criterion):\n",
    "    epoch_loss = 0\n",
    "    epoch_acc = 0\n",
    "    model.train()\n",
    "    length_when = 0\n",
    "    for batch in iterator:\n",
    "        optimizer.zero_grad()\n",
    "        text, text_lengths = batch.text\n",
    "        predictions = model(text, text_lengths).squeeze(1)\n",
    "        loss = criterion(predictions, batch.label)\n",
    "        acc = binary_accuracy(predictions, batch.label)\n",
    "        # print(f'predictions : {predictions},loss: {loss}, acc : {acc}')\n",
    "        loss.backward()\n",
    "        optimizer.step()\n",
    "        epoch_loss += loss.item()\n",
    "        epoch_acc += acc.item()\n",
    "        length_when += 1\n",
    "        print(f'epoch loss: {epoch_loss / length_when}, epoch_acc : {epoch_acc / length_when}')\n",
    "    return epoch_loss / len(iterator), epoch_acc / len(iterator)"
   ]
  },
  {
   "cell_type": "code",
   "execution_count": null,
   "id": "68ee4d94-8ce3-44bc-ae07-eb8788ae9f04",
   "metadata": {},
   "outputs": [],
   "source": [
    "def evaluate(model, iterator, criterion):\n",
    "    epoch_loss = 0\n",
    "    epoch_acc = 0\n",
    "    model.eval()\n",
    "    length_when = 0\n",
    "    with torch.no_grad():\n",
    "        for batch in iterator:\n",
    "            text, text_lengths = batch.text\n",
    "            predictions = model(text, text_lengths).squeeze(1)\n",
    "            loss = criterion(predictions, batch.label)\n",
    "            acc = binary_accuracy(predictions, batch.label)\n",
    "            # print(f'predictions : {predictions},loss: {loss}, acc : {acc}')\n",
    "            epoch_loss += loss.item()\n",
    "            epoch_acc += acc.item()\n",
    "            length_when += 1\n",
    "            print(f'epoch loss: {epoch_loss / length_when}, epoch_acc : {epoch_acc / length_when}')\n",
    "    return epoch_loss / len(iterator), epoch_acc / len(iterator)"
   ]
  },
  {
   "cell_type": "code",
   "execution_count": null,
   "id": "1818f2c2-4a5b-440e-be6b-19c78e6461df",
   "metadata": {},
   "outputs": [],
   "source": [
    "import time\n",
    "def epoch_time(start_time, end_time):\n",
    "    elapsed_time = end_time - start_time\n",
    "    elapsed_mins = int(elapsed_time / 60)\n",
    "    elapsed_secs = int(elapsed_time - (elapsed_mins * 60))\n",
    "    return elapsed_mins, elapsed_secs"
   ]
  },
  {
   "cell_type": "code",
   "execution_count": null,
   "id": "22d4620a-730c-49b8-a2ac-2f7e439cf16f",
   "metadata": {},
   "outputs": [],
   "source": [
    "N_EPOCHS = 2\n",
    "best_valid_loss = float('inf')\n",
    "for epoch in range(N_EPOCHS):\n",
    "    start_time = time.time()\n",
    "    train_loss, train_acc = train(model, train_iterator, optimizer, criterion)\n",
    "    valid_loss, valid_acc = evaluate(model, valid_iterator, criterion)\n",
    "    end_time = time.time()\n",
    "\n",
    "    epoch_mins, epoch_secs = epoch_time(start_time, end_time)\n",
    "    \n",
    "    if valid_loss < best_valid_loss:\n",
    "        best_valid_loss = valid_loss\n",
    "        torch.save(model.state_dict(), 'model.pt')\n",
    "    \n",
    "    print(f'Epoch: {epoch+1:02} | Epoch Time: {epoch_mins}m {epoch_secs}s')\n",
    "    print(f'\\tTrain Loss: {train_loss:.3f} | Train Acc: {train_acc*100:.2f}%')\n",
    "    print(f'\\t Val. Loss: {valid_loss:.3f} |  Val. Acc: {valid_acc*100:.2f}%')"
   ]
  },
  {
   "cell_type": "code",
   "execution_count": null,
   "id": "369ed657-f7e8-4219-8b37-0ada687a242b",
   "metadata": {},
   "outputs": [],
   "source": [
    "model.load_state_dict(torch.load('model.pt'))\n",
    "\n",
    "test_loss, test_acc = evaluate(model, test_iterator, criterion)\n",
    "\n",
    "print(f'Test Loss: {test_loss:.3f} | Test Acc: {test_acc*100:.2f}%')"
   ]
  },
  {
   "cell_type": "markdown",
   "id": "50052e91-d9e9-4d3e-b876-6d749405a745",
   "metadata": {},
   "source": [
    "# Structured Data Mining"
   ]
  },
  {
   "cell_type": "code",
   "execution_count": null,
   "id": "478717f2-0051-4188-af4c-3aa0174c3d79",
   "metadata": {},
   "outputs": [],
   "source": [
    "! wget https://www.stats.govt.nz/assets/Uploads/New-Zealand-business-demography-statistics/New-Zealand-business-demography-statistics-At-February-2019/Download-data/geographic-units-by-industry-and-statistical-area-2000-19-descending-order.zip"
   ]
  },
  {
   "cell_type": "code",
   "execution_count": null,
   "id": "0c23476e-1408-4211-9f64-5ed6ebea7fe4",
   "metadata": {},
   "outputs": [],
   "source": [
    "import pandas as pd\n",
    "in_file = \"./geographic_data/Data7602DescendingYearOrder.csv\"\n",
    "data = pd.read_csv(in_file, engine='python')\n",
    "data.head()"
   ]
  },
  {
   "cell_type": "code",
   "execution_count": null,
   "id": "842c04c3-fefe-4116-b2d9-6db8c5746d0a",
   "metadata": {},
   "outputs": [],
   "source": [
    "data.columns.values\n",
    "# data.to_csv(\"out_file.csv\", index = False, encoding='utf-8', sep='\\t') #写入csv"
   ]
  },
  {
   "cell_type": "code",
   "execution_count": null,
   "id": "53a41ac2-8f14-4681-9fb9-551758f561c4",
   "metadata": {},
   "outputs": [],
   "source": []
  }
 ],
 "metadata": {
  "kernelspec": {
   "display_name": "Python [conda env:Deep]",
   "language": "python",
   "name": "deep"
  },
  "language_info": {
   "codemirror_mode": {
    "name": "ipython",
    "version": 3
   },
   "file_extension": ".py",
   "mimetype": "text/x-python",
   "name": "python",
   "nbconvert_exporter": "python",
   "pygments_lexer": "ipython3",
   "version": "3.7.0"
  }
 },
 "nbformat": 4,
 "nbformat_minor": 5
}
